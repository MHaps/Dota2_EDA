{
 "cells": [
  {
   "cell_type": "code",
   "execution_count": 18,
   "metadata": {},
   "outputs": [],
   "source": [
    "import json\n",
    "import altair as alt\n",
    "import plotly.graph_objects as go\n",
    "import plotly.subplots as sp\n",
    "import pandas as pd\n",
    "import numpy as np\n",
    "import seaborn as sns\n",
    "from plotly import express as px\n",
    "import matplotlib.pyplot as plt\n",
    "from matplotlib.patches import Circle, RegularPolygon\n",
    "from matplotlib.path import Path\n",
    "from matplotlib.projections.polar import PolarAxes\n",
    "from matplotlib.projections import register_projection\n",
    "from matplotlib.spines import Spine\n",
    "from matplotlib.transforms import Affine2D\n",
    "import matplotlib.colors as mcolors\n",
    "from sklearn.preprocessing import LabelEncoder\n",
    "from scipy.stats import mannwhitneyu\n",
    "\n",
    "df=pd.read_csv('final_stats.csv')"
   ]
  },
  {
   "cell_type": "code",
   "execution_count": 5,
   "metadata": {},
   "outputs": [
    {
     "data": {
      "text/plain": [
       "ThemeRegistry.enable('my_theme')"
      ]
     },
     "execution_count": 5,
     "metadata": {},
     "output_type": "execute_result"
    }
   ],
   "source": [
    "alt.themes.enable('default')\n",
    "\n",
    "with open('dark_theme.json', 'r') as file:\n",
    "    dark_theme = json.load(file)\n",
    "\n",
    "def my_theme():\n",
    "    dark_theme_config = {\n",
    "    \"config\": {\n",
    "        \"view\": {\"fill\": \"black\"},\n",
    "        \"background\": \"black\",\n",
    "        \"axis\": {\"labelColor\": \"white\", \"titleColor\": \"white\"},\n",
    "        \"text\": {\"color\": \"white\"}\n",
    "    }\n",
    "}\n",
    "    return dark_theme_config\n",
    "\n",
    "alt.themes.register('my_theme', my_theme)\n",
    "alt.themes.enable('my_theme')"
   ]
  },
  {
   "cell_type": "code",
   "execution_count": 6,
   "metadata": {},
   "outputs": [
    {
     "data": {
      "application/vnd.plotly.v1+json": {
       "config": {
        "plotlyServerURL": "https://plot.ly"
       },
       "data": [
        {
         "alignmentgroup": "True",
         "boxpoints": "all",
         "customdata": [
          [
           "Abaddon"
          ],
          [
           "Bane"
          ],
          [
           "Batrider"
          ],
          [
           "Beastmaster"
          ],
          [
           "Brewmaster"
          ],
          [
           "Broodmother"
          ],
          [
           "Chen"
          ],
          [
           "Clockwerk"
          ],
          [
           "Dark Seer"
          ],
          [
           "Dark Willow"
          ],
          [
           "Dazzle"
          ],
          [
           "Enigma"
          ],
          [
           "Io"
          ],
          [
           "Lone Druid"
          ],
          [
           "Lycan"
          ],
          [
           "Magnus"
          ],
          [
           "Marci"
          ],
          [
           "Mirana"
          ],
          [
           "Nyx Assassin"
          ],
          [
           "Pangolier"
          ],
          [
           "Phoenix"
          ],
          [
           "Sand King"
          ],
          [
           "Snapfire"
          ],
          [
           "Techies"
          ],
          [
           "Timbersaw"
          ],
          [
           "Vengeful Spirit"
          ],
          [
           "Venomancer"
          ],
          [
           "Visage"
          ],
          [
           "Void Spirit"
          ],
          [
           "Windranger"
          ],
          [
           "Winter Wyvern"
          ]
         ],
         "hovertemplate": "Name: %{customdata[0]} <br>Immortal Win Rate: %{y}",
         "legendgroup": "all",
         "marker": {
          "color": "purple"
         },
         "name": "all",
         "notched": false,
         "offsetgroup": "all",
         "orientation": "v",
         "showlegend": true,
         "type": "box",
         "x0": " ",
         "xaxis": "x",
         "y": [
          48,
          51.75,
          49.18,
          50.66,
          54.5,
          47.37,
          52.8,
          50.2,
          53.53,
          47.65,
          46.03,
          50.95,
          50.12,
          50.11,
          48.96,
          46.96,
          47.54,
          49.85,
          51.66,
          49.68,
          50.69,
          48.57,
          47.89,
          49.35,
          46.95,
          45.08,
          51.57,
          52.82,
          44.52,
          50.37,
          47.24
         ],
         "y0": " ",
         "yaxis": "y"
        },
        {
         "alignmentgroup": "True",
         "boxpoints": "all",
         "customdata": [
          [
           "Alchemist"
          ],
          [
           "Axe"
          ],
          [
           "Bristleback"
          ],
          [
           "Centaur Warrunner"
          ],
          [
           "Chaos Knight"
          ],
          [
           "Dawnbreaker"
          ],
          [
           "Doom"
          ],
          [
           "Dragon Knight"
          ],
          [
           "Earth Spirit"
          ],
          [
           "Earthshaker"
          ],
          [
           "Elder Titan"
          ],
          [
           "Huskar"
          ],
          [
           "Kunkka"
          ],
          [
           "Legion Commander"
          ],
          [
           "Lifestealer"
          ],
          [
           "Mars"
          ],
          [
           "Night Stalker"
          ],
          [
           "Ogre Magi"
          ],
          [
           "Omniknight"
          ],
          [
           "Primal Beast"
          ],
          [
           "Pudge"
          ],
          [
           "Slardar"
          ],
          [
           "Spirit Breaker"
          ],
          [
           "Sven"
          ],
          [
           "Tidehunter"
          ],
          [
           "Tiny"
          ],
          [
           "Treant Protector"
          ],
          [
           "Tusk"
          ],
          [
           "Underlord"
          ],
          [
           "Undying"
          ],
          [
           "Wraith King"
          ]
         ],
         "hovertemplate": "Name: %{customdata[0]} <br>Immortal Win Rate: %{y}",
         "legendgroup": "str",
         "marker": {
          "color": "red"
         },
         "name": "str",
         "notched": false,
         "offsetgroup": "str",
         "orientation": "v",
         "showlegend": true,
         "type": "box",
         "x0": " ",
         "xaxis": "x",
         "y": [
          48.92,
          49.72,
          46.67,
          46.33,
          51.18,
          53.27,
          42.56,
          44.6,
          51.53,
          53.42,
          53.22,
          51.74,
          50.4,
          56.1,
          46.97,
          45.81,
          49.9,
          45.16,
          49.76,
          51.84,
          48.71,
          46.44,
          52,
          49.68,
          48.01,
          46.32,
          47.57,
          46.97,
          50.11,
          52.83,
          46.2
         ],
         "y0": " ",
         "yaxis": "y"
        },
        {
         "alignmentgroup": "True",
         "boxpoints": "all",
         "customdata": [
          [
           "Ancient Apparition"
          ],
          [
           "Crystal Maiden"
          ],
          [
           "Death Prophet"
          ],
          [
           "Disruptor"
          ],
          [
           "Enchantress"
          ],
          [
           "Grimstroke"
          ],
          [
           "Invoker"
          ],
          [
           "Jakiro"
          ],
          [
           "Keeper of the Light"
          ],
          [
           "Leshrac"
          ],
          [
           "Lich"
          ],
          [
           "Lina"
          ],
          [
           "Lion"
          ],
          [
           "Muerta"
          ],
          [
           "Nature's Prophet"
          ],
          [
           "Necrophos"
          ],
          [
           "Oracle"
          ],
          [
           "Outworld Destroyer"
          ],
          [
           "Puck"
          ],
          [
           "Pugna"
          ],
          [
           "Queen of Pain"
          ],
          [
           "Rubick"
          ],
          [
           "Shadow Demon"
          ],
          [
           "Shadow Shaman"
          ],
          [
           "Silencer"
          ],
          [
           "Skywrath Mage"
          ],
          [
           "Storm Spirit"
          ],
          [
           "Tinker"
          ],
          [
           "Warlock"
          ],
          [
           "Witch Doctor"
          ],
          [
           "Zeus"
          ]
         ],
         "hovertemplate": "Name: %{customdata[0]} <br>Immortal Win Rate: %{y}",
         "legendgroup": "int",
         "marker": {
          "color": "blue"
         },
         "name": "int",
         "notched": false,
         "offsetgroup": "int",
         "orientation": "v",
         "showlegend": true,
         "type": "box",
         "x0": " ",
         "xaxis": "x",
         "y": [
          53.57,
          50.26,
          49.87,
          47.94,
          43.55,
          46.23,
          50.48,
          52.32,
          47.11,
          52.31,
          50,
          43.89,
          47.94,
          50.49,
          39.45,
          50.48,
          54.62,
          50.22,
          48.09,
          53.2,
          48.94,
          49.28,
          49.82,
          48.85,
          50.72,
          51.78,
          49.69,
          55.34,
          49.9,
          46.75,
          49.7
         ],
         "y0": " ",
         "yaxis": "y"
        },
        {
         "alignmentgroup": "True",
         "boxpoints": "all",
         "customdata": [
          [
           "Anti-Mage"
          ],
          [
           "Arc Warden"
          ],
          [
           "Bloodseeker"
          ],
          [
           "Bounty Hunter"
          ],
          [
           "Clinkz"
          ],
          [
           "Drow Ranger"
          ],
          [
           "Ember Spirit"
          ],
          [
           "Faceless Void"
          ],
          [
           "Gyrocopter"
          ],
          [
           "Hoodwink"
          ],
          [
           "Juggernaut"
          ],
          [
           "Luna"
          ],
          [
           "Medusa"
          ],
          [
           "Meepo"
          ],
          [
           "Monkey King"
          ],
          [
           "Morphling"
          ],
          [
           "Naga Siren"
          ],
          [
           "Phantom Assassin"
          ],
          [
           "Phantom Lancer"
          ],
          [
           "Razor"
          ],
          [
           "Riki"
          ],
          [
           "Shadow Fiend"
          ],
          [
           "Slark"
          ],
          [
           "Sniper"
          ],
          [
           "Spectre"
          ],
          [
           "Templar Assassin"
          ],
          [
           "Terrorblade"
          ],
          [
           "Troll Warlord"
          ],
          [
           "Ursa"
          ],
          [
           "Viper"
          ],
          [
           "Weaver"
          ]
         ],
         "hovertemplate": "Name: %{customdata[0]} <br>Immortal Win Rate: %{y}",
         "legendgroup": "agi",
         "marker": {
          "color": "green"
         },
         "name": "agi",
         "notched": false,
         "offsetgroup": "agi",
         "orientation": "v",
         "showlegend": true,
         "type": "box",
         "x0": " ",
         "xaxis": "x",
         "y": [
          47.95,
          49.12,
          50.82,
          51.17,
          51.8,
          49.11,
          49.02,
          51.78,
          47.76,
          44.98,
          48.15,
          48.7,
          51.3,
          56.85,
          47.75,
          47.72,
          55.55,
          47.01,
          49.14,
          50.9,
          53.7,
          45.79,
          52.59,
          49.27,
          49.76,
          51.24,
          46.43,
          49.72,
          47.92,
          47.98,
          49.34
         ],
         "y0": " ",
         "yaxis": "y"
        }
       ],
       "layout": {
        "boxmode": "group",
        "legend": {
         "title": {
          "text": "Primary Attribute"
         },
         "tracegroupgap": 0
        },
        "template": {
         "data": {
          "bar": [
           {
            "error_x": {
             "color": "#f2f5fa"
            },
            "error_y": {
             "color": "#f2f5fa"
            },
            "marker": {
             "line": {
              "color": "rgb(17,17,17)",
              "width": 0.5
             },
             "pattern": {
              "fillmode": "overlay",
              "size": 10,
              "solidity": 0.2
             }
            },
            "type": "bar"
           }
          ],
          "barpolar": [
           {
            "marker": {
             "line": {
              "color": "rgb(17,17,17)",
              "width": 0.5
             },
             "pattern": {
              "fillmode": "overlay",
              "size": 10,
              "solidity": 0.2
             }
            },
            "type": "barpolar"
           }
          ],
          "carpet": [
           {
            "aaxis": {
             "endlinecolor": "#A2B1C6",
             "gridcolor": "#506784",
             "linecolor": "#506784",
             "minorgridcolor": "#506784",
             "startlinecolor": "#A2B1C6"
            },
            "baxis": {
             "endlinecolor": "#A2B1C6",
             "gridcolor": "#506784",
             "linecolor": "#506784",
             "minorgridcolor": "#506784",
             "startlinecolor": "#A2B1C6"
            },
            "type": "carpet"
           }
          ],
          "choropleth": [
           {
            "colorbar": {
             "outlinewidth": 0,
             "ticks": ""
            },
            "type": "choropleth"
           }
          ],
          "contour": [
           {
            "colorbar": {
             "outlinewidth": 0,
             "ticks": ""
            },
            "colorscale": [
             [
              0,
              "#0d0887"
             ],
             [
              0.1111111111111111,
              "#46039f"
             ],
             [
              0.2222222222222222,
              "#7201a8"
             ],
             [
              0.3333333333333333,
              "#9c179e"
             ],
             [
              0.4444444444444444,
              "#bd3786"
             ],
             [
              0.5555555555555556,
              "#d8576b"
             ],
             [
              0.6666666666666666,
              "#ed7953"
             ],
             [
              0.7777777777777778,
              "#fb9f3a"
             ],
             [
              0.8888888888888888,
              "#fdca26"
             ],
             [
              1,
              "#f0f921"
             ]
            ],
            "type": "contour"
           }
          ],
          "contourcarpet": [
           {
            "colorbar": {
             "outlinewidth": 0,
             "ticks": ""
            },
            "type": "contourcarpet"
           }
          ],
          "heatmap": [
           {
            "colorbar": {
             "outlinewidth": 0,
             "ticks": ""
            },
            "colorscale": [
             [
              0,
              "#0d0887"
             ],
             [
              0.1111111111111111,
              "#46039f"
             ],
             [
              0.2222222222222222,
              "#7201a8"
             ],
             [
              0.3333333333333333,
              "#9c179e"
             ],
             [
              0.4444444444444444,
              "#bd3786"
             ],
             [
              0.5555555555555556,
              "#d8576b"
             ],
             [
              0.6666666666666666,
              "#ed7953"
             ],
             [
              0.7777777777777778,
              "#fb9f3a"
             ],
             [
              0.8888888888888888,
              "#fdca26"
             ],
             [
              1,
              "#f0f921"
             ]
            ],
            "type": "heatmap"
           }
          ],
          "heatmapgl": [
           {
            "colorbar": {
             "outlinewidth": 0,
             "ticks": ""
            },
            "colorscale": [
             [
              0,
              "#0d0887"
             ],
             [
              0.1111111111111111,
              "#46039f"
             ],
             [
              0.2222222222222222,
              "#7201a8"
             ],
             [
              0.3333333333333333,
              "#9c179e"
             ],
             [
              0.4444444444444444,
              "#bd3786"
             ],
             [
              0.5555555555555556,
              "#d8576b"
             ],
             [
              0.6666666666666666,
              "#ed7953"
             ],
             [
              0.7777777777777778,
              "#fb9f3a"
             ],
             [
              0.8888888888888888,
              "#fdca26"
             ],
             [
              1,
              "#f0f921"
             ]
            ],
            "type": "heatmapgl"
           }
          ],
          "histogram": [
           {
            "marker": {
             "pattern": {
              "fillmode": "overlay",
              "size": 10,
              "solidity": 0.2
             }
            },
            "type": "histogram"
           }
          ],
          "histogram2d": [
           {
            "colorbar": {
             "outlinewidth": 0,
             "ticks": ""
            },
            "colorscale": [
             [
              0,
              "#0d0887"
             ],
             [
              0.1111111111111111,
              "#46039f"
             ],
             [
              0.2222222222222222,
              "#7201a8"
             ],
             [
              0.3333333333333333,
              "#9c179e"
             ],
             [
              0.4444444444444444,
              "#bd3786"
             ],
             [
              0.5555555555555556,
              "#d8576b"
             ],
             [
              0.6666666666666666,
              "#ed7953"
             ],
             [
              0.7777777777777778,
              "#fb9f3a"
             ],
             [
              0.8888888888888888,
              "#fdca26"
             ],
             [
              1,
              "#f0f921"
             ]
            ],
            "type": "histogram2d"
           }
          ],
          "histogram2dcontour": [
           {
            "colorbar": {
             "outlinewidth": 0,
             "ticks": ""
            },
            "colorscale": [
             [
              0,
              "#0d0887"
             ],
             [
              0.1111111111111111,
              "#46039f"
             ],
             [
              0.2222222222222222,
              "#7201a8"
             ],
             [
              0.3333333333333333,
              "#9c179e"
             ],
             [
              0.4444444444444444,
              "#bd3786"
             ],
             [
              0.5555555555555556,
              "#d8576b"
             ],
             [
              0.6666666666666666,
              "#ed7953"
             ],
             [
              0.7777777777777778,
              "#fb9f3a"
             ],
             [
              0.8888888888888888,
              "#fdca26"
             ],
             [
              1,
              "#f0f921"
             ]
            ],
            "type": "histogram2dcontour"
           }
          ],
          "mesh3d": [
           {
            "colorbar": {
             "outlinewidth": 0,
             "ticks": ""
            },
            "type": "mesh3d"
           }
          ],
          "parcoords": [
           {
            "line": {
             "colorbar": {
              "outlinewidth": 0,
              "ticks": ""
             }
            },
            "type": "parcoords"
           }
          ],
          "pie": [
           {
            "automargin": true,
            "type": "pie"
           }
          ],
          "scatter": [
           {
            "marker": {
             "line": {
              "color": "#283442"
             }
            },
            "type": "scatter"
           }
          ],
          "scatter3d": [
           {
            "line": {
             "colorbar": {
              "outlinewidth": 0,
              "ticks": ""
             }
            },
            "marker": {
             "colorbar": {
              "outlinewidth": 0,
              "ticks": ""
             }
            },
            "type": "scatter3d"
           }
          ],
          "scattercarpet": [
           {
            "marker": {
             "colorbar": {
              "outlinewidth": 0,
              "ticks": ""
             }
            },
            "type": "scattercarpet"
           }
          ],
          "scattergeo": [
           {
            "marker": {
             "colorbar": {
              "outlinewidth": 0,
              "ticks": ""
             }
            },
            "type": "scattergeo"
           }
          ],
          "scattergl": [
           {
            "marker": {
             "line": {
              "color": "#283442"
             }
            },
            "type": "scattergl"
           }
          ],
          "scattermapbox": [
           {
            "marker": {
             "colorbar": {
              "outlinewidth": 0,
              "ticks": ""
             }
            },
            "type": "scattermapbox"
           }
          ],
          "scatterpolar": [
           {
            "marker": {
             "colorbar": {
              "outlinewidth": 0,
              "ticks": ""
             }
            },
            "type": "scatterpolar"
           }
          ],
          "scatterpolargl": [
           {
            "marker": {
             "colorbar": {
              "outlinewidth": 0,
              "ticks": ""
             }
            },
            "type": "scatterpolargl"
           }
          ],
          "scatterternary": [
           {
            "marker": {
             "colorbar": {
              "outlinewidth": 0,
              "ticks": ""
             }
            },
            "type": "scatterternary"
           }
          ],
          "surface": [
           {
            "colorbar": {
             "outlinewidth": 0,
             "ticks": ""
            },
            "colorscale": [
             [
              0,
              "#0d0887"
             ],
             [
              0.1111111111111111,
              "#46039f"
             ],
             [
              0.2222222222222222,
              "#7201a8"
             ],
             [
              0.3333333333333333,
              "#9c179e"
             ],
             [
              0.4444444444444444,
              "#bd3786"
             ],
             [
              0.5555555555555556,
              "#d8576b"
             ],
             [
              0.6666666666666666,
              "#ed7953"
             ],
             [
              0.7777777777777778,
              "#fb9f3a"
             ],
             [
              0.8888888888888888,
              "#fdca26"
             ],
             [
              1,
              "#f0f921"
             ]
            ],
            "type": "surface"
           }
          ],
          "table": [
           {
            "cells": {
             "fill": {
              "color": "#506784"
             },
             "line": {
              "color": "rgb(17,17,17)"
             }
            },
            "header": {
             "fill": {
              "color": "#2a3f5f"
             },
             "line": {
              "color": "rgb(17,17,17)"
             }
            },
            "type": "table"
           }
          ]
         },
         "layout": {
          "annotationdefaults": {
           "arrowcolor": "#f2f5fa",
           "arrowhead": 0,
           "arrowwidth": 1
          },
          "autotypenumbers": "strict",
          "coloraxis": {
           "colorbar": {
            "outlinewidth": 0,
            "ticks": ""
           }
          },
          "colorscale": {
           "diverging": [
            [
             0,
             "#8e0152"
            ],
            [
             0.1,
             "#c51b7d"
            ],
            [
             0.2,
             "#de77ae"
            ],
            [
             0.3,
             "#f1b6da"
            ],
            [
             0.4,
             "#fde0ef"
            ],
            [
             0.5,
             "#f7f7f7"
            ],
            [
             0.6,
             "#e6f5d0"
            ],
            [
             0.7,
             "#b8e186"
            ],
            [
             0.8,
             "#7fbc41"
            ],
            [
             0.9,
             "#4d9221"
            ],
            [
             1,
             "#276419"
            ]
           ],
           "sequential": [
            [
             0,
             "#0d0887"
            ],
            [
             0.1111111111111111,
             "#46039f"
            ],
            [
             0.2222222222222222,
             "#7201a8"
            ],
            [
             0.3333333333333333,
             "#9c179e"
            ],
            [
             0.4444444444444444,
             "#bd3786"
            ],
            [
             0.5555555555555556,
             "#d8576b"
            ],
            [
             0.6666666666666666,
             "#ed7953"
            ],
            [
             0.7777777777777778,
             "#fb9f3a"
            ],
            [
             0.8888888888888888,
             "#fdca26"
            ],
            [
             1,
             "#f0f921"
            ]
           ],
           "sequentialminus": [
            [
             0,
             "#0d0887"
            ],
            [
             0.1111111111111111,
             "#46039f"
            ],
            [
             0.2222222222222222,
             "#7201a8"
            ],
            [
             0.3333333333333333,
             "#9c179e"
            ],
            [
             0.4444444444444444,
             "#bd3786"
            ],
            [
             0.5555555555555556,
             "#d8576b"
            ],
            [
             0.6666666666666666,
             "#ed7953"
            ],
            [
             0.7777777777777778,
             "#fb9f3a"
            ],
            [
             0.8888888888888888,
             "#fdca26"
            ],
            [
             1,
             "#f0f921"
            ]
           ]
          },
          "colorway": [
           "#636efa",
           "#EF553B",
           "#00cc96",
           "#ab63fa",
           "#FFA15A",
           "#19d3f3",
           "#FF6692",
           "#B6E880",
           "#FF97FF",
           "#FECB52"
          ],
          "font": {
           "color": "#f2f5fa"
          },
          "geo": {
           "bgcolor": "rgb(17,17,17)",
           "lakecolor": "rgb(17,17,17)",
           "landcolor": "rgb(17,17,17)",
           "showlakes": true,
           "showland": true,
           "subunitcolor": "#506784"
          },
          "hoverlabel": {
           "align": "left"
          },
          "hovermode": "closest",
          "mapbox": {
           "style": "dark"
          },
          "paper_bgcolor": "rgb(17,17,17)",
          "plot_bgcolor": "rgb(17,17,17)",
          "polar": {
           "angularaxis": {
            "gridcolor": "#506784",
            "linecolor": "#506784",
            "ticks": ""
           },
           "bgcolor": "rgb(17,17,17)",
           "radialaxis": {
            "gridcolor": "#506784",
            "linecolor": "#506784",
            "ticks": ""
           }
          },
          "scene": {
           "xaxis": {
            "backgroundcolor": "rgb(17,17,17)",
            "gridcolor": "#506784",
            "gridwidth": 2,
            "linecolor": "#506784",
            "showbackground": true,
            "ticks": "",
            "zerolinecolor": "#C8D4E3"
           },
           "yaxis": {
            "backgroundcolor": "rgb(17,17,17)",
            "gridcolor": "#506784",
            "gridwidth": 2,
            "linecolor": "#506784",
            "showbackground": true,
            "ticks": "",
            "zerolinecolor": "#C8D4E3"
           },
           "zaxis": {
            "backgroundcolor": "rgb(17,17,17)",
            "gridcolor": "#506784",
            "gridwidth": 2,
            "linecolor": "#506784",
            "showbackground": true,
            "ticks": "",
            "zerolinecolor": "#C8D4E3"
           }
          },
          "shapedefaults": {
           "line": {
            "color": "#f2f5fa"
           }
          },
          "sliderdefaults": {
           "bgcolor": "#C8D4E3",
           "bordercolor": "rgb(17,17,17)",
           "borderwidth": 1,
           "tickwidth": 0
          },
          "ternary": {
           "aaxis": {
            "gridcolor": "#506784",
            "linecolor": "#506784",
            "ticks": ""
           },
           "baxis": {
            "gridcolor": "#506784",
            "linecolor": "#506784",
            "ticks": ""
           },
           "bgcolor": "rgb(17,17,17)",
           "caxis": {
            "gridcolor": "#506784",
            "linecolor": "#506784",
            "ticks": ""
           }
          },
          "title": {
           "x": 0.05
          },
          "updatemenudefaults": {
           "bgcolor": "#506784",
           "borderwidth": 0
          },
          "xaxis": {
           "automargin": true,
           "gridcolor": "#283442",
           "linecolor": "#506784",
           "ticks": "",
           "title": {
            "standoff": 15
           },
           "zerolinecolor": "#283442",
           "zerolinewidth": 2
          },
          "yaxis": {
           "automargin": true,
           "gridcolor": "#283442",
           "linecolor": "#506784",
           "ticks": "",
           "title": {
            "standoff": 15
           },
           "zerolinecolor": "#283442",
           "zerolinewidth": 2
          }
         }
        },
        "title": {
         "text": "Heroes by Primary Attribute vs Immortal Win Rate."
        },
        "xaxis": {
         "anchor": "y",
         "domain": [
          0,
          1
         ]
        },
        "yaxis": {
         "anchor": "x",
         "domain": [
          0,
          1
         ],
         "title": {
          "text": "Immortal Win Rate"
         }
        }
       }
      }
     },
     "metadata": {},
     "output_type": "display_data"
    }
   ],
   "source": [
    "def att_vs_winrate(df, target_col, target_col2):\n",
    "\n",
    "    color_map = {'str': 'red', 'int': 'blue', 'agi': 'green', 'all': 'purple'}\n",
    "    df['Color'] = df['Primary Attribute'].map(color_map)\n",
    "\n",
    "    fig = px.box(df, y=target_col, points='all', title='Heroes by {} vs {}.'.format(target_col2, target_col),\n",
    "                 hover_data=['Name', target_col],\n",
    "                 color='Primary Attribute', color_discrete_map=color_map)\n",
    "    \n",
    "    fig.update_layout(template='plotly_dark', yaxis_title=target_col)\n",
    "\n",
    "    fig.update_traces(hovertemplate='Name: %{customdata[0]} <br>Immortal Win Rate: %{y}')\n",
    "\n",
    "    fig.show()\n",
    "\n",
    "att_vs_winrate (df, 'Immortal Win Rate', 'Primary Attribute')"
   ]
  },
  {
   "cell_type": "code",
   "execution_count": 7,
   "metadata": {},
   "outputs": [
    {
     "data": {
      "application/vnd.plotly.v1+json": {
       "config": {
        "plotlyServerURL": "https://plot.ly"
       },
       "data": [
        {
         "customdata": [
          [
           "Abaddon"
          ],
          [
           "Bane"
          ],
          [
           "Batrider"
          ],
          [
           "Beastmaster"
          ],
          [
           "Brewmaster"
          ],
          [
           "Broodmother"
          ],
          [
           "Chen"
          ],
          [
           "Clockwerk"
          ],
          [
           "Dark Seer"
          ],
          [
           "Dark Willow"
          ],
          [
           "Dazzle"
          ],
          [
           "Enigma"
          ],
          [
           "Io"
          ],
          [
           "Lone Druid"
          ],
          [
           "Lycan"
          ],
          [
           "Magnus"
          ],
          [
           "Marci"
          ],
          [
           "Mirana"
          ],
          [
           "Nyx Assassin"
          ],
          [
           "Pangolier"
          ],
          [
           "Phoenix"
          ],
          [
           "Sand King"
          ],
          [
           "Snapfire"
          ],
          [
           "Techies"
          ],
          [
           "Timbersaw"
          ],
          [
           "Vengeful Spirit"
          ],
          [
           "Venomancer"
          ],
          [
           "Visage"
          ],
          [
           "Void Spirit"
          ],
          [
           "Windranger"
          ],
          [
           "Winter Wyvern"
          ]
         ],
         "hovertemplate": "Name: %{customdata[0]} <br>Immortal Picks %{x} <br>Immortal Win Rate: %{y}",
         "legendgroup": "all",
         "marker": {
          "color": "purple",
          "size": [
           348,
           458,
           1048,
           734,
           400,
           1277,
           452,
           1137,
           1402,
           792,
           354,
           860,
           617,
           224,
           590,
           888,
           560,
           1362,
           1521,
           1682,
           622,
           407,
           2544,
           2900,
           2150,
           463,
           2008,
           759,
           992,
           2984,
           651
          ],
          "sizemode": "area",
          "sizeref": 4.0311111111111115,
          "symbol": "circle"
         },
         "mode": "markers",
         "name": "all",
         "orientation": "v",
         "showlegend": true,
         "type": "scatter",
         "x": [
          725,
          885,
          2131,
          1449,
          734,
          2696,
          856,
          2265,
          2619,
          1662,
          769,
          1688,
          1231,
          447,
          1205,
          1891,
          1178,
          2732,
          2944,
          3386,
          1227,
          838,
          5312,
          5876,
          4579,
          1027,
          3894,
          1437,
          2228,
          5924,
          1378
         ],
         "xaxis": "x",
         "y": [
          48,
          51.75,
          49.18,
          50.66,
          54.5,
          47.37,
          52.8,
          50.2,
          53.53,
          47.65,
          46.03,
          50.95,
          50.12,
          50.11,
          48.96,
          46.96,
          47.54,
          49.85,
          51.66,
          49.68,
          50.69,
          48.57,
          47.89,
          49.35,
          46.95,
          45.08,
          51.57,
          52.82,
          44.52,
          50.37,
          47.24
         ],
         "yaxis": "y"
        },
        {
         "customdata": [
          [
           "Alchemist"
          ],
          [
           "Axe"
          ],
          [
           "Bristleback"
          ],
          [
           "Centaur Warrunner"
          ],
          [
           "Chaos Knight"
          ],
          [
           "Dawnbreaker"
          ],
          [
           "Doom"
          ],
          [
           "Dragon Knight"
          ],
          [
           "Earth Spirit"
          ],
          [
           "Earthshaker"
          ],
          [
           "Elder Titan"
          ],
          [
           "Huskar"
          ],
          [
           "Kunkka"
          ],
          [
           "Legion Commander"
          ],
          [
           "Lifestealer"
          ],
          [
           "Mars"
          ],
          [
           "Night Stalker"
          ],
          [
           "Ogre Magi"
          ],
          [
           "Omniknight"
          ],
          [
           "Primal Beast"
          ],
          [
           "Pudge"
          ],
          [
           "Slardar"
          ],
          [
           "Spirit Breaker"
          ],
          [
           "Sven"
          ],
          [
           "Tidehunter"
          ],
          [
           "Tiny"
          ],
          [
           "Treant Protector"
          ],
          [
           "Tusk"
          ],
          [
           "Underlord"
          ],
          [
           "Undying"
          ],
          [
           "Wraith King"
          ]
         ],
         "hovertemplate": "Name: %{customdata[0]} <br>Immortal Picks %{x} <br>Immortal Win Rate: %{y}",
         "legendgroup": "str",
         "marker": {
          "color": "red",
          "size": [
           497,
           1659,
           168,
           208,
           391,
           840,
           586,
           252,
           655,
           1624,
           487,
           1232,
           314,
           3628,
           279,
           1218,
           261,
           508,
           619,
           1996,
           2915,
           241,
           3595,
           622,
           940,
           586,
           343,
           605,
           446,
           3057,
           243
          ],
          "sizemode": "area",
          "sizeref": 4.0311111111111115,
          "symbol": "circle"
         },
         "mode": "markers",
         "name": "str",
         "orientation": "v",
         "showlegend": true,
         "type": "scatter",
         "x": [
          1016,
          3337,
          360,
          449,
          764,
          1577,
          1377,
          565,
          1271,
          3040,
          915,
          2381,
          623,
          6467,
          594,
          2659,
          523,
          1125,
          1244,
          3850,
          5985,
          519,
          6913,
          1252,
          1958,
          1265,
          721,
          1288,
          890,
          5787,
          526
         ],
         "xaxis": "x",
         "y": [
          48.92,
          49.72,
          46.67,
          46.33,
          51.18,
          53.27,
          42.56,
          44.6,
          51.53,
          53.42,
          53.22,
          51.74,
          50.4,
          56.1,
          46.97,
          45.81,
          49.9,
          45.16,
          49.76,
          51.84,
          48.71,
          46.44,
          52,
          49.68,
          48.01,
          46.32,
          47.57,
          46.97,
          50.11,
          52.83,
          46.2
         ],
         "yaxis": "y"
        },
        {
         "customdata": [
          [
           "Ancient Apparition"
          ],
          [
           "Crystal Maiden"
          ],
          [
           "Death Prophet"
          ],
          [
           "Disruptor"
          ],
          [
           "Enchantress"
          ],
          [
           "Grimstroke"
          ],
          [
           "Invoker"
          ],
          [
           "Jakiro"
          ],
          [
           "Keeper of the Light"
          ],
          [
           "Leshrac"
          ],
          [
           "Lich"
          ],
          [
           "Lina"
          ],
          [
           "Lion"
          ],
          [
           "Muerta"
          ],
          [
           "Nature's Prophet"
          ],
          [
           "Necrophos"
          ],
          [
           "Oracle"
          ],
          [
           "Outworld Destroyer"
          ],
          [
           "Puck"
          ],
          [
           "Pugna"
          ],
          [
           "Queen of Pain"
          ],
          [
           "Rubick"
          ],
          [
           "Shadow Demon"
          ],
          [
           "Shadow Shaman"
          ],
          [
           "Silencer"
          ],
          [
           "Skywrath Mage"
          ],
          [
           "Storm Spirit"
          ],
          [
           "Tinker"
          ],
          [
           "Warlock"
          ],
          [
           "Witch Doctor"
          ],
          [
           "Zeus"
          ]
         ],
         "hovertemplate": "Name: %{customdata[0]} <br>Immortal Picks %{x} <br>Immortal Win Rate: %{y}",
         "legendgroup": "int",
         "marker": {
          "color": "blue",
          "size": [
           997,
           1330,
           376,
           1337,
           894,
           411,
           1099,
           1106,
           481,
           860,
           1961,
           837,
           1396,
           666,
           200,
           942,
           1460,
           678,
           906,
           2568,
           1779,
           3059,
           697,
           404,
           1205,
           2412,
           1831,
           1426,
           478,
           733,
           833
          ],
          "sizemode": "area",
          "sizeref": 4.0311111111111115,
          "symbol": "circle"
         },
         "mode": "markers",
         "name": "int",
         "orientation": "v",
         "showlegend": true,
         "type": "scatter",
         "x": [
          1861,
          2646,
          754,
          2789,
          2053,
          889,
          2177,
          2114,
          1021,
          1644,
          3922,
          1907,
          2912,
          1319,
          507,
          1866,
          2673,
          1350,
          1884,
          4827,
          3635,
          6207,
          1399,
          827,
          2376,
          4658,
          3685,
          2577,
          958,
          1568,
          1676
         ],
         "xaxis": "x",
         "y": [
          53.57,
          50.26,
          49.87,
          47.94,
          43.55,
          46.23,
          50.48,
          52.32,
          47.11,
          52.31,
          50,
          43.89,
          47.94,
          50.49,
          39.45,
          50.48,
          54.62,
          50.22,
          48.09,
          53.2,
          48.94,
          49.28,
          49.82,
          48.85,
          50.72,
          51.78,
          49.69,
          55.34,
          49.9,
          46.75,
          49.7
         ],
         "yaxis": "y"
        },
        {
         "customdata": [
          [
           "Anti-Mage"
          ],
          [
           "Arc Warden"
          ],
          [
           "Bloodseeker"
          ],
          [
           "Bounty Hunter"
          ],
          [
           "Clinkz"
          ],
          [
           "Drow Ranger"
          ],
          [
           "Ember Spirit"
          ],
          [
           "Faceless Void"
          ],
          [
           "Gyrocopter"
          ],
          [
           "Hoodwink"
          ],
          [
           "Juggernaut"
          ],
          [
           "Luna"
          ],
          [
           "Medusa"
          ],
          [
           "Meepo"
          ],
          [
           "Monkey King"
          ],
          [
           "Morphling"
          ],
          [
           "Naga Siren"
          ],
          [
           "Phantom Assassin"
          ],
          [
           "Phantom Lancer"
          ],
          [
           "Razor"
          ],
          [
           "Riki"
          ],
          [
           "Shadow Fiend"
          ],
          [
           "Slark"
          ],
          [
           "Sniper"
          ],
          [
           "Spectre"
          ],
          [
           "Templar Assassin"
          ],
          [
           "Terrorblade"
          ],
          [
           "Troll Warlord"
          ],
          [
           "Ursa"
          ],
          [
           "Viper"
          ],
          [
           "Weaver"
          ]
         ],
         "hovertemplate": "Name: %{customdata[0]} <br>Immortal Picks %{x} <br>Immortal Win Rate: %{y}",
         "legendgroup": "agi",
         "marker": {
          "color": "green",
          "size": [
           1238,
           308,
           1980,
           1535,
           2163,
           1218,
           2285,
           1617,
           288,
           385,
           2070,
           262,
           2094,
           1145,
           1563,
           2459,
           1601,
           661,
           1636,
           481,
           639,
           1191,
           2529,
           576,
           316,
           1405,
           669,
           267,
           713,
           332,
           521
          ],
          "sizemode": "area",
          "sizeref": 4.0311111111111115,
          "symbol": "circle"
         },
         "mode": "markers",
         "name": "agi",
         "orientation": "v",
         "showlegend": true,
         "type": "scatter",
         "x": [
          2582,
          627,
          3896,
          3000,
          4176,
          2480,
          4661,
          3123,
          603,
          856,
          4299,
          538,
          4082,
          2014,
          3273,
          5153,
          2882,
          1406,
          3329,
          945,
          1190,
          2601,
          4809,
          1169,
          635,
          2742,
          1441,
          537,
          1488,
          692,
          1056
         ],
         "xaxis": "x",
         "y": [
          47.95,
          49.12,
          50.82,
          51.17,
          51.8,
          49.11,
          49.02,
          51.78,
          47.76,
          44.98,
          48.15,
          48.7,
          51.3,
          56.85,
          47.75,
          47.72,
          55.55,
          47.01,
          49.14,
          50.9,
          53.7,
          45.79,
          52.59,
          49.27,
          49.76,
          51.24,
          46.43,
          49.72,
          47.92,
          47.98,
          49.34
         ],
         "yaxis": "y"
        }
       ],
       "layout": {
        "legend": {
         "itemsizing": "constant",
         "title": {
          "text": "Primary Attribute"
         },
         "tracegroupgap": 0
        },
        "template": {
         "data": {
          "bar": [
           {
            "error_x": {
             "color": "#f2f5fa"
            },
            "error_y": {
             "color": "#f2f5fa"
            },
            "marker": {
             "line": {
              "color": "rgb(17,17,17)",
              "width": 0.5
             },
             "pattern": {
              "fillmode": "overlay",
              "size": 10,
              "solidity": 0.2
             }
            },
            "type": "bar"
           }
          ],
          "barpolar": [
           {
            "marker": {
             "line": {
              "color": "rgb(17,17,17)",
              "width": 0.5
             },
             "pattern": {
              "fillmode": "overlay",
              "size": 10,
              "solidity": 0.2
             }
            },
            "type": "barpolar"
           }
          ],
          "carpet": [
           {
            "aaxis": {
             "endlinecolor": "#A2B1C6",
             "gridcolor": "#506784",
             "linecolor": "#506784",
             "minorgridcolor": "#506784",
             "startlinecolor": "#A2B1C6"
            },
            "baxis": {
             "endlinecolor": "#A2B1C6",
             "gridcolor": "#506784",
             "linecolor": "#506784",
             "minorgridcolor": "#506784",
             "startlinecolor": "#A2B1C6"
            },
            "type": "carpet"
           }
          ],
          "choropleth": [
           {
            "colorbar": {
             "outlinewidth": 0,
             "ticks": ""
            },
            "type": "choropleth"
           }
          ],
          "contour": [
           {
            "colorbar": {
             "outlinewidth": 0,
             "ticks": ""
            },
            "colorscale": [
             [
              0,
              "#0d0887"
             ],
             [
              0.1111111111111111,
              "#46039f"
             ],
             [
              0.2222222222222222,
              "#7201a8"
             ],
             [
              0.3333333333333333,
              "#9c179e"
             ],
             [
              0.4444444444444444,
              "#bd3786"
             ],
             [
              0.5555555555555556,
              "#d8576b"
             ],
             [
              0.6666666666666666,
              "#ed7953"
             ],
             [
              0.7777777777777778,
              "#fb9f3a"
             ],
             [
              0.8888888888888888,
              "#fdca26"
             ],
             [
              1,
              "#f0f921"
             ]
            ],
            "type": "contour"
           }
          ],
          "contourcarpet": [
           {
            "colorbar": {
             "outlinewidth": 0,
             "ticks": ""
            },
            "type": "contourcarpet"
           }
          ],
          "heatmap": [
           {
            "colorbar": {
             "outlinewidth": 0,
             "ticks": ""
            },
            "colorscale": [
             [
              0,
              "#0d0887"
             ],
             [
              0.1111111111111111,
              "#46039f"
             ],
             [
              0.2222222222222222,
              "#7201a8"
             ],
             [
              0.3333333333333333,
              "#9c179e"
             ],
             [
              0.4444444444444444,
              "#bd3786"
             ],
             [
              0.5555555555555556,
              "#d8576b"
             ],
             [
              0.6666666666666666,
              "#ed7953"
             ],
             [
              0.7777777777777778,
              "#fb9f3a"
             ],
             [
              0.8888888888888888,
              "#fdca26"
             ],
             [
              1,
              "#f0f921"
             ]
            ],
            "type": "heatmap"
           }
          ],
          "heatmapgl": [
           {
            "colorbar": {
             "outlinewidth": 0,
             "ticks": ""
            },
            "colorscale": [
             [
              0,
              "#0d0887"
             ],
             [
              0.1111111111111111,
              "#46039f"
             ],
             [
              0.2222222222222222,
              "#7201a8"
             ],
             [
              0.3333333333333333,
              "#9c179e"
             ],
             [
              0.4444444444444444,
              "#bd3786"
             ],
             [
              0.5555555555555556,
              "#d8576b"
             ],
             [
              0.6666666666666666,
              "#ed7953"
             ],
             [
              0.7777777777777778,
              "#fb9f3a"
             ],
             [
              0.8888888888888888,
              "#fdca26"
             ],
             [
              1,
              "#f0f921"
             ]
            ],
            "type": "heatmapgl"
           }
          ],
          "histogram": [
           {
            "marker": {
             "pattern": {
              "fillmode": "overlay",
              "size": 10,
              "solidity": 0.2
             }
            },
            "type": "histogram"
           }
          ],
          "histogram2d": [
           {
            "colorbar": {
             "outlinewidth": 0,
             "ticks": ""
            },
            "colorscale": [
             [
              0,
              "#0d0887"
             ],
             [
              0.1111111111111111,
              "#46039f"
             ],
             [
              0.2222222222222222,
              "#7201a8"
             ],
             [
              0.3333333333333333,
              "#9c179e"
             ],
             [
              0.4444444444444444,
              "#bd3786"
             ],
             [
              0.5555555555555556,
              "#d8576b"
             ],
             [
              0.6666666666666666,
              "#ed7953"
             ],
             [
              0.7777777777777778,
              "#fb9f3a"
             ],
             [
              0.8888888888888888,
              "#fdca26"
             ],
             [
              1,
              "#f0f921"
             ]
            ],
            "type": "histogram2d"
           }
          ],
          "histogram2dcontour": [
           {
            "colorbar": {
             "outlinewidth": 0,
             "ticks": ""
            },
            "colorscale": [
             [
              0,
              "#0d0887"
             ],
             [
              0.1111111111111111,
              "#46039f"
             ],
             [
              0.2222222222222222,
              "#7201a8"
             ],
             [
              0.3333333333333333,
              "#9c179e"
             ],
             [
              0.4444444444444444,
              "#bd3786"
             ],
             [
              0.5555555555555556,
              "#d8576b"
             ],
             [
              0.6666666666666666,
              "#ed7953"
             ],
             [
              0.7777777777777778,
              "#fb9f3a"
             ],
             [
              0.8888888888888888,
              "#fdca26"
             ],
             [
              1,
              "#f0f921"
             ]
            ],
            "type": "histogram2dcontour"
           }
          ],
          "mesh3d": [
           {
            "colorbar": {
             "outlinewidth": 0,
             "ticks": ""
            },
            "type": "mesh3d"
           }
          ],
          "parcoords": [
           {
            "line": {
             "colorbar": {
              "outlinewidth": 0,
              "ticks": ""
             }
            },
            "type": "parcoords"
           }
          ],
          "pie": [
           {
            "automargin": true,
            "type": "pie"
           }
          ],
          "scatter": [
           {
            "marker": {
             "line": {
              "color": "#283442"
             }
            },
            "type": "scatter"
           }
          ],
          "scatter3d": [
           {
            "line": {
             "colorbar": {
              "outlinewidth": 0,
              "ticks": ""
             }
            },
            "marker": {
             "colorbar": {
              "outlinewidth": 0,
              "ticks": ""
             }
            },
            "type": "scatter3d"
           }
          ],
          "scattercarpet": [
           {
            "marker": {
             "colorbar": {
              "outlinewidth": 0,
              "ticks": ""
             }
            },
            "type": "scattercarpet"
           }
          ],
          "scattergeo": [
           {
            "marker": {
             "colorbar": {
              "outlinewidth": 0,
              "ticks": ""
             }
            },
            "type": "scattergeo"
           }
          ],
          "scattergl": [
           {
            "marker": {
             "line": {
              "color": "#283442"
             }
            },
            "type": "scattergl"
           }
          ],
          "scattermapbox": [
           {
            "marker": {
             "colorbar": {
              "outlinewidth": 0,
              "ticks": ""
             }
            },
            "type": "scattermapbox"
           }
          ],
          "scatterpolar": [
           {
            "marker": {
             "colorbar": {
              "outlinewidth": 0,
              "ticks": ""
             }
            },
            "type": "scatterpolar"
           }
          ],
          "scatterpolargl": [
           {
            "marker": {
             "colorbar": {
              "outlinewidth": 0,
              "ticks": ""
             }
            },
            "type": "scatterpolargl"
           }
          ],
          "scatterternary": [
           {
            "marker": {
             "colorbar": {
              "outlinewidth": 0,
              "ticks": ""
             }
            },
            "type": "scatterternary"
           }
          ],
          "surface": [
           {
            "colorbar": {
             "outlinewidth": 0,
             "ticks": ""
            },
            "colorscale": [
             [
              0,
              "#0d0887"
             ],
             [
              0.1111111111111111,
              "#46039f"
             ],
             [
              0.2222222222222222,
              "#7201a8"
             ],
             [
              0.3333333333333333,
              "#9c179e"
             ],
             [
              0.4444444444444444,
              "#bd3786"
             ],
             [
              0.5555555555555556,
              "#d8576b"
             ],
             [
              0.6666666666666666,
              "#ed7953"
             ],
             [
              0.7777777777777778,
              "#fb9f3a"
             ],
             [
              0.8888888888888888,
              "#fdca26"
             ],
             [
              1,
              "#f0f921"
             ]
            ],
            "type": "surface"
           }
          ],
          "table": [
           {
            "cells": {
             "fill": {
              "color": "#506784"
             },
             "line": {
              "color": "rgb(17,17,17)"
             }
            },
            "header": {
             "fill": {
              "color": "#2a3f5f"
             },
             "line": {
              "color": "rgb(17,17,17)"
             }
            },
            "type": "table"
           }
          ]
         },
         "layout": {
          "annotationdefaults": {
           "arrowcolor": "#f2f5fa",
           "arrowhead": 0,
           "arrowwidth": 1
          },
          "autotypenumbers": "strict",
          "coloraxis": {
           "colorbar": {
            "outlinewidth": 0,
            "ticks": ""
           }
          },
          "colorscale": {
           "diverging": [
            [
             0,
             "#8e0152"
            ],
            [
             0.1,
             "#c51b7d"
            ],
            [
             0.2,
             "#de77ae"
            ],
            [
             0.3,
             "#f1b6da"
            ],
            [
             0.4,
             "#fde0ef"
            ],
            [
             0.5,
             "#f7f7f7"
            ],
            [
             0.6,
             "#e6f5d0"
            ],
            [
             0.7,
             "#b8e186"
            ],
            [
             0.8,
             "#7fbc41"
            ],
            [
             0.9,
             "#4d9221"
            ],
            [
             1,
             "#276419"
            ]
           ],
           "sequential": [
            [
             0,
             "#0d0887"
            ],
            [
             0.1111111111111111,
             "#46039f"
            ],
            [
             0.2222222222222222,
             "#7201a8"
            ],
            [
             0.3333333333333333,
             "#9c179e"
            ],
            [
             0.4444444444444444,
             "#bd3786"
            ],
            [
             0.5555555555555556,
             "#d8576b"
            ],
            [
             0.6666666666666666,
             "#ed7953"
            ],
            [
             0.7777777777777778,
             "#fb9f3a"
            ],
            [
             0.8888888888888888,
             "#fdca26"
            ],
            [
             1,
             "#f0f921"
            ]
           ],
           "sequentialminus": [
            [
             0,
             "#0d0887"
            ],
            [
             0.1111111111111111,
             "#46039f"
            ],
            [
             0.2222222222222222,
             "#7201a8"
            ],
            [
             0.3333333333333333,
             "#9c179e"
            ],
            [
             0.4444444444444444,
             "#bd3786"
            ],
            [
             0.5555555555555556,
             "#d8576b"
            ],
            [
             0.6666666666666666,
             "#ed7953"
            ],
            [
             0.7777777777777778,
             "#fb9f3a"
            ],
            [
             0.8888888888888888,
             "#fdca26"
            ],
            [
             1,
             "#f0f921"
            ]
           ]
          },
          "colorway": [
           "#636efa",
           "#EF553B",
           "#00cc96",
           "#ab63fa",
           "#FFA15A",
           "#19d3f3",
           "#FF6692",
           "#B6E880",
           "#FF97FF",
           "#FECB52"
          ],
          "font": {
           "color": "#f2f5fa"
          },
          "geo": {
           "bgcolor": "rgb(17,17,17)",
           "lakecolor": "rgb(17,17,17)",
           "landcolor": "rgb(17,17,17)",
           "showlakes": true,
           "showland": true,
           "subunitcolor": "#506784"
          },
          "hoverlabel": {
           "align": "left"
          },
          "hovermode": "closest",
          "mapbox": {
           "style": "dark"
          },
          "paper_bgcolor": "rgb(17,17,17)",
          "plot_bgcolor": "rgb(17,17,17)",
          "polar": {
           "angularaxis": {
            "gridcolor": "#506784",
            "linecolor": "#506784",
            "ticks": ""
           },
           "bgcolor": "rgb(17,17,17)",
           "radialaxis": {
            "gridcolor": "#506784",
            "linecolor": "#506784",
            "ticks": ""
           }
          },
          "scene": {
           "xaxis": {
            "backgroundcolor": "rgb(17,17,17)",
            "gridcolor": "#506784",
            "gridwidth": 2,
            "linecolor": "#506784",
            "showbackground": true,
            "ticks": "",
            "zerolinecolor": "#C8D4E3"
           },
           "yaxis": {
            "backgroundcolor": "rgb(17,17,17)",
            "gridcolor": "#506784",
            "gridwidth": 2,
            "linecolor": "#506784",
            "showbackground": true,
            "ticks": "",
            "zerolinecolor": "#C8D4E3"
           },
           "zaxis": {
            "backgroundcolor": "rgb(17,17,17)",
            "gridcolor": "#506784",
            "gridwidth": 2,
            "linecolor": "#506784",
            "showbackground": true,
            "ticks": "",
            "zerolinecolor": "#C8D4E3"
           }
          },
          "shapedefaults": {
           "line": {
            "color": "#f2f5fa"
           }
          },
          "sliderdefaults": {
           "bgcolor": "#C8D4E3",
           "bordercolor": "rgb(17,17,17)",
           "borderwidth": 1,
           "tickwidth": 0
          },
          "ternary": {
           "aaxis": {
            "gridcolor": "#506784",
            "linecolor": "#506784",
            "ticks": ""
           },
           "baxis": {
            "gridcolor": "#506784",
            "linecolor": "#506784",
            "ticks": ""
           },
           "bgcolor": "rgb(17,17,17)",
           "caxis": {
            "gridcolor": "#506784",
            "linecolor": "#506784",
            "ticks": ""
           }
          },
          "title": {
           "x": 0.05
          },
          "updatemenudefaults": {
           "bgcolor": "#506784",
           "borderwidth": 0
          },
          "xaxis": {
           "automargin": true,
           "gridcolor": "#283442",
           "linecolor": "#506784",
           "ticks": "",
           "title": {
            "standoff": 15
           },
           "zerolinecolor": "#283442",
           "zerolinewidth": 2
          },
          "yaxis": {
           "automargin": true,
           "gridcolor": "#283442",
           "linecolor": "#506784",
           "ticks": "",
           "title": {
            "standoff": 15
           },
           "zerolinecolor": "#283442",
           "zerolinewidth": 2
          }
         }
        },
        "title": {
         "text": "Win Rate vs. Pick Rate (Immortal Picks) - Correlation: 0.28"
        },
        "xaxis": {
         "anchor": "y",
         "domain": [
          0,
          1
         ],
         "title": {
          "text": "Immortal Picks"
         }
        },
        "yaxis": {
         "anchor": "x",
         "domain": [
          0,
          1
         ],
         "title": {
          "text": "Immortal Win Rate"
         }
        }
       }
      }
     },
     "metadata": {},
     "output_type": "display_data"
    }
   ],
   "source": [
    "def win_rate_picks_correlation(df, target_col, target_col2):\n",
    "    correlation = df[target_col].corr(df[target_col2])\n",
    "\n",
    "    fig = px.scatter(df, x=target_col, y=target_col2,\n",
    "                     labels={target_col: target_col, target_col2: target_col2},\n",
    "                     title=f'Win Rate vs. Pick Rate ({target_col}) - Correlation: {correlation:.2f}',\n",
    "                     template='plotly_dark',\n",
    "                     color='Primary Attribute',\n",
    "                     color_discrete_map={'str': 'red', 'int': 'blue', 'agi': 'green', 'all': 'purple'},\n",
    "                     hover_data=['Name'],\n",
    "                     size='Immortal Wins', size_max=30)\n",
    "\n",
    "    fig.update_layout(xaxis_title='Immortal Picks', yaxis_title='Immortal Win Rate')\n",
    "\n",
    "    fig.update_traces(hovertemplate='Name: %{customdata[0]} <br>Immortal Picks %{x} <br>Immortal Win Rate: %{y}')\n",
    "\n",
    "    fig.show()\n",
    "\n",
    "win_rate_picks_correlation(df, 'Immortal Picks', 'Immortal Win Rate')\n"
   ]
  },
  {
   "cell_type": "code",
   "execution_count": 8,
   "metadata": {},
   "outputs": [
    {
     "data": {
      "text/html": [
       "\n",
       "<style>\n",
       "  #altair-viz-a4fadc1b6bcd4f0184535df4108bdd70.vega-embed {\n",
       "    width: 100%;\n",
       "    display: flex;\n",
       "  }\n",
       "\n",
       "  #altair-viz-a4fadc1b6bcd4f0184535df4108bdd70.vega-embed details,\n",
       "  #altair-viz-a4fadc1b6bcd4f0184535df4108bdd70.vega-embed details summary {\n",
       "    position: relative;\n",
       "  }\n",
       "</style>\n",
       "<div id=\"altair-viz-a4fadc1b6bcd4f0184535df4108bdd70\"></div>\n",
       "<script type=\"text/javascript\">\n",
       "  var VEGA_DEBUG = (typeof VEGA_DEBUG == \"undefined\") ? {} : VEGA_DEBUG;\n",
       "  (function(spec, embedOpt){\n",
       "    let outputDiv = document.currentScript.previousElementSibling;\n",
       "    if (outputDiv.id !== \"altair-viz-a4fadc1b6bcd4f0184535df4108bdd70\") {\n",
       "      outputDiv = document.getElementById(\"altair-viz-a4fadc1b6bcd4f0184535df4108bdd70\");\n",
       "    }\n",
       "    const paths = {\n",
       "      \"vega\": \"https://cdn.jsdelivr.net/npm/vega@5?noext\",\n",
       "      \"vega-lib\": \"https://cdn.jsdelivr.net/npm/vega-lib?noext\",\n",
       "      \"vega-lite\": \"https://cdn.jsdelivr.net/npm/vega-lite@5.15.1?noext\",\n",
       "      \"vega-embed\": \"https://cdn.jsdelivr.net/npm/vega-embed@6?noext\",\n",
       "    };\n",
       "\n",
       "    function maybeLoadScript(lib, version) {\n",
       "      var key = `${lib.replace(\"-\", \"\")}_version`;\n",
       "      return (VEGA_DEBUG[key] == version) ?\n",
       "        Promise.resolve(paths[lib]) :\n",
       "        new Promise(function(resolve, reject) {\n",
       "          var s = document.createElement('script');\n",
       "          document.getElementsByTagName(\"head\")[0].appendChild(s);\n",
       "          s.async = true;\n",
       "          s.onload = () => {\n",
       "            VEGA_DEBUG[key] = version;\n",
       "            return resolve(paths[lib]);\n",
       "          };\n",
       "          s.onerror = () => reject(`Error loading script: ${paths[lib]}`);\n",
       "          s.src = paths[lib];\n",
       "        });\n",
       "    }\n",
       "\n",
       "    function showError(err) {\n",
       "      outputDiv.innerHTML = `<div class=\"error\" style=\"color:red;\">${err}</div>`;\n",
       "      throw err;\n",
       "    }\n",
       "\n",
       "    function displayChart(vegaEmbed) {\n",
       "      vegaEmbed(outputDiv, spec, embedOpt)\n",
       "        .catch(err => showError(`Javascript Error: ${err.message}<br>This usually means there's a typo in your chart specification. See the javascript console for the full traceback.`));\n",
       "    }\n",
       "\n",
       "    if(typeof define === \"function\" && define.amd) {\n",
       "      requirejs.config({paths});\n",
       "      require([\"vega-embed\"], displayChart, err => showError(`Error loading script: ${err.message}`));\n",
       "    } else {\n",
       "      maybeLoadScript(\"vega\", \"5\")\n",
       "        .then(() => maybeLoadScript(\"vega-lite\", \"5.15.1\"))\n",
       "        .then(() => maybeLoadScript(\"vega-embed\", \"6\"))\n",
       "        .catch(showError)\n",
       "        .then(() => displayChart(vegaEmbed));\n",
       "    }\n",
       "  })({\"config\": {\"view\": {\"fill\": \"black\"}, \"background\": \"black\", \"axis\": {\"labelColor\": \"white\", \"titleColor\": \"white\", \"labelFontSize\": 12, \"titleFontSize\": 14}, \"text\": {\"color\": \"white\"}, \"title\": {\"fontSize\": 16}}, \"data\": {\"name\": \"data-ed5d35298b9eba918fcd73ce10bfe306\"}, \"mark\": {\"type\": \"bar\"}, \"encoding\": {\"color\": {\"field\": \"Primary Attribute\", \"legend\": null, \"scale\": {\"domain\": [\"str\", \"int\", \"agi\", \"all\"], \"range\": [\"red\", \"blue\", \"green\", \"purple\"]}, \"type\": \"nominal\"}, \"x\": {\"field\": \"Immortal Win Rate\", \"title\": \"Immortal Win Rate\", \"type\": \"quantitative\"}, \"y\": {\"field\": \"Name\", \"sort\": {\"field\": \"Primary Attribute\"}, \"title\": \"Hero\", \"type\": \"nominal\"}}, \"height\": 400, \"title\": \"Top 10 Heroes Win Rate in Each Primary Attribute (Grouped Bar Chart)\", \"width\": 600, \"$schema\": \"https://vega.github.io/schema/vega-lite/v5.15.1.json\", \"datasets\": {\"data-ed5d35298b9eba918fcd73ce10bfe306\": [{\"Name\": \"Meepo\", \"Primary Attribute\": \"agi\", \"attack_type\": \"Melee\", \"roles\": \"['Carry', 'Escape', 'Nuker', 'Disabler', 'Initiator', 'Pusher']\", \"Divine Picks\": 2937, \"Divine Wins\": 1661, \"Divine Win Rate\": 56.55, \"Immortal Picks\": 2014, \"Immortal Wins\": 1145, \"Immortal Win Rate\": 56.85, \"pro_pick\": 79, \"pro_ban\": 150, \"pro_win\": 37, \"pro_win_rate\": 46.84, \"Color\": \"green\"}, {\"Name\": \"Naga Siren\", \"Primary Attribute\": \"agi\", \"attack_type\": \"Melee\", \"roles\": \"['Carry', 'Support', 'Pusher', 'Disabler', 'Initiator', 'Escape']\", \"Divine Picks\": 3372, \"Divine Wins\": 1849, \"Divine Win Rate\": 54.83, \"Immortal Picks\": 2882, \"Immortal Wins\": 1601, \"Immortal Win Rate\": 55.55, \"pro_pick\": 220, \"pro_ban\": 736, \"pro_win\": 112, \"pro_win_rate\": 50.91, \"Color\": \"green\"}, {\"Name\": \"Riki\", \"Primary Attribute\": \"agi\", \"attack_type\": \"Melee\", \"roles\": \"['Carry', 'Escape', 'Disabler']\", \"Divine Picks\": 2991, \"Divine Wins\": 1635, \"Divine Win Rate\": 54.66, \"Immortal Picks\": 1190, \"Immortal Wins\": 639, \"Immortal Win Rate\": 53.7, \"pro_pick\": 48, \"pro_ban\": 112, \"pro_win\": 20, \"pro_win_rate\": 41.67, \"Color\": \"green\"}, {\"Name\": \"Slark\", \"Primary Attribute\": \"agi\", \"attack_type\": \"Melee\", \"roles\": \"['Carry', 'Escape', 'Disabler', 'Nuker']\", \"Divine Picks\": 10503, \"Divine Wins\": 5383, \"Divine Win Rate\": 51.25, \"Immortal Picks\": 4809, \"Immortal Wins\": 2529, \"Immortal Win Rate\": 52.59, \"pro_pick\": 278, \"pro_ban\": 903, \"pro_win\": 156, \"pro_win_rate\": 56.12, \"Color\": \"green\"}, {\"Name\": \"Clinkz\", \"Primary Attribute\": \"agi\", \"attack_type\": \"Ranged\", \"roles\": \"['Carry', 'Escape', 'Pusher']\", \"Divine Picks\": 7744, \"Divine Wins\": 4082, \"Divine Win Rate\": 52.71, \"Immortal Picks\": 4176, \"Immortal Wins\": 2163, \"Immortal Win Rate\": 51.8, \"pro_pick\": 130, \"pro_ban\": 108, \"pro_win\": 56, \"pro_win_rate\": 43.08, \"Color\": \"green\"}, {\"Name\": \"Faceless Void\", \"Primary Attribute\": \"agi\", \"attack_type\": \"Melee\", \"roles\": \"['Carry', 'Initiator', 'Disabler', 'Escape', 'Durable']\", \"Divine Picks\": 6615, \"Divine Wins\": 3328, \"Divine Win Rate\": 50.31, \"Immortal Picks\": 3123, \"Immortal Wins\": 1617, \"Immortal Win Rate\": 51.78, \"pro_pick\": 233, \"pro_ban\": 545, \"pro_win\": 115, \"pro_win_rate\": 49.36, \"Color\": \"green\"}, {\"Name\": \"Medusa\", \"Primary Attribute\": \"agi\", \"attack_type\": \"Ranged\", \"roles\": \"['Carry', 'Disabler', 'Durable']\", \"Divine Picks\": 8031, \"Divine Wins\": 4345, \"Divine Win Rate\": 54.1, \"Immortal Picks\": 4082, \"Immortal Wins\": 2094, \"Immortal Win Rate\": 51.3, \"pro_pick\": 469, \"pro_ban\": 1112, \"pro_win\": 254, \"pro_win_rate\": 54.16, \"Color\": \"green\"}, {\"Name\": \"Templar Assassin\", \"Primary Attribute\": \"agi\", \"attack_type\": \"Ranged\", \"roles\": \"['Carry', 'Escape']\", \"Divine Picks\": 4350, \"Divine Wins\": 2138, \"Divine Win Rate\": 49.15, \"Immortal Picks\": 2742, \"Immortal Wins\": 1405, \"Immortal Win Rate\": 51.24, \"pro_pick\": 372, \"pro_ban\": 507, \"pro_win\": 186, \"pro_win_rate\": 50.0, \"Color\": \"green\"}, {\"Name\": \"Bounty Hunter\", \"Primary Attribute\": \"agi\", \"attack_type\": \"Melee\", \"roles\": \"['Escape', 'Nuker']\", \"Divine Picks\": 4975, \"Divine Wins\": 2531, \"Divine Win Rate\": 50.87, \"Immortal Picks\": 3000, \"Immortal Wins\": 1535, \"Immortal Win Rate\": 51.17, \"pro_pick\": 147, \"pro_ban\": 125, \"pro_win\": 104, \"pro_win_rate\": 70.75, \"Color\": \"green\"}, {\"Name\": \"Razor\", \"Primary Attribute\": \"agi\", \"attack_type\": \"Ranged\", \"roles\": \"['Carry', 'Durable', 'Nuker', 'Pusher']\", \"Divine Picks\": 1985, \"Divine Wins\": 977, \"Divine Win Rate\": 49.22, \"Immortal Picks\": 945, \"Immortal Wins\": 481, \"Immortal Win Rate\": 50.9, \"pro_pick\": 72, \"pro_ban\": 65, \"pro_win\": 36, \"pro_win_rate\": 50.0, \"Color\": \"green\"}, {\"Name\": \"Brewmaster\", \"Primary Attribute\": \"all\", \"attack_type\": \"Melee\", \"roles\": \"['Carry', 'Initiator', 'Durable', 'Disabler', 'Nuker']\", \"Divine Picks\": 1162, \"Divine Wins\": 621, \"Divine Win Rate\": 53.44, \"Immortal Picks\": 734, \"Immortal Wins\": 400, \"Immortal Win Rate\": 54.5, \"pro_pick\": 47, \"pro_ban\": 152, \"pro_win\": 23, \"pro_win_rate\": 48.94, \"Color\": \"purple\"}, {\"Name\": \"Dark Seer\", \"Primary Attribute\": \"all\", \"attack_type\": \"Melee\", \"roles\": \"['Initiator', 'Escape', 'Disabler']\", \"Divine Picks\": 4263, \"Divine Wins\": 2282, \"Divine Win Rate\": 53.53, \"Immortal Picks\": 2619, \"Immortal Wins\": 1402, \"Immortal Win Rate\": 53.53, \"pro_pick\": 259, \"pro_ban\": 559, \"pro_win\": 133, \"pro_win_rate\": 51.35, \"Color\": \"purple\"}, {\"Name\": \"Visage\", \"Primary Attribute\": \"all\", \"attack_type\": \"Ranged\", \"roles\": \"['Support', 'Nuker', 'Durable', 'Disabler', 'Pusher']\", \"Divine Picks\": 1829, \"Divine Wins\": 1020, \"Divine Win Rate\": 55.77, \"Immortal Picks\": 1437, \"Immortal Wins\": 759, \"Immortal Win Rate\": 52.82, \"pro_pick\": 165, \"pro_ban\": 405, \"pro_win\": 88, \"pro_win_rate\": 53.33, \"Color\": \"purple\"}, {\"Name\": \"Chen\", \"Primary Attribute\": \"all\", \"attack_type\": \"Ranged\", \"roles\": \"['Support', 'Pusher']\", \"Divine Picks\": 911, \"Divine Wins\": 496, \"Divine Win Rate\": 54.45, \"Immortal Picks\": 856, \"Immortal Wins\": 452, \"Immortal Win Rate\": 52.8, \"pro_pick\": 75, \"pro_ban\": 185, \"pro_win\": 30, \"pro_win_rate\": 40.0, \"Color\": \"purple\"}, {\"Name\": \"Bane\", \"Primary Attribute\": \"all\", \"attack_type\": \"Ranged\", \"roles\": \"['Support', 'Disabler', 'Nuker', 'Durable']\", \"Divine Picks\": 1756, \"Divine Wins\": 906, \"Divine Win Rate\": 51.59, \"Immortal Picks\": 885, \"Immortal Wins\": 458, \"Immortal Win Rate\": 51.75, \"pro_pick\": 25, \"pro_ban\": 81, \"pro_win\": 15, \"pro_win_rate\": 60.0, \"Color\": \"purple\"}, {\"Name\": \"Nyx Assassin\", \"Primary Attribute\": \"all\", \"attack_type\": \"Melee\", \"roles\": \"['Disabler', 'Nuker', 'Initiator', 'Escape']\", \"Divine Picks\": 7322, \"Divine Wins\": 3744, \"Divine Win Rate\": 51.13, \"Immortal Picks\": 2944, \"Immortal Wins\": 1521, \"Immortal Win Rate\": 51.66, \"pro_pick\": 113, \"pro_ban\": 264, \"pro_win\": 56, \"pro_win_rate\": 49.56, \"Color\": \"purple\"}, {\"Name\": \"Venomancer\", \"Primary Attribute\": \"all\", \"attack_type\": \"Ranged\", \"roles\": \"['Support', 'Nuker', 'Initiator', 'Pusher', 'Disabler']\", \"Divine Picks\": 8093, \"Divine Wins\": 4262, \"Divine Win Rate\": 52.66, \"Immortal Picks\": 3894, \"Immortal Wins\": 2008, \"Immortal Win Rate\": 51.57, \"pro_pick\": 255, \"pro_ban\": 447, \"pro_win\": 140, \"pro_win_rate\": 54.9, \"Color\": \"purple\"}, {\"Name\": \"Enigma\", \"Primary Attribute\": \"all\", \"attack_type\": \"Ranged\", \"roles\": \"['Disabler', 'Initiator', 'Pusher']\", \"Divine Picks\": 2058, \"Divine Wins\": 1055, \"Divine Win Rate\": 51.26, \"Immortal Picks\": 1688, \"Immortal Wins\": 860, \"Immortal Win Rate\": 50.95, \"pro_pick\": 262, \"pro_ban\": 407, \"pro_win\": 146, \"pro_win_rate\": 55.73, \"Color\": \"purple\"}, {\"Name\": \"Phoenix\", \"Primary Attribute\": \"all\", \"attack_type\": \"Ranged\", \"roles\": \"['Support', 'Nuker', 'Initiator', 'Escape', 'Disabler']\", \"Divine Picks\": 2377, \"Divine Wins\": 1126, \"Divine Win Rate\": 47.37, \"Immortal Picks\": 1227, \"Immortal Wins\": 622, \"Immortal Win Rate\": 50.69, \"pro_pick\": 105, \"pro_ban\": 169, \"pro_win\": 54, \"pro_win_rate\": 51.43, \"Color\": \"purple\"}, {\"Name\": \"Beastmaster\", \"Primary Attribute\": \"all\", \"attack_type\": \"Melee\", \"roles\": \"['Initiator', 'Disabler', 'Durable', 'Nuker']\", \"Divine Picks\": 1810, \"Divine Wins\": 820, \"Divine Win Rate\": 45.3, \"Immortal Picks\": 1449, \"Immortal Wins\": 734, \"Immortal Win Rate\": 50.66, \"pro_pick\": 357, \"pro_ban\": 785, \"pro_win\": 184, \"pro_win_rate\": 51.54, \"Color\": \"purple\"}, {\"Name\": \"Tinker\", \"Primary Attribute\": \"int\", \"attack_type\": \"Ranged\", \"roles\": \"['Carry', 'Nuker', 'Pusher']\", \"Divine Picks\": 5753, \"Divine Wins\": 3129, \"Divine Win Rate\": 54.39, \"Immortal Picks\": 2577, \"Immortal Wins\": 1426, \"Immortal Win Rate\": 55.34, \"pro_pick\": 72, \"pro_ban\": 188, \"pro_win\": 32, \"pro_win_rate\": 44.44, \"Color\": \"blue\"}, {\"Name\": \"Oracle\", \"Primary Attribute\": \"int\", \"attack_type\": \"Ranged\", \"roles\": \"['Support', 'Nuker', 'Disabler', 'Escape']\", \"Divine Picks\": 5188, \"Divine Wins\": 2861, \"Divine Win Rate\": 55.15, \"Immortal Picks\": 2673, \"Immortal Wins\": 1460, \"Immortal Win Rate\": 54.62, \"pro_pick\": 230, \"pro_ban\": 193, \"pro_win\": 128, \"pro_win_rate\": 55.65, \"Color\": \"blue\"}, {\"Name\": \"Ancient Apparition\", \"Primary Attribute\": \"int\", \"attack_type\": \"Ranged\", \"roles\": \"['Support', 'Disabler', 'Nuker']\", \"Divine Picks\": 4591, \"Divine Wins\": 2377, \"Divine Win Rate\": 51.78, \"Immortal Picks\": 1861, \"Immortal Wins\": 997, \"Immortal Win Rate\": 53.57, \"pro_pick\": 50, \"pro_ban\": 80, \"pro_win\": 24, \"pro_win_rate\": 48.0, \"Color\": \"blue\"}, {\"Name\": \"Pugna\", \"Primary Attribute\": \"int\", \"attack_type\": \"Ranged\", \"roles\": \"['Nuker', 'Pusher']\", \"Divine Picks\": 8076, \"Divine Wins\": 4181, \"Divine Win Rate\": 51.77, \"Immortal Picks\": 4827, \"Immortal Wins\": 2568, \"Immortal Win Rate\": 53.2, \"pro_pick\": 620, \"pro_ban\": 801, \"pro_win\": 329, \"pro_win_rate\": 53.06, \"Color\": \"blue\"}, {\"Name\": \"Jakiro\", \"Primary Attribute\": \"int\", \"attack_type\": \"Ranged\", \"roles\": \"['Support', 'Nuker', 'Pusher', 'Disabler']\", \"Divine Picks\": 6094, \"Divine Wins\": 3125, \"Divine Win Rate\": 51.28, \"Immortal Picks\": 2114, \"Immortal Wins\": 1106, \"Immortal Win Rate\": 52.32, \"pro_pick\": 184, \"pro_ban\": 50, \"pro_win\": 85, \"pro_win_rate\": 46.2, \"Color\": \"blue\"}, {\"Name\": \"Leshrac\", \"Primary Attribute\": \"int\", \"attack_type\": \"Ranged\", \"roles\": \"['Carry', 'Support', 'Nuker', 'Pusher', 'Disabler']\", \"Divine Picks\": 1954, \"Divine Wins\": 959, \"Divine Win Rate\": 49.08, \"Immortal Picks\": 1644, \"Immortal Wins\": 860, \"Immortal Win Rate\": 52.31, \"pro_pick\": 208, \"pro_ban\": 160, \"pro_win\": 103, \"pro_win_rate\": 49.52, \"Color\": \"blue\"}, {\"Name\": \"Skywrath Mage\", \"Primary Attribute\": \"int\", \"attack_type\": \"Ranged\", \"roles\": \"['Support', 'Nuker', 'Disabler']\", \"Divine Picks\": 8503, \"Divine Wins\": 4496, \"Divine Win Rate\": 52.88, \"Immortal Picks\": 4658, \"Immortal Wins\": 2412, \"Immortal Win Rate\": 51.78, \"pro_pick\": 663, \"pro_ban\": 367, \"pro_win\": 321, \"pro_win_rate\": 48.42, \"Color\": \"blue\"}, {\"Name\": \"Silencer\", \"Primary Attribute\": \"int\", \"attack_type\": \"Ranged\", \"roles\": \"['Carry', 'Support', 'Disabler', 'Initiator', 'Nuker']\", \"Divine Picks\": 6451, \"Divine Wins\": 3253, \"Divine Win Rate\": 50.43, \"Immortal Picks\": 2376, \"Immortal Wins\": 1205, \"Immortal Win Rate\": 50.72, \"pro_pick\": 250, \"pro_ban\": 217, \"pro_win\": 128, \"pro_win_rate\": 51.2, \"Color\": \"blue\"}, {\"Name\": \"Muerta\", \"Primary Attribute\": \"int\", \"attack_type\": \"Ranged\", \"roles\": \"['Carry', 'Nuker', 'Disabler']\", \"Divine Picks\": 3149, \"Divine Wins\": 1574, \"Divine Win Rate\": 49.98, \"Immortal Picks\": 1319, \"Immortal Wins\": 666, \"Immortal Win Rate\": 50.49, \"pro_pick\": 171, \"pro_ban\": 173, \"pro_win\": 94, \"pro_win_rate\": 54.97, \"Color\": \"blue\"}, {\"Name\": \"Invoker\", \"Primary Attribute\": \"int\", \"attack_type\": \"Ranged\", \"roles\": \"['Carry', 'Nuker', 'Disabler', 'Escape', 'Pusher']\", \"Divine Picks\": 6229, \"Divine Wins\": 3206, \"Divine Win Rate\": 51.47, \"Immortal Picks\": 2177, \"Immortal Wins\": 1099, \"Immortal Win Rate\": 50.48, \"pro_pick\": 93, \"pro_ban\": 67, \"pro_win\": 41, \"pro_win_rate\": 44.09, \"Color\": \"blue\"}, {\"Name\": \"Legion Commander\", \"Primary Attribute\": \"str\", \"attack_type\": \"Melee\", \"roles\": \"['Carry', 'Disabler', 'Initiator', 'Durable', 'Nuker']\", \"Divine Picks\": 13354, \"Divine Wins\": 7345, \"Divine Win Rate\": 55.0, \"Immortal Picks\": 6467, \"Immortal Wins\": 3628, \"Immortal Win Rate\": 56.1, \"pro_pick\": 599, \"pro_ban\": 791, \"pro_win\": 322, \"pro_win_rate\": 53.76, \"Color\": \"red\"}, {\"Name\": \"Earthshaker\", \"Primary Attribute\": \"str\", \"attack_type\": \"Melee\", \"roles\": \"['Support', 'Initiator', 'Disabler', 'Nuker']\", \"Divine Picks\": 7504, \"Divine Wins\": 4007, \"Divine Win Rate\": 53.4, \"Immortal Picks\": 3040, \"Immortal Wins\": 1624, \"Immortal Win Rate\": 53.42, \"pro_pick\": 113, \"pro_ban\": 51, \"pro_win\": 62, \"pro_win_rate\": 54.87, \"Color\": \"red\"}, {\"Name\": \"Dawnbreaker\", \"Primary Attribute\": \"str\", \"attack_type\": \"Melee\", \"roles\": \"['Carry', 'Durable']\", \"Divine Picks\": 3016, \"Divine Wins\": 1529, \"Divine Win Rate\": 50.7, \"Immortal Picks\": 1577, \"Immortal Wins\": 840, \"Immortal Win Rate\": 53.27, \"pro_pick\": 114, \"pro_ban\": 42, \"pro_win\": 54, \"pro_win_rate\": 47.37, \"Color\": \"red\"}, {\"Name\": \"Elder Titan\", \"Primary Attribute\": \"str\", \"attack_type\": \"Melee\", \"roles\": \"['Initiator', 'Disabler', 'Nuker', 'Durable']\", \"Divine Picks\": 1246, \"Divine Wins\": 676, \"Divine Win Rate\": 54.25, \"Immortal Picks\": 915, \"Immortal Wins\": 487, \"Immortal Win Rate\": 53.22, \"pro_pick\": 140, \"pro_ban\": 63, \"pro_win\": 70, \"pro_win_rate\": 50.0, \"Color\": \"red\"}, {\"Name\": \"Undying\", \"Primary Attribute\": \"str\", \"attack_type\": \"Melee\", \"roles\": \"['Support', 'Durable', 'Disabler', 'Nuker']\", \"Divine Picks\": 8677, \"Divine Wins\": 4658, \"Divine Win Rate\": 53.68, \"Immortal Picks\": 5787, \"Immortal Wins\": 3057, \"Immortal Win Rate\": 52.83, \"pro_pick\": 770, \"pro_ban\": 931, \"pro_win\": 402, \"pro_win_rate\": 52.21, \"Color\": \"red\"}, {\"Name\": \"Spirit Breaker\", \"Primary Attribute\": \"str\", \"attack_type\": \"Melee\", \"roles\": \"['Carry', 'Initiator', 'Disabler', 'Durable', 'Escape']\", \"Divine Picks\": 13866, \"Divine Wins\": 6992, \"Divine Win Rate\": 50.43, \"Immortal Picks\": 6913, \"Immortal Wins\": 3595, \"Immortal Win Rate\": 52.0, \"pro_pick\": 864, \"pro_ban\": 661, \"pro_win\": 433, \"pro_win_rate\": 50.12, \"Color\": \"red\"}, {\"Name\": \"Primal Beast\", \"Primary Attribute\": \"str\", \"attack_type\": \"Melee\", \"roles\": \"['Initiator', 'Durable', 'Disabler']\", \"Divine Picks\": 5330, \"Divine Wins\": 2679, \"Divine Win Rate\": 50.26, \"Immortal Picks\": 3850, \"Immortal Wins\": 1996, \"Immortal Win Rate\": 51.84, \"pro_pick\": 497, \"pro_ban\": 747, \"pro_win\": 265, \"pro_win_rate\": 53.32, \"Color\": \"red\"}, {\"Name\": \"Huskar\", \"Primary Attribute\": \"str\", \"attack_type\": \"Ranged\", \"roles\": \"['Carry', 'Durable', 'Initiator']\", \"Divine Picks\": 3713, \"Divine Wins\": 1953, \"Divine Win Rate\": 52.6, \"Immortal Picks\": 2381, \"Immortal Wins\": 1232, \"Immortal Win Rate\": 51.74, \"pro_pick\": 105, \"pro_ban\": 222, \"pro_win\": 52, \"pro_win_rate\": 49.52, \"Color\": \"red\"}, {\"Name\": \"Earth Spirit\", \"Primary Attribute\": \"str\", \"attack_type\": \"Melee\", \"roles\": \"['Nuker', 'Escape', 'Disabler', 'Initiator', 'Durable']\", \"Divine Picks\": 2128, \"Divine Wins\": 1049, \"Divine Win Rate\": 49.3, \"Immortal Picks\": 1271, \"Immortal Wins\": 655, \"Immortal Win Rate\": 51.53, \"pro_pick\": 88, \"pro_ban\": 37, \"pro_win\": 42, \"pro_win_rate\": 47.73, \"Color\": \"red\"}, {\"Name\": \"Chaos Knight\", \"Primary Attribute\": \"str\", \"attack_type\": \"Melee\", \"roles\": \"['Carry', 'Disabler', 'Durable', 'Pusher', 'Initiator']\", \"Divine Picks\": 1939, \"Divine Wins\": 992, \"Divine Win Rate\": 51.16, \"Immortal Picks\": 764, \"Immortal Wins\": 391, \"Immortal Win Rate\": 51.18, \"pro_pick\": 44, \"pro_ban\": 19, \"pro_win\": 17, \"pro_win_rate\": 38.64, \"Color\": \"red\"}]}}, {\"mode\": \"vega-lite\"});\n",
       "</script>"
      ],
      "text/plain": [
       "alt.Chart(...)"
      ]
     },
     "execution_count": 8,
     "metadata": {},
     "output_type": "execute_result"
    }
   ],
   "source": [
    "top_10_df = df.groupby(['Primary Attribute']).apply(lambda x: x.nlargest(10, 'Immortal Win Rate')).reset_index(drop=True)\n",
    "top_10_df = top_10_df.sort_values(by=['Primary Attribute', 'Immortal Win Rate'], ascending=[True, False])\n",
    "\n",
    "chart = alt.Chart(top_10_df).mark_bar().encode(\n",
    "\n",
    "    alt.X('Immortal Win Rate:Q', title='Immortal Win Rate'),\n",
    "    alt.Y('Name:N', title='Hero', sort=alt.EncodingSortField(field='Primary Attribute')),\n",
    "    \n",
    "    color=alt.Color('Primary Attribute:N',\n",
    "                    scale=alt.Scale(domain=['str', 'int', 'agi', 'all'], range=['red', 'blue', 'green', 'purple']),\n",
    "                    legend=None),\n",
    "\n",
    ").properties(\n",
    "    width=600,\n",
    "    height=400,\n",
    "    title='Top 10 Heroes Win Rate in Each Primary Attribute (Grouped Bar Chart)'\n",
    ").configure_axis(\n",
    "    labelFontSize=12,\n",
    "    titleFontSize=14\n",
    ").configure_title(\n",
    "    fontSize=16\n",
    ")\n",
    "\n",
    "chart"
   ]
  },
  {
   "cell_type": "code",
   "execution_count": 9,
   "metadata": {},
   "outputs": [
    {
     "data": {
      "application/vnd.plotly.v1+json": {
       "config": {
        "plotlyServerURL": "https://plot.ly"
       },
       "data": [
        {
         "alignmentgroup": "True",
         "boxpoints": "all",
         "customdata": [
          [
           "Abaddon"
          ],
          [
           "Bane"
          ],
          [
           "Batrider"
          ],
          [
           "Beastmaster"
          ],
          [
           "Brewmaster"
          ],
          [
           "Broodmother"
          ],
          [
           "Chen"
          ],
          [
           "Clockwerk"
          ],
          [
           "Dark Seer"
          ],
          [
           "Dark Willow"
          ],
          [
           "Dazzle"
          ],
          [
           "Enigma"
          ],
          [
           "Io"
          ],
          [
           "Lone Druid"
          ],
          [
           "Lycan"
          ],
          [
           "Magnus"
          ],
          [
           "Marci"
          ],
          [
           "Mirana"
          ],
          [
           "Nyx Assassin"
          ],
          [
           "Pangolier"
          ],
          [
           "Phoenix"
          ],
          [
           "Sand King"
          ],
          [
           "Snapfire"
          ],
          [
           "Techies"
          ],
          [
           "Timbersaw"
          ],
          [
           "Vengeful Spirit"
          ],
          [
           "Venomancer"
          ],
          [
           "Visage"
          ],
          [
           "Void Spirit"
          ],
          [
           "Windranger"
          ],
          [
           "Winter Wyvern"
          ]
         ],
         "hovertemplate": "Name: %{customdata[0]} <br>Immortal Win Rate: %{y}",
         "legendgroup": "all",
         "marker": {
          "color": "purple"
         },
         "name": "all",
         "notched": false,
         "offsetgroup": "all",
         "orientation": "v",
         "showlegend": true,
         "type": "box",
         "x": [
          "Melee",
          "Ranged",
          "Ranged",
          "Melee",
          "Melee",
          "Melee",
          "Ranged",
          "Melee",
          "Melee",
          "Ranged",
          "Ranged",
          "Ranged",
          "Ranged",
          "Ranged",
          "Melee",
          "Melee",
          "Melee",
          "Ranged",
          "Melee",
          "Melee",
          "Ranged",
          "Melee",
          "Ranged",
          "Ranged",
          "Melee",
          "Ranged",
          "Ranged",
          "Ranged",
          "Melee",
          "Ranged",
          "Ranged"
         ],
         "x0": " ",
         "xaxis": "x",
         "y": [
          48,
          51.75,
          49.18,
          50.66,
          54.5,
          47.37,
          52.8,
          50.2,
          53.53,
          47.65,
          46.03,
          50.95,
          50.12,
          50.11,
          48.96,
          46.96,
          47.54,
          49.85,
          51.66,
          49.68,
          50.69,
          48.57,
          47.89,
          49.35,
          46.95,
          45.08,
          51.57,
          52.82,
          44.52,
          50.37,
          47.24
         ],
         "y0": " ",
         "yaxis": "y"
        },
        {
         "alignmentgroup": "True",
         "boxpoints": "all",
         "customdata": [
          [
           "Alchemist"
          ],
          [
           "Axe"
          ],
          [
           "Bristleback"
          ],
          [
           "Centaur Warrunner"
          ],
          [
           "Chaos Knight"
          ],
          [
           "Dawnbreaker"
          ],
          [
           "Doom"
          ],
          [
           "Dragon Knight"
          ],
          [
           "Earth Spirit"
          ],
          [
           "Earthshaker"
          ],
          [
           "Elder Titan"
          ],
          [
           "Huskar"
          ],
          [
           "Kunkka"
          ],
          [
           "Legion Commander"
          ],
          [
           "Lifestealer"
          ],
          [
           "Mars"
          ],
          [
           "Night Stalker"
          ],
          [
           "Ogre Magi"
          ],
          [
           "Omniknight"
          ],
          [
           "Primal Beast"
          ],
          [
           "Pudge"
          ],
          [
           "Slardar"
          ],
          [
           "Spirit Breaker"
          ],
          [
           "Sven"
          ],
          [
           "Tidehunter"
          ],
          [
           "Tiny"
          ],
          [
           "Treant Protector"
          ],
          [
           "Tusk"
          ],
          [
           "Underlord"
          ],
          [
           "Undying"
          ],
          [
           "Wraith King"
          ]
         ],
         "hovertemplate": "Name: %{customdata[0]} <br>Immortal Win Rate: %{y}",
         "legendgroup": "str",
         "marker": {
          "color": "red"
         },
         "name": "str",
         "notched": false,
         "offsetgroup": "str",
         "orientation": "v",
         "showlegend": true,
         "type": "box",
         "x": [
          "Melee",
          "Melee",
          "Melee",
          "Melee",
          "Melee",
          "Melee",
          "Melee",
          "Melee",
          "Melee",
          "Melee",
          "Melee",
          "Ranged",
          "Melee",
          "Melee",
          "Melee",
          "Melee",
          "Melee",
          "Melee",
          "Melee",
          "Melee",
          "Melee",
          "Melee",
          "Melee",
          "Melee",
          "Melee",
          "Melee",
          "Melee",
          "Melee",
          "Melee",
          "Melee",
          "Melee"
         ],
         "x0": " ",
         "xaxis": "x",
         "y": [
          48.92,
          49.72,
          46.67,
          46.33,
          51.18,
          53.27,
          42.56,
          44.6,
          51.53,
          53.42,
          53.22,
          51.74,
          50.4,
          56.1,
          46.97,
          45.81,
          49.9,
          45.16,
          49.76,
          51.84,
          48.71,
          46.44,
          52,
          49.68,
          48.01,
          46.32,
          47.57,
          46.97,
          50.11,
          52.83,
          46.2
         ],
         "y0": " ",
         "yaxis": "y"
        },
        {
         "alignmentgroup": "True",
         "boxpoints": "all",
         "customdata": [
          [
           "Ancient Apparition"
          ],
          [
           "Crystal Maiden"
          ],
          [
           "Death Prophet"
          ],
          [
           "Disruptor"
          ],
          [
           "Enchantress"
          ],
          [
           "Grimstroke"
          ],
          [
           "Invoker"
          ],
          [
           "Jakiro"
          ],
          [
           "Keeper of the Light"
          ],
          [
           "Leshrac"
          ],
          [
           "Lich"
          ],
          [
           "Lina"
          ],
          [
           "Lion"
          ],
          [
           "Muerta"
          ],
          [
           "Nature's Prophet"
          ],
          [
           "Necrophos"
          ],
          [
           "Oracle"
          ],
          [
           "Outworld Destroyer"
          ],
          [
           "Puck"
          ],
          [
           "Pugna"
          ],
          [
           "Queen of Pain"
          ],
          [
           "Rubick"
          ],
          [
           "Shadow Demon"
          ],
          [
           "Shadow Shaman"
          ],
          [
           "Silencer"
          ],
          [
           "Skywrath Mage"
          ],
          [
           "Storm Spirit"
          ],
          [
           "Tinker"
          ],
          [
           "Warlock"
          ],
          [
           "Witch Doctor"
          ],
          [
           "Zeus"
          ]
         ],
         "hovertemplate": "Name: %{customdata[0]} <br>Immortal Win Rate: %{y}",
         "legendgroup": "int",
         "marker": {
          "color": "blue"
         },
         "name": "int",
         "notched": false,
         "offsetgroup": "int",
         "orientation": "v",
         "showlegend": true,
         "type": "box",
         "x": [
          "Ranged",
          "Ranged",
          "Ranged",
          "Ranged",
          "Ranged",
          "Ranged",
          "Ranged",
          "Ranged",
          "Ranged",
          "Ranged",
          "Ranged",
          "Ranged",
          "Ranged",
          "Ranged",
          "Ranged",
          "Ranged",
          "Ranged",
          "Ranged",
          "Ranged",
          "Ranged",
          "Ranged",
          "Ranged",
          "Ranged",
          "Ranged",
          "Ranged",
          "Ranged",
          "Ranged",
          "Ranged",
          "Ranged",
          "Ranged",
          "Ranged"
         ],
         "x0": " ",
         "xaxis": "x",
         "y": [
          53.57,
          50.26,
          49.87,
          47.94,
          43.55,
          46.23,
          50.48,
          52.32,
          47.11,
          52.31,
          50,
          43.89,
          47.94,
          50.49,
          39.45,
          50.48,
          54.62,
          50.22,
          48.09,
          53.2,
          48.94,
          49.28,
          49.82,
          48.85,
          50.72,
          51.78,
          49.69,
          55.34,
          49.9,
          46.75,
          49.7
         ],
         "y0": " ",
         "yaxis": "y"
        },
        {
         "alignmentgroup": "True",
         "boxpoints": "all",
         "customdata": [
          [
           "Anti-Mage"
          ],
          [
           "Arc Warden"
          ],
          [
           "Bloodseeker"
          ],
          [
           "Bounty Hunter"
          ],
          [
           "Clinkz"
          ],
          [
           "Drow Ranger"
          ],
          [
           "Ember Spirit"
          ],
          [
           "Faceless Void"
          ],
          [
           "Gyrocopter"
          ],
          [
           "Hoodwink"
          ],
          [
           "Juggernaut"
          ],
          [
           "Luna"
          ],
          [
           "Medusa"
          ],
          [
           "Meepo"
          ],
          [
           "Monkey King"
          ],
          [
           "Morphling"
          ],
          [
           "Naga Siren"
          ],
          [
           "Phantom Assassin"
          ],
          [
           "Phantom Lancer"
          ],
          [
           "Razor"
          ],
          [
           "Riki"
          ],
          [
           "Shadow Fiend"
          ],
          [
           "Slark"
          ],
          [
           "Sniper"
          ],
          [
           "Spectre"
          ],
          [
           "Templar Assassin"
          ],
          [
           "Terrorblade"
          ],
          [
           "Troll Warlord"
          ],
          [
           "Ursa"
          ],
          [
           "Viper"
          ],
          [
           "Weaver"
          ]
         ],
         "hovertemplate": "Name: %{customdata[0]} <br>Immortal Win Rate: %{y}",
         "legendgroup": "agi",
         "marker": {
          "color": "green"
         },
         "name": "agi",
         "notched": false,
         "offsetgroup": "agi",
         "orientation": "v",
         "showlegend": true,
         "type": "box",
         "x": [
          "Melee",
          "Ranged",
          "Melee",
          "Melee",
          "Ranged",
          "Ranged",
          "Melee",
          "Melee",
          "Ranged",
          "Ranged",
          "Melee",
          "Ranged",
          "Ranged",
          "Melee",
          "Melee",
          "Ranged",
          "Melee",
          "Melee",
          "Melee",
          "Ranged",
          "Melee",
          "Ranged",
          "Melee",
          "Ranged",
          "Melee",
          "Ranged",
          "Melee",
          "Ranged",
          "Melee",
          "Ranged",
          "Ranged"
         ],
         "x0": " ",
         "xaxis": "x",
         "y": [
          47.95,
          49.12,
          50.82,
          51.17,
          51.8,
          49.11,
          49.02,
          51.78,
          47.76,
          44.98,
          48.15,
          48.7,
          51.3,
          56.85,
          47.75,
          47.72,
          55.55,
          47.01,
          49.14,
          50.9,
          53.7,
          45.79,
          52.59,
          49.27,
          49.76,
          51.24,
          46.43,
          49.72,
          47.92,
          47.98,
          49.34
         ],
         "y0": " ",
         "yaxis": "y"
        }
       ],
       "layout": {
        "boxmode": "group",
        "legend": {
         "title": {
          "text": "Primary Attribute"
         },
         "tracegroupgap": 0
        },
        "template": {
         "data": {
          "bar": [
           {
            "error_x": {
             "color": "#f2f5fa"
            },
            "error_y": {
             "color": "#f2f5fa"
            },
            "marker": {
             "line": {
              "color": "rgb(17,17,17)",
              "width": 0.5
             },
             "pattern": {
              "fillmode": "overlay",
              "size": 10,
              "solidity": 0.2
             }
            },
            "type": "bar"
           }
          ],
          "barpolar": [
           {
            "marker": {
             "line": {
              "color": "rgb(17,17,17)",
              "width": 0.5
             },
             "pattern": {
              "fillmode": "overlay",
              "size": 10,
              "solidity": 0.2
             }
            },
            "type": "barpolar"
           }
          ],
          "carpet": [
           {
            "aaxis": {
             "endlinecolor": "#A2B1C6",
             "gridcolor": "#506784",
             "linecolor": "#506784",
             "minorgridcolor": "#506784",
             "startlinecolor": "#A2B1C6"
            },
            "baxis": {
             "endlinecolor": "#A2B1C6",
             "gridcolor": "#506784",
             "linecolor": "#506784",
             "minorgridcolor": "#506784",
             "startlinecolor": "#A2B1C6"
            },
            "type": "carpet"
           }
          ],
          "choropleth": [
           {
            "colorbar": {
             "outlinewidth": 0,
             "ticks": ""
            },
            "type": "choropleth"
           }
          ],
          "contour": [
           {
            "colorbar": {
             "outlinewidth": 0,
             "ticks": ""
            },
            "colorscale": [
             [
              0,
              "#0d0887"
             ],
             [
              0.1111111111111111,
              "#46039f"
             ],
             [
              0.2222222222222222,
              "#7201a8"
             ],
             [
              0.3333333333333333,
              "#9c179e"
             ],
             [
              0.4444444444444444,
              "#bd3786"
             ],
             [
              0.5555555555555556,
              "#d8576b"
             ],
             [
              0.6666666666666666,
              "#ed7953"
             ],
             [
              0.7777777777777778,
              "#fb9f3a"
             ],
             [
              0.8888888888888888,
              "#fdca26"
             ],
             [
              1,
              "#f0f921"
             ]
            ],
            "type": "contour"
           }
          ],
          "contourcarpet": [
           {
            "colorbar": {
             "outlinewidth": 0,
             "ticks": ""
            },
            "type": "contourcarpet"
           }
          ],
          "heatmap": [
           {
            "colorbar": {
             "outlinewidth": 0,
             "ticks": ""
            },
            "colorscale": [
             [
              0,
              "#0d0887"
             ],
             [
              0.1111111111111111,
              "#46039f"
             ],
             [
              0.2222222222222222,
              "#7201a8"
             ],
             [
              0.3333333333333333,
              "#9c179e"
             ],
             [
              0.4444444444444444,
              "#bd3786"
             ],
             [
              0.5555555555555556,
              "#d8576b"
             ],
             [
              0.6666666666666666,
              "#ed7953"
             ],
             [
              0.7777777777777778,
              "#fb9f3a"
             ],
             [
              0.8888888888888888,
              "#fdca26"
             ],
             [
              1,
              "#f0f921"
             ]
            ],
            "type": "heatmap"
           }
          ],
          "heatmapgl": [
           {
            "colorbar": {
             "outlinewidth": 0,
             "ticks": ""
            },
            "colorscale": [
             [
              0,
              "#0d0887"
             ],
             [
              0.1111111111111111,
              "#46039f"
             ],
             [
              0.2222222222222222,
              "#7201a8"
             ],
             [
              0.3333333333333333,
              "#9c179e"
             ],
             [
              0.4444444444444444,
              "#bd3786"
             ],
             [
              0.5555555555555556,
              "#d8576b"
             ],
             [
              0.6666666666666666,
              "#ed7953"
             ],
             [
              0.7777777777777778,
              "#fb9f3a"
             ],
             [
              0.8888888888888888,
              "#fdca26"
             ],
             [
              1,
              "#f0f921"
             ]
            ],
            "type": "heatmapgl"
           }
          ],
          "histogram": [
           {
            "marker": {
             "pattern": {
              "fillmode": "overlay",
              "size": 10,
              "solidity": 0.2
             }
            },
            "type": "histogram"
           }
          ],
          "histogram2d": [
           {
            "colorbar": {
             "outlinewidth": 0,
             "ticks": ""
            },
            "colorscale": [
             [
              0,
              "#0d0887"
             ],
             [
              0.1111111111111111,
              "#46039f"
             ],
             [
              0.2222222222222222,
              "#7201a8"
             ],
             [
              0.3333333333333333,
              "#9c179e"
             ],
             [
              0.4444444444444444,
              "#bd3786"
             ],
             [
              0.5555555555555556,
              "#d8576b"
             ],
             [
              0.6666666666666666,
              "#ed7953"
             ],
             [
              0.7777777777777778,
              "#fb9f3a"
             ],
             [
              0.8888888888888888,
              "#fdca26"
             ],
             [
              1,
              "#f0f921"
             ]
            ],
            "type": "histogram2d"
           }
          ],
          "histogram2dcontour": [
           {
            "colorbar": {
             "outlinewidth": 0,
             "ticks": ""
            },
            "colorscale": [
             [
              0,
              "#0d0887"
             ],
             [
              0.1111111111111111,
              "#46039f"
             ],
             [
              0.2222222222222222,
              "#7201a8"
             ],
             [
              0.3333333333333333,
              "#9c179e"
             ],
             [
              0.4444444444444444,
              "#bd3786"
             ],
             [
              0.5555555555555556,
              "#d8576b"
             ],
             [
              0.6666666666666666,
              "#ed7953"
             ],
             [
              0.7777777777777778,
              "#fb9f3a"
             ],
             [
              0.8888888888888888,
              "#fdca26"
             ],
             [
              1,
              "#f0f921"
             ]
            ],
            "type": "histogram2dcontour"
           }
          ],
          "mesh3d": [
           {
            "colorbar": {
             "outlinewidth": 0,
             "ticks": ""
            },
            "type": "mesh3d"
           }
          ],
          "parcoords": [
           {
            "line": {
             "colorbar": {
              "outlinewidth": 0,
              "ticks": ""
             }
            },
            "type": "parcoords"
           }
          ],
          "pie": [
           {
            "automargin": true,
            "type": "pie"
           }
          ],
          "scatter": [
           {
            "marker": {
             "line": {
              "color": "#283442"
             }
            },
            "type": "scatter"
           }
          ],
          "scatter3d": [
           {
            "line": {
             "colorbar": {
              "outlinewidth": 0,
              "ticks": ""
             }
            },
            "marker": {
             "colorbar": {
              "outlinewidth": 0,
              "ticks": ""
             }
            },
            "type": "scatter3d"
           }
          ],
          "scattercarpet": [
           {
            "marker": {
             "colorbar": {
              "outlinewidth": 0,
              "ticks": ""
             }
            },
            "type": "scattercarpet"
           }
          ],
          "scattergeo": [
           {
            "marker": {
             "colorbar": {
              "outlinewidth": 0,
              "ticks": ""
             }
            },
            "type": "scattergeo"
           }
          ],
          "scattergl": [
           {
            "marker": {
             "line": {
              "color": "#283442"
             }
            },
            "type": "scattergl"
           }
          ],
          "scattermapbox": [
           {
            "marker": {
             "colorbar": {
              "outlinewidth": 0,
              "ticks": ""
             }
            },
            "type": "scattermapbox"
           }
          ],
          "scatterpolar": [
           {
            "marker": {
             "colorbar": {
              "outlinewidth": 0,
              "ticks": ""
             }
            },
            "type": "scatterpolar"
           }
          ],
          "scatterpolargl": [
           {
            "marker": {
             "colorbar": {
              "outlinewidth": 0,
              "ticks": ""
             }
            },
            "type": "scatterpolargl"
           }
          ],
          "scatterternary": [
           {
            "marker": {
             "colorbar": {
              "outlinewidth": 0,
              "ticks": ""
             }
            },
            "type": "scatterternary"
           }
          ],
          "surface": [
           {
            "colorbar": {
             "outlinewidth": 0,
             "ticks": ""
            },
            "colorscale": [
             [
              0,
              "#0d0887"
             ],
             [
              0.1111111111111111,
              "#46039f"
             ],
             [
              0.2222222222222222,
              "#7201a8"
             ],
             [
              0.3333333333333333,
              "#9c179e"
             ],
             [
              0.4444444444444444,
              "#bd3786"
             ],
             [
              0.5555555555555556,
              "#d8576b"
             ],
             [
              0.6666666666666666,
              "#ed7953"
             ],
             [
              0.7777777777777778,
              "#fb9f3a"
             ],
             [
              0.8888888888888888,
              "#fdca26"
             ],
             [
              1,
              "#f0f921"
             ]
            ],
            "type": "surface"
           }
          ],
          "table": [
           {
            "cells": {
             "fill": {
              "color": "#506784"
             },
             "line": {
              "color": "rgb(17,17,17)"
             }
            },
            "header": {
             "fill": {
              "color": "#2a3f5f"
             },
             "line": {
              "color": "rgb(17,17,17)"
             }
            },
            "type": "table"
           }
          ]
         },
         "layout": {
          "annotationdefaults": {
           "arrowcolor": "#f2f5fa",
           "arrowhead": 0,
           "arrowwidth": 1
          },
          "autotypenumbers": "strict",
          "coloraxis": {
           "colorbar": {
            "outlinewidth": 0,
            "ticks": ""
           }
          },
          "colorscale": {
           "diverging": [
            [
             0,
             "#8e0152"
            ],
            [
             0.1,
             "#c51b7d"
            ],
            [
             0.2,
             "#de77ae"
            ],
            [
             0.3,
             "#f1b6da"
            ],
            [
             0.4,
             "#fde0ef"
            ],
            [
             0.5,
             "#f7f7f7"
            ],
            [
             0.6,
             "#e6f5d0"
            ],
            [
             0.7,
             "#b8e186"
            ],
            [
             0.8,
             "#7fbc41"
            ],
            [
             0.9,
             "#4d9221"
            ],
            [
             1,
             "#276419"
            ]
           ],
           "sequential": [
            [
             0,
             "#0d0887"
            ],
            [
             0.1111111111111111,
             "#46039f"
            ],
            [
             0.2222222222222222,
             "#7201a8"
            ],
            [
             0.3333333333333333,
             "#9c179e"
            ],
            [
             0.4444444444444444,
             "#bd3786"
            ],
            [
             0.5555555555555556,
             "#d8576b"
            ],
            [
             0.6666666666666666,
             "#ed7953"
            ],
            [
             0.7777777777777778,
             "#fb9f3a"
            ],
            [
             0.8888888888888888,
             "#fdca26"
            ],
            [
             1,
             "#f0f921"
            ]
           ],
           "sequentialminus": [
            [
             0,
             "#0d0887"
            ],
            [
             0.1111111111111111,
             "#46039f"
            ],
            [
             0.2222222222222222,
             "#7201a8"
            ],
            [
             0.3333333333333333,
             "#9c179e"
            ],
            [
             0.4444444444444444,
             "#bd3786"
            ],
            [
             0.5555555555555556,
             "#d8576b"
            ],
            [
             0.6666666666666666,
             "#ed7953"
            ],
            [
             0.7777777777777778,
             "#fb9f3a"
            ],
            [
             0.8888888888888888,
             "#fdca26"
            ],
            [
             1,
             "#f0f921"
            ]
           ]
          },
          "colorway": [
           "#636efa",
           "#EF553B",
           "#00cc96",
           "#ab63fa",
           "#FFA15A",
           "#19d3f3",
           "#FF6692",
           "#B6E880",
           "#FF97FF",
           "#FECB52"
          ],
          "font": {
           "color": "#f2f5fa"
          },
          "geo": {
           "bgcolor": "rgb(17,17,17)",
           "lakecolor": "rgb(17,17,17)",
           "landcolor": "rgb(17,17,17)",
           "showlakes": true,
           "showland": true,
           "subunitcolor": "#506784"
          },
          "hoverlabel": {
           "align": "left"
          },
          "hovermode": "closest",
          "mapbox": {
           "style": "dark"
          },
          "paper_bgcolor": "rgb(17,17,17)",
          "plot_bgcolor": "rgb(17,17,17)",
          "polar": {
           "angularaxis": {
            "gridcolor": "#506784",
            "linecolor": "#506784",
            "ticks": ""
           },
           "bgcolor": "rgb(17,17,17)",
           "radialaxis": {
            "gridcolor": "#506784",
            "linecolor": "#506784",
            "ticks": ""
           }
          },
          "scene": {
           "xaxis": {
            "backgroundcolor": "rgb(17,17,17)",
            "gridcolor": "#506784",
            "gridwidth": 2,
            "linecolor": "#506784",
            "showbackground": true,
            "ticks": "",
            "zerolinecolor": "#C8D4E3"
           },
           "yaxis": {
            "backgroundcolor": "rgb(17,17,17)",
            "gridcolor": "#506784",
            "gridwidth": 2,
            "linecolor": "#506784",
            "showbackground": true,
            "ticks": "",
            "zerolinecolor": "#C8D4E3"
           },
           "zaxis": {
            "backgroundcolor": "rgb(17,17,17)",
            "gridcolor": "#506784",
            "gridwidth": 2,
            "linecolor": "#506784",
            "showbackground": true,
            "ticks": "",
            "zerolinecolor": "#C8D4E3"
           }
          },
          "shapedefaults": {
           "line": {
            "color": "#f2f5fa"
           }
          },
          "sliderdefaults": {
           "bgcolor": "#C8D4E3",
           "bordercolor": "rgb(17,17,17)",
           "borderwidth": 1,
           "tickwidth": 0
          },
          "ternary": {
           "aaxis": {
            "gridcolor": "#506784",
            "linecolor": "#506784",
            "ticks": ""
           },
           "baxis": {
            "gridcolor": "#506784",
            "linecolor": "#506784",
            "ticks": ""
           },
           "bgcolor": "rgb(17,17,17)",
           "caxis": {
            "gridcolor": "#506784",
            "linecolor": "#506784",
            "ticks": ""
           }
          },
          "title": {
           "x": 0.05
          },
          "updatemenudefaults": {
           "bgcolor": "#506784",
           "borderwidth": 0
          },
          "xaxis": {
           "automargin": true,
           "gridcolor": "#283442",
           "linecolor": "#506784",
           "ticks": "",
           "title": {
            "standoff": 15
           },
           "zerolinecolor": "#283442",
           "zerolinewidth": 2
          },
          "yaxis": {
           "automargin": true,
           "gridcolor": "#283442",
           "linecolor": "#506784",
           "ticks": "",
           "title": {
            "standoff": 15
           },
           "zerolinecolor": "#283442",
           "zerolinewidth": 2
          }
         }
        },
        "title": {
         "text": "attack_type, Immortal Win Rate Correlation."
        },
        "xaxis": {
         "anchor": "y",
         "domain": [
          0,
          1
         ],
         "title": {
          "text": "attack_type"
         }
        },
        "yaxis": {
         "anchor": "x",
         "domain": [
          0,
          1
         ],
         "title": {
          "text": "Immortal Win Rate"
         }
        }
       }
      }
     },
     "metadata": {},
     "output_type": "display_data"
    }
   ],
   "source": [
    "def type_corr_winrate(df, target_col, feature_col1, feature_col2):\n",
    "    \n",
    "    color_map = {'str': 'red', 'int': 'blue', 'agi': 'green', 'all': 'purple'}\n",
    "    df['Color'] = df[feature_col1].map(color_map)\n",
    "    fig = px.box(df, x=feature_col2, y=target_col, points='all', title=f'{feature_col2}, {target_col} Correlation.',\n",
    "                 hover_data=['Name', target_col],\n",
    "                 color=feature_col1, color_discrete_map=color_map)\n",
    "    \n",
    "    fig.update_layout(template='plotly_dark', yaxis_title=target_col)\n",
    "\n",
    "    fig.update_traces(hovertemplate='Name: %{customdata[0]} <br>Immortal Win Rate: %{y}')\n",
    "    \n",
    "    fig.show()\n",
    "\n",
    "type_corr_winrate (df, 'Immortal Win Rate', 'Primary Attribute','attack_type')"
   ]
  },
  {
   "cell_type": "code",
   "execution_count": 16,
   "metadata": {},
   "outputs": [
    {
     "name": "stdout",
     "output_type": "stream",
     "text": [
      "Attack Type, Immortal Win Rate Correlation: -0.0054242138578154886\n"
     ]
    }
   ],
   "source": [
    "filtered_df = df[df['attack_type'] != 'int']\n",
    "\n",
    "label_encoder = LabelEncoder()\n",
    "\n",
    "df['attack_type_encoded'] = label_encoder.fit_transform(df['attack_type'])\n",
    "\n",
    "correlation = df['attack_type_encoded'].corr(df['Immortal Win Rate'])\n",
    "\n",
    "print(f\"Attack Type, Immortal Win Rate Correlation: {correlation}\")\n",
    "\n"
   ]
  },
  {
   "cell_type": "code",
   "execution_count": 19,
   "metadata": {},
   "outputs": [
    {
     "name": "stdout",
     "output_type": "stream",
     "text": [
      "Mann-Whitney U Statistic: 1816.0\n",
      "P-value: 0.604802054088611\n",
      "Fail to reject the null hypothesis: There is no significant difference between Melee and Ranged heroes.\n"
     ]
    }
   ],
   "source": [
    "filtered_df = df [(df['attack_type'] != 'int') & (df ['attack_type'] != 'str')]\n",
    "\n",
    "melee_data = filtered_df[filtered_df['attack_type'] == 'Melee'] ['Immortal Win Rate']\n",
    "ranged_data = filtered_df[filtered_df['attack_type'] == 'Ranged'] ['Immortal Win Rate']\n",
    "\n",
    "statistic, p_value = mannwhitneyu(melee_data, ranged_data)\n",
    "\n",
    "alpha = 0.01\n",
    "\n",
    "print(f\"Mann-Whitney U Statistic: {statistic}\")\n",
    "print(f\"P-value: {p_value}\")\n",
    "\n",
    "if p_value < alpha:\n",
    "    print(\"Reject the null hypothesis: There is a significant difference between Melee and Ranged heroes.\")\n",
    "else:\n",
    "    print(\"Fail to reject the null hypothesis: There is no significant difference between Melee and Ranged heroes.\")"
   ]
  },
  {
   "cell_type": "code",
   "execution_count": 4,
   "metadata": {},
   "outputs": [
    {
     "data": {
      "image/png": "[encoded data removed]",
      "text/plain": [
       "<Figure size 640x480 with 1 Axes>"
      ]
     },
     "metadata": {},
     "output_type": "display_data"
    }
   ],
   "source": [
    "role_win_rates = {}\n",
    "\n",
    "for _, row in df.iterrows():\n",
    "    roles = row['roles'].split(', ')\n",
    "    win_rate = row['Immortal Win Rate']\n",
    "\n",
    "    for role in roles:\n",
    "        role = role.strip()\n",
    "        if role not in role_win_rates:\n",
    "            role_win_rates[role] = {'win_rates': [], 'count': 0}\n",
    "        role_win_rates[role]['win_rates'].append(win_rate)\n",
    "        role_win_rates[role]['count'] += 1\n",
    "\n",
    "unique_roles_set = set(role for roles in df['roles'] for role in roles.split(', '))\n",
    "unique_roles = list(unique_roles_set)\n",
    "\n",
    "mean_win_rates = [sum(role_win_rates[role]['win_rates']) / role_win_rates[role]['count']\n",
    "                  if role in role_win_rates else 0 for role in unique_roles]\n",
    "\n",
    "num_unique_roles = len(unique_roles)\n",
    "\n",
    "theta = np.linspace(0, 2*np.pi, num_unique_roles, endpoint=False)\n",
    "\n",
    "fig, ax = plt.subplots(subplot_kw={'projection': 'polar'})\n",
    "\n",
    "ax.set_rgrids([0.2, 0.4, 0.6, 0.8])\n",
    "\n",
    "ax.set_xticks(theta)\n",
    "ax.set_xticklabels(unique_roles)\n",
    "\n",
    "ax.plot(theta, mean_win_rates, color='Darkred', marker='o', label='Mean Immortal Win Rate')\n",
    "ax.fill(theta, mean_win_rates, facecolor='Darkred', alpha=0.25)\n",
    "\n",
    "ax.set_title('Mean Correlation between Roles and Immortal Win Rate', weight='bold', size='small', position=(0.5, 1.1),\n",
    "             horizontalalignment='right', verticalalignment='bottom')\n",
    "ax.legend(loc='upper left')\n",
    "\n",
    "plt.show()\n"
   ]
  },
  {
   "cell_type": "code",
   "execution_count": 2,
   "metadata": {},
   "outputs": [
    {
     "name": "stdout",
     "output_type": "stream",
     "text": [
      "Chi2:  11650.833333333338\n",
      "Observers Number:  Immortal Win Rate\n",
      "39.45    1\n",
      "42.56    1\n",
      "43.55    1\n",
      "43.89    1\n",
      "44.52    1\n",
      "        ..\n",
      "54.62    1\n",
      "55.34    1\n",
      "55.55    1\n",
      "56.10    1\n",
      "56.85    1\n",
      "Length: 115, dtype: int64\n",
      "Minimum Dimension:  101\n",
      "Cramér's V: Immortal Win Rate\n",
      "39.45    10.740335\n",
      "42.56    10.740335\n",
      "43.55    10.740335\n",
      "43.89    10.740335\n",
      "44.52    10.740335\n",
      "           ...    \n",
      "54.62    10.740335\n",
      "55.34    10.740335\n",
      "55.55    10.740335\n",
      "56.10    10.740335\n",
      "56.85    10.740335\n",
      "Length: 115, dtype: float64\n"
     ]
    }
   ],
   "source": [
    "cross_tab = pd.crosstab(df['roles'], df['Immortal Win Rate'])\n",
    "\n",
    "chi2 = chi2_contingency(cross_tab)[0]\n",
    "print('Chi2: ', chi2)\n",
    "\n",
    "num_obs = np.sum(cross_tab)\n",
    "print('Observers Number: ', num_obs)\n",
    "\n",
    "min_dim = min(cross_tab.shape) - 1\n",
    "print('Minimum Dimension: ', min_dim)\n",
    "\n",
    "cramer_v = np.sqrt(chi2 / (num_obs * min_dim))\n",
    "print(f\"Cramér's V: {cramer_v}\")"
   ]
  },
  {
   "cell_type": "code",
   "execution_count": 4,
   "metadata": {},
   "outputs": [
    {
     "name": "stdout",
     "output_type": "stream",
     "text": [
      "F-statistic: 0.6206562369351009\n",
      "p-value: 0.9416960008782077\n"
     ]
    }
   ],
   "source": [
    "role_groups = [df[df['roles'] == role]['Immortal Win Rate'] for role in df['roles'].unique()]\n",
    "\n",
    "f_statistic, p_value = f_oneway(*role_groups)\n",
    "\n",
    "print(f'F-statistic: {f_statistic}')\n",
    "print(f'p-value: {p_value}')"
   ]
  },
  {
   "cell_type": "code",
   "execution_count": null,
   "metadata": {},
   "outputs": [],
   "source": [
    "# No Correlation whatsoever between heroes stats and Win Rate in Immortal bracket, it's all about player skill level."
   ]
  }
 ],
 "metadata": {
  "kernelspec": {
   "display_name": "Python 3",
   "language": "python",
   "name": "python3"
  },
  "language_info": {
   "codemirror_mode": {
    "name": "ipython",
    "version": 3
   },
   "file_extension": ".py",
   "mimetype": "text/x-python",
   "name": "python",
   "nbconvert_exporter": "python",
   "pygments_lexer": "ipython3",
   "version": "3.12.0"
  },
  "orig_nbformat": 4
 },
 "nbformat": 4,
 "nbformat_minor": 2
}
