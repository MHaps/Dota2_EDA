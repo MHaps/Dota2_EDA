{
 "cells": [
  {
   "cell_type": "code",
   "execution_count": 2,
   "metadata": {},
   "outputs": [
    {
     "ename": "ModuleNotFoundError",
     "evalue": "No module named 'scipy'",
     "output_type": "error",
     "traceback": [
      "\u001b[1;31m---------------------------------------------------------------------------\u001b[0m",
      "\u001b[1;31mModuleNotFoundError\u001b[0m                       Traceback (most recent call last)",
      "\u001b[1;32mc:\\Users\\Haber\\Documents\\OneDrive\\Dota_Project\\dota_prints.ipynb Cell 1\u001b[0m line \u001b[0;36m1\n\u001b[0;32m      <a href='vscode-notebook-cell:/c%3A/Users/Haber/Documents/OneDrive/Dota_Project/dota_prints.ipynb#W0sZmlsZQ%3D%3D?line=7'>8</a>\u001b[0m \u001b[39mimport\u001b[39;00m \u001b[39mmatplotlib\u001b[39;00m\u001b[39m.\u001b[39;00m\u001b[39mpyplot\u001b[39;00m \u001b[39mas\u001b[39;00m \u001b[39mplt\u001b[39;00m\n\u001b[0;32m      <a href='vscode-notebook-cell:/c%3A/Users/Haber/Documents/OneDrive/Dota_Project/dota_prints.ipynb#W0sZmlsZQ%3D%3D?line=8'>9</a>\u001b[0m \u001b[39mfrom\u001b[39;00m \u001b[39mplotly\u001b[39;00m \u001b[39mimport\u001b[39;00m express \u001b[39mas\u001b[39;00m px\n\u001b[1;32m---> <a href='vscode-notebook-cell:/c%3A/Users/Haber/Documents/OneDrive/Dota_Project/dota_prints.ipynb#W0sZmlsZQ%3D%3D?line=9'>10</a>\u001b[0m \u001b[39mfrom\u001b[39;00m \u001b[39mscipy\u001b[39;00m \u001b[39mimport\u001b[39;00m stats\n\u001b[0;32m     <a href='vscode-notebook-cell:/c%3A/Users/Haber/Documents/OneDrive/Dota_Project/dota_prints.ipynb#W0sZmlsZQ%3D%3D?line=10'>11</a>\u001b[0m \u001b[39mfrom\u001b[39;00m \u001b[39msklearn\u001b[39;00m\u001b[39m.\u001b[39;00m\u001b[39mpreprocessing\u001b[39;00m \u001b[39mimport\u001b[39;00m MultiLabelBinarizer, OneHotEncoder\n\u001b[0;32m     <a href='vscode-notebook-cell:/c%3A/Users/Haber/Documents/OneDrive/Dota_Project/dota_prints.ipynb#W0sZmlsZQ%3D%3D?line=12'>13</a>\u001b[0m df\u001b[39m=\u001b[39mpd\u001b[39m.\u001b[39mread_csv(\u001b[39m'\u001b[39m\u001b[39mfinal_stats.csv\u001b[39m\u001b[39m'\u001b[39m)\n",
      "\u001b[1;31mModuleNotFoundError\u001b[0m: No module named 'scipy'"
     ]
    }
   ],
   "source": [
    "import json\n",
    "import altair as alt\n",
    "import plotly.graph_objects as go\n",
    "import plotly.subplots as sp\n",
    "import pandas as pd\n",
    "import numpy as np\n",
    "import seaborn as sns\n",
    "import matplotlib.pyplot as plt\n",
    "from plotly import express as px\n",
    "from scipy import stats\n",
    "from sklearn.preprocessing import MultiLabelBinarizer, OneHotEncoder\n",
    "\n",
    "df=pd.read_csv('final_stats.csv')"
   ]
  },
  {
   "cell_type": "code",
   "execution_count": 4,
   "metadata": {},
   "outputs": [
    {
     "name": "stdout",
     "output_type": "stream",
     "text": [
      "                 Name Primary Attribute attack_type  \\\n",
      "0             Abaddon               all       Melee   \n",
      "1           Alchemist               str       Melee   \n",
      "2  Ancient Apparition               int      Ranged   \n",
      "3           Anti-Mage               agi       Melee   \n",
      "4          Arc Warden               agi      Ranged   \n",
      "\n",
      "                                               roles  Divine Picks  \\\n",
      "0                    ['Support', 'Carry', 'Durable']          2589   \n",
      "1  ['Carry', 'Support', 'Durable', 'Disabler', 'I...          2106   \n",
      "2                   ['Support', 'Disabler', 'Nuker']          4591   \n",
      "3                       ['Carry', 'Escape', 'Nuker']          6472   \n",
      "4                       ['Carry', 'Escape', 'Nuker']          1606   \n",
      "\n",
      "   Divine Wins  Divine Win Rate  Immortal Picks  Immortal Wins  \\\n",
      "0         1294            49.98             725            348   \n",
      "1         1005            47.72            1016            497   \n",
      "2         2377            51.78            1861            997   \n",
      "3         3107            48.01            2582           1238   \n",
      "4          838            52.18             627            308   \n",
      "\n",
      "   Immortal Win Rate  pro_pick  pro_ban  pro_win  pro_win_rate  \n",
      "0              48.00        43      107       21         48.84  \n",
      "1              48.92       101       85       50         49.50  \n",
      "2              53.57        50       80       24         48.00  \n",
      "3              47.95       172      625       74         43.02  \n",
      "4              49.12        16       71        7         43.75  \n",
      "\n",
      "\n",
      "<class 'pandas.core.frame.DataFrame'>\n",
      "RangeIndex: 124 entries, 0 to 123\n",
      "Data columns (total 14 columns):\n",
      " #   Column             Non-Null Count  Dtype  \n",
      "---  ------             --------------  -----  \n",
      " 0   Name               124 non-null    object \n",
      " 1   Primary Attribute  124 non-null    object \n",
      " 2   attack_type        124 non-null    object \n",
      " 3   roles              124 non-null    object \n",
      " 4   Divine Picks       124 non-null    int64  \n",
      " 5   Divine Wins        124 non-null    int64  \n",
      " 6   Divine Win Rate    124 non-null    float64\n",
      " 7   Immortal Picks     124 non-null    int64  \n",
      " 8   Immortal Wins      124 non-null    int64  \n",
      " 9   Immortal Win Rate  124 non-null    float64\n",
      " 10  pro_pick           124 non-null    int64  \n",
      " 11  pro_ban            124 non-null    int64  \n",
      " 12  pro_win            124 non-null    int64  \n",
      " 13  pro_win_rate       124 non-null    float64\n",
      "dtypes: float64(3), int64(7), object(4)\n",
      "memory usage: 13.7+ KB\n",
      "None\n",
      "\n",
      "\n",
      "       Divine Picks  Divine Wins  Divine Win Rate  Immortal Picks  \\\n",
      "count    124.000000   124.000000       124.000000      124.000000   \n",
      "mean    4618.395161  2309.193548        49.775968     2188.870968   \n",
      "std     3118.293576  1583.322937         2.830618     1560.830975   \n",
      "min      911.000000   430.000000        40.720000      360.000000   \n",
      "25%     2133.250000  1051.250000        47.905000      954.750000   \n",
      "50%     3726.000000  1876.500000        49.935000     1669.000000   \n",
      "75%     6482.000000  3209.500000        51.450000     2920.000000   \n",
      "max    16311.000000  8033.000000        56.550000     6913.000000   \n",
      "\n",
      "       Immortal Wins  Immortal Win Rate    pro_pick      pro_ban     pro_win  \\\n",
      "count     124.000000         124.000000  124.000000   124.000000  124.000000   \n",
      "mean     1094.435484          49.432258  213.145161   297.120968  106.572581   \n",
      "std       801.169250           2.851275  192.619161   294.215495   96.831609   \n",
      "min       168.000000          39.450000   12.000000     4.000000    5.000000   \n",
      "25%       480.250000          47.702500   72.750000    72.500000   34.750000   \n",
      "50%       838.500000          49.685000  147.000000   179.000000   71.500000   \n",
      "75%      1524.500000          51.195000  288.500000   423.750000  146.000000   \n",
      "max      3628.000000          56.850000  905.000000  1157.000000  433.000000   \n",
      "\n",
      "       pro_win_rate  \n",
      "count    124.000000  \n",
      "mean      49.739435  \n",
      "std        5.740310  \n",
      "min       37.500000  \n",
      "25%       46.555000  \n",
      "50%       49.510000  \n",
      "75%       53.087500  \n",
      "max       77.270000  \n"
     ]
    }
   ],
   "source": [
    "import pandas as pd\n",
    "df=pd.read_csv('final_stats.csv')\n",
    "\n",
    "print(df.head())\n",
    "print('\\n')\n",
    "\n",
    "print(df.info())\n",
    "print('\\n')\n",
    "\n",
    "print(df.describe())"
   ]
  },
  {
   "cell_type": "code",
   "execution_count": 16,
   "metadata": {},
   "outputs": [],
   "source": [
    "final_stats_df = pd.read_csv('final_stats.csv')\n",
    "current_meta_df = pd.read_csv('current_meta.csv')\n",
    "\n",
    "merged_df = final_stats_df.merge(current_meta_df[['Name', 'Immortal Picks', 'Immortal Wins', 'Immortal Win Rate']],\n",
    "                                                 left_on='Name',right_on='Name' , how='left')\n",
    "\n",
    "\n",
    "merged_df.to_csv('final_stats.csv', index=False)\n",
    "\n"
   ]
  },
  {
   "cell_type": "code",
   "execution_count": 17,
   "metadata": {},
   "outputs": [
    {
     "name": "stdout",
     "output_type": "stream",
     "text": [
      "                 Name Primary Attribute attack_type  \\\n",
      "0             Abaddon               all       Melee   \n",
      "1           Alchemist               str       Melee   \n",
      "2  Ancient Apparition               int      Ranged   \n",
      "3           Anti-Mage               agi       Melee   \n",
      "4          Arc Warden               agi      Ranged   \n",
      "\n",
      "                                               roles  Divine Picks  \\\n",
      "0                    ['Support', 'Carry', 'Durable']          2589   \n",
      "1  ['Carry', 'Support', 'Durable', 'Disabler', 'I...          2106   \n",
      "2                   ['Support', 'Disabler', 'Nuker']          4591   \n",
      "3                       ['Carry', 'Escape', 'Nuker']          6472   \n",
      "4                       ['Carry', 'Escape', 'Nuker']          1606   \n",
      "\n",
      "   Divine Wins  Divine Win Rate  Immortal Picks  Immortal Wins  \\\n",
      "0         1294            49.98             725            348   \n",
      "1         1005            47.72            1016            497   \n",
      "2         2377            51.78            1861            997   \n",
      "3         3107            48.01            2582           1238   \n",
      "4          838            52.18             627            308   \n",
      "\n",
      "   Immortal Win Rate  pro_pick  pro_ban  pro_win  \n",
      "0              48.00        43      107       21  \n",
      "1              48.92       101       85       50  \n",
      "2              53.57        50       80       24  \n",
      "3              47.95       172      625       74  \n",
      "4              49.12        16       71        7  \n"
     ]
    }
   ],
   "source": [
    "desired_columns = ['Name', 'Primary Attribute', 'attack_type', 'roles',  \n",
    "                   'Divine Picks', 'Divine Wins', 'Divine Win Rate',\n",
    "                   'Immortal Picks', 'Immortal Wins', 'Immortal Win Rate', \n",
    "                   'pro_pick', 'pro_ban', 'pro_win']\n",
    "\n",
    "final_stats_df = df[desired_columns]\n",
    "\n",
    "final_stats_df.to_csv('final_stats.csv', index=False)\n",
    "\n",
    "print(final_stats_df.head())\n"
   ]
  },
  {
   "cell_type": "code",
   "execution_count": 7,
   "metadata": {},
   "outputs": [
    {
     "name": "stdout",
     "output_type": "stream",
     "text": [
      "The index of column 'Divine Wins' is: 8\n"
     ]
    }
   ],
   "source": [
    "selected_col = 'Divine Wins'\n",
    "col_index = df.columns.get_loc(selected_col)\n",
    "\n",
    "print(f\"The index of column '{selected_col}' is: {col_index}\")"
   ]
  },
  {
   "cell_type": "code",
   "execution_count": null,
   "metadata": {},
   "outputs": [],
   "source": [
    "final_stats_df.drop('localized_name', axis=1, inplace=True)\n",
    "\n",
    "final_stats_df.to_csv('final_stats.csv', index=False)\n",
    "\n",
    "print(final_stats_df.head())\n"
   ]
  },
  {
   "cell_type": "code",
   "execution_count": null,
   "metadata": {},
   "outputs": [],
   "source": [
    "desired_columns = ['Name', 'Primary Attribute', 'attack_type', 'roles', \n",
    "                   'Ancient Picks', 'Ancient Wins', 'Ancient Win Rate', \n",
    "                   'Divine Picks', 'Divine Wins', 'Divine Win Rate', 'Immortal Picks',\n",
    "                   'Immortal Wins', 'Immortal Win Rate',\n",
    "                   'pro_pick', 'pro_ban', 'pro_win']\n",
    "\n",
    "merged_df = df[desired_columns]\n",
    "print(merged_df.head())\n",
    "merged_df.to_csv('final_stats.csv', index=False)\n",
    "\n",
    "\n",
    "\n",
    "\n"
   ]
  },
  {
   "cell_type": "code",
   "execution_count": null,
   "metadata": {},
   "outputs": [],
   "source": [
    "merged_df.to_csv('merged_df.csv', index=False)\n",
    "\n",
    "desired_columns = ['Name', 'Primary Attribute', 'attack_type', 'roles', \n",
    "                   'Ancient Picks', 'Ancient Wins', 'Ancient Win Rate', \n",
    "                   'Divine Picks', 'Divine Wins', 'Divine Win Rate',\n",
    "                   'Immortal Picks', 'Immortal Wins', 'Immortal Win Rate',\n",
    "                   'pro_pick', 'pro_ban', 'pro_win']\n",
    "\n",
    "merged_df = df[desired_columns]\n",
    "\n",
    "print(merged_df.head())"
   ]
  },
  {
   "cell_type": "code",
   "execution_count": null,
   "metadata": {},
   "outputs": [],
   "source": [
    "unique_values = set()\n",
    "\n",
    "for roles_string in df['roles']:\n",
    "    roles_string = roles_string.replace(\"'\", \"\").replace(\"[\", \"\").replace(\"]\",\"\")\n",
    "    roles_list = roles_string.split(', ')\n",
    "    unique_values.update(roles_list)\n",
    "\n",
    "print(unique_values)\n",
    "\n",
    "mlb = MultiLabelBinarizer()\n",
    "\n",
    "one_hot_encoded = mlb.fit_transform(df['roles'].apply(lambda x: x.replace(\"'\", \"\").replace(\"[\",\"\").replace(\"]\",\"\").split(',')))\n",
    "\n",
    "one_hot_df = pd.DataFrame(one_hot_encoded, columns=mlb.classes_, index=df['Name'])\n",
    "\n",
    "print(one_hot_df)\n"
   ]
  },
  {
   "cell_type": "code",
   "execution_count": null,
   "metadata": {},
   "outputs": [],
   "source": [
    "anova_result = stats.f_oneway(\n",
    "    df[df['attack_type'] == 'Melee']['Divine Win Rate'],\n",
    "    df[df['attack_type'] == 'Ranged']['Divine Win Rate']\n",
    ")\n",
    "\n",
    "print(\"ANOVA Result:\")\n",
    "print(\"---------------\")\n",
    "print(f\"Statistic: {anova_result.statistic}\")\n",
    "print(f\"P-value: {anova_result.pvalue}\")\n"
   ]
  }
 ],
 "metadata": {
  "kernelspec": {
   "display_name": "Python 3",
   "language": "python",
   "name": "python3"
  },
  "language_info": {
   "codemirror_mode": {
    "name": "ipython",
    "version": 3
   },
   "file_extension": ".py",
   "mimetype": "text/x-python",
   "name": "python",
   "nbconvert_exporter": "python",
   "pygments_lexer": "ipython3",
   "version": "3.12.0"
  },
  "orig_nbformat": 4
 },
 "nbformat": 4,
 "nbformat_minor": 2
}
