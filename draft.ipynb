{
 "cells": [
  {
   "cell_type": "code",
   "execution_count": null,
   "metadata": {},
   "outputs": [],
   "source": [
    "base = alt.Chart(df).transform_calculate(\n",
    "        attack_type=alt.expr.if_(alt.datum.attack_type == 1, 'Melee', 'Ranged')\n",
    ").properties(\n",
    "        width=250\n",
    ")\n",
    "\n",
    "color_scale = alt.Scale( domain=['str', 'int', 'agi', 'all'],\n",
    "                         range=['red', 'blue', 'green', 'purple'])\n",
    "\n",
    "left = base.transform_filter(\n",
    "    alt.datum.attack_type == 'Melee'\n",
    ").encode(\n",
    "    alt.Y('attack_type:N'),\n",
    "    alt.X('Divine Win Rate:Q', title='Mean Divine Win Rate'),\n",
    "    alt.Color('Primary Attribute:N', scale=color_scale),\n",
    "    alt.Tooltip('Divine Win Rate')\n",
    ").mark_bar().properties(title='Melee')\n",
    "\n",
    "middle = base.encode(\n",
    "    alt.Y('attack_type:N'),\n",
    "    alt.Text('attack_type:N'),\n",
    ").mark_text().properties(width=20)\n",
    "\n",
    "right = base.transform_filter(\n",
    "    alt.datum.attack_type == 'Ranged'\n",
    ").encode(\n",
    "    alt.Y('attack_type:N'),\n",
    "    alt.X('Divine Win Rate:Q', title='Mean Divine Win Rate'),\n",
    "    alt.Color('Primary Attribute:N').scale(color_scale),\n",
    "    alt.Tooltip('Divine Win Rate')\n",
    ").mark_bar().properties(title='Ranged')\n",
    "\n",
    "concatinated_chart = alt.vconcat(left, middle, right, spacing=5)\n",
    "concatinated_chart"
   ]
  },
  {
   "cell_type": "code",
   "execution_count": 1,
   "metadata": {},
   "outputs": [
    {
     "ename": "NameError",
     "evalue": "name 'df' is not defined",
     "output_type": "error",
     "traceback": [
      "\u001b[1;31m---------------------------------------------------------------------------\u001b[0m",
      "\u001b[1;31mNameError\u001b[0m                                 Traceback (most recent call last)",
      "\u001b[1;32mc:\\Users\\Haber\\Documents\\OneDrive\\Dota_Project\\draft.ipynb Cell 2\u001b[0m line \u001b[0;36m1\n\u001b[1;32m----> <a href='vscode-notebook-cell:/c%3A/Users/Haber/Documents/OneDrive/Dota_Project/draft.ipynb#W1sZmlsZQ%3D%3D?line=0'>1</a>\u001b[0m filtered_df \u001b[39m=\u001b[39m df [(df[\u001b[39m'\u001b[39m\u001b[39mattack_type\u001b[39m\u001b[39m'\u001b[39m] \u001b[39m!=\u001b[39m \u001b[39m'\u001b[39m\u001b[39mint\u001b[39m\u001b[39m'\u001b[39m) \u001b[39m&\u001b[39m (df [\u001b[39m'\u001b[39m\u001b[39mattack_type\u001b[39m\u001b[39m'\u001b[39m] \u001b[39m!=\u001b[39m \u001b[39m'\u001b[39m\u001b[39mstr\u001b[39m\u001b[39m'\u001b[39m)]\n\u001b[0;32m      <a href='vscode-notebook-cell:/c%3A/Users/Haber/Documents/OneDrive/Dota_Project/draft.ipynb#W1sZmlsZQ%3D%3D?line=2'>3</a>\u001b[0m label_encoder \u001b[39m=\u001b[39m LabelEncoder()\n\u001b[0;32m      <a href='vscode-notebook-cell:/c%3A/Users/Haber/Documents/OneDrive/Dota_Project/draft.ipynb#W1sZmlsZQ%3D%3D?line=4'>5</a>\u001b[0m filtered_df[\u001b[39m'\u001b[39m\u001b[39mattack_type_encoded\u001b[39m\u001b[39m'\u001b[39m] \u001b[39m=\u001b[39m label_encoder\u001b[39m.\u001b[39mfit_transform(filtered_df[\u001b[39m'\u001b[39m\u001b[39mattack_type\u001b[39m\u001b[39m'\u001b[39m])\n",
      "\u001b[1;31mNameError\u001b[0m: name 'df' is not defined"
     ]
    }
   ],
   "source": [
    "filtered_df = df [(df['attack_type'] != 'int') & (df ['attack_type'] != 'str')]\n",
    "\n",
    "label_encoder = LabelEncoder()\n",
    "\n",
    "filtered_df['attack_type_encoded'] = label_encoder.fit_transform(filtered_df['attack_type'])\n",
    "\n",
    "corr_melee = pointbiserialr(filtered_df[filtered_df['attack_type'] == 'Melee']['Divine Win Rate'], [1] * len(filtered_df[filtered_df['attack_type'] == 'Melee']))\n",
    "\n",
    "corr_ranged = pointbiserialr(filtered_df[filtered_df['attack_type'] == 'Ranged']['Divine Win Rate'], [0] * len(filtered_df[filtered_df['attack_type'] == 'Ranged']))\n",
    "\n",
    "print(f\"Point-biserial correlation for Melee heroes: {corr_melee.correlation}\")\n",
    "print(f\"P-value for Melee heroes: {corr_melee.pvalue}\")\n",
    "\n",
    "print(f\"Point-biserial correlation for Ranged heroes: {corr_ranged.correlation}\")\n",
    "print(f\"P-value for Ranged heroes: {corr_ranged.pvalue}\")"
   ]
  }
 ],
 "metadata": {
  "kernelspec": {
   "display_name": "Python 3",
   "language": "python",
   "name": "python3"
  },
  "language_info": {
   "codemirror_mode": {
    "name": "ipython",
    "version": 3
   },
   "file_extension": ".py",
   "mimetype": "text/x-python",
   "name": "python",
   "nbconvert_exporter": "python",
   "pygments_lexer": "ipython3",
   "version": "3.12.0"
  },
  "orig_nbformat": 4
 },
 "nbformat": 4,
 "nbformat_minor": 2
}
