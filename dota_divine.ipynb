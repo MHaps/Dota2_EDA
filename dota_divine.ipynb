{
 "cells": [
  {
   "cell_type": "code",
   "execution_count": 2,
   "metadata": {},
   "outputs": [],
   "source": [
    "import json\n",
    "import altair as alt\n",
    "import plotly.graph_objects as go\n",
    "import plotly.subplots as sp\n",
    "import pandas as pd\n",
    "import numpy as np\n",
    "import seaborn as sns\n",
    "import matplotlib.pyplot as plt\n",
    "from plotly import express as px\n",
    "from scipy import stats\n",
    "from scipy.stats import pointbiserialr, mannwhitneyu\n",
    "from sklearn.preprocessing import MultiLabelBinarizer, OneHotEncoder, LabelEncoder\n",
    "pd.options.mode.chained_assignment = None\n",
    "\n",
    "df=pd.read_csv('final_stats.csv')"
   ]
  },
  {
   "cell_type": "code",
   "execution_count": 3,
   "metadata": {},
   "outputs": [
    {
     "data": {
      "text/plain": [
       "ThemeRegistry.enable('my_theme')"
      ]
     },
     "execution_count": 3,
     "metadata": {},
     "output_type": "execute_result"
    }
   ],
   "source": [
    "alt.themes.enable('default')\n",
    "\n",
    "with open('dark_theme.json', 'r') as file:\n",
    "    dark_theme = json.load(file)\n",
    "\n",
    "def my_theme():\n",
    "    dark_theme_config = {\n",
    "    \"config\": {\n",
    "        \"view\": {\"fill\": \"black\"},\n",
    "        \"background\": \"black\",\n",
    "        \"axis\": {\"labelColor\": \"white\", \"titleColor\": \"white\"},\n",
    "        \"text\": {\"color\": \"white\"}\n",
    "    }\n",
    "}\n",
    "    return dark_theme_config\n",
    "\n",
    "alt.themes.register('my_theme', my_theme)\n",
    "alt.themes.enable('my_theme')"
   ]
  },
  {
   "cell_type": "code",
   "execution_count": 4,
   "metadata": {},
   "outputs": [
    {
     "data": {
      "application/vnd.plotly.v1+json": {
       "config": {
        "plotlyServerURL": "https://plot.ly"
       },
       "data": [
        {
         "alignmentgroup": "True",
         "boxpoints": "all",
         "customdata": [
          [
           "Abaddon"
          ],
          [
           "Bane"
          ],
          [
           "Batrider"
          ],
          [
           "Beastmaster"
          ],
          [
           "Brewmaster"
          ],
          [
           "Broodmother"
          ],
          [
           "Chen"
          ],
          [
           "Clockwerk"
          ],
          [
           "Dark Seer"
          ],
          [
           "Dark Willow"
          ],
          [
           "Dazzle"
          ],
          [
           "Enigma"
          ],
          [
           "Io"
          ],
          [
           "Lone Druid"
          ],
          [
           "Lycan"
          ],
          [
           "Magnus"
          ],
          [
           "Marci"
          ],
          [
           "Mirana"
          ],
          [
           "Nyx Assassin"
          ],
          [
           "Pangolier"
          ],
          [
           "Phoenix"
          ],
          [
           "Sand King"
          ],
          [
           "Snapfire"
          ],
          [
           "Techies"
          ],
          [
           "Timbersaw"
          ],
          [
           "Vengeful Spirit"
          ],
          [
           "Venomancer"
          ],
          [
           "Visage"
          ],
          [
           "Void Spirit"
          ],
          [
           "Windranger"
          ],
          [
           "Winter Wyvern"
          ]
         ],
         "hovertemplate": "Name: %{customdata[0]} <br>Divine Win Rate: %{y}",
         "legendgroup": "all",
         "marker": {
          "color": "purple"
         },
         "name": "all",
         "notched": false,
         "offsetgroup": "all",
         "orientation": "v",
         "showlegend": true,
         "type": "box",
         "x0": " ",
         "xaxis": "x",
         "y": [
          49.98,
          51.59,
          43.37,
          45.3,
          53.44,
          48.2,
          54.45,
          48.6,
          53.53,
          50.84,
          46.15,
          51.26,
          53.32,
          50.14,
          48.42,
          46.06,
          47.28,
          49.4,
          51.13,
          47.79,
          47.37,
          52.08,
          47.83,
          50.43,
          47.42,
          46.55,
          52.66,
          55.77,
          46.63,
          51.07,
          47.43
         ],
         "y0": " ",
         "yaxis": "y"
        },
        {
         "alignmentgroup": "True",
         "boxpoints": "all",
         "customdata": [
          [
           "Alchemist"
          ],
          [
           "Axe"
          ],
          [
           "Bristleback"
          ],
          [
           "Centaur Warrunner"
          ],
          [
           "Chaos Knight"
          ],
          [
           "Dawnbreaker"
          ],
          [
           "Doom"
          ],
          [
           "Dragon Knight"
          ],
          [
           "Earth Spirit"
          ],
          [
           "Earthshaker"
          ],
          [
           "Elder Titan"
          ],
          [
           "Huskar"
          ],
          [
           "Kunkka"
          ],
          [
           "Legion Commander"
          ],
          [
           "Lifestealer"
          ],
          [
           "Mars"
          ],
          [
           "Night Stalker"
          ],
          [
           "Ogre Magi"
          ],
          [
           "Omniknight"
          ],
          [
           "Primal Beast"
          ],
          [
           "Pudge"
          ],
          [
           "Slardar"
          ],
          [
           "Spirit Breaker"
          ],
          [
           "Sven"
          ],
          [
           "Tidehunter"
          ],
          [
           "Tiny"
          ],
          [
           "Treant Protector"
          ],
          [
           "Tusk"
          ],
          [
           "Underlord"
          ],
          [
           "Undying"
          ],
          [
           "Wraith King"
          ]
         ],
         "hovertemplate": "Name: %{customdata[0]} <br>Divine Win Rate: %{y}",
         "legendgroup": "str",
         "marker": {
          "color": "red"
         },
         "name": "str",
         "notched": false,
         "offsetgroup": "str",
         "orientation": "v",
         "showlegend": true,
         "type": "box",
         "x0": " ",
         "xaxis": "x",
         "y": [
          47.72,
          51.45,
          45.47,
          48.48,
          51.16,
          50.7,
          40.9,
          45.18,
          49.3,
          53.4,
          54.25,
          52.6,
          50.97,
          55,
          49.27,
          47.09,
          52.18,
          49.89,
          52.84,
          50.26,
          49.25,
          50.52,
          50.43,
          51.45,
          48.1,
          46.54,
          51.39,
          46.43,
          50.06,
          53.68,
          48.5
         ],
         "y0": " ",
         "yaxis": "y"
        },
        {
         "alignmentgroup": "True",
         "boxpoints": "all",
         "customdata": [
          [
           "Ancient Apparition"
          ],
          [
           "Crystal Maiden"
          ],
          [
           "Death Prophet"
          ],
          [
           "Disruptor"
          ],
          [
           "Enchantress"
          ],
          [
           "Grimstroke"
          ],
          [
           "Invoker"
          ],
          [
           "Jakiro"
          ],
          [
           "Keeper of the Light"
          ],
          [
           "Leshrac"
          ],
          [
           "Lich"
          ],
          [
           "Lina"
          ],
          [
           "Lion"
          ],
          [
           "Muerta"
          ],
          [
           "Nature's Prophet"
          ],
          [
           "Necrophos"
          ],
          [
           "Oracle"
          ],
          [
           "Outworld Destroyer"
          ],
          [
           "Puck"
          ],
          [
           "Pugna"
          ],
          [
           "Queen of Pain"
          ],
          [
           "Rubick"
          ],
          [
           "Shadow Demon"
          ],
          [
           "Shadow Shaman"
          ],
          [
           "Silencer"
          ],
          [
           "Skywrath Mage"
          ],
          [
           "Storm Spirit"
          ],
          [
           "Tinker"
          ],
          [
           "Warlock"
          ],
          [
           "Witch Doctor"
          ],
          [
           "Zeus"
          ]
         ],
         "hovertemplate": "Name: %{customdata[0]} <br>Divine Win Rate: %{y}",
         "legendgroup": "int",
         "marker": {
          "color": "blue"
         },
         "name": "int",
         "notched": false,
         "offsetgroup": "int",
         "orientation": "v",
         "showlegend": true,
         "type": "box",
         "x0": " ",
         "xaxis": "x",
         "y": [
          51.78,
          48.93,
          50.44,
          48.64,
          45.74,
          49.39,
          51.47,
          51.28,
          47.61,
          49.08,
          50.94,
          46.55,
          48.11,
          49.98,
          40.72,
          51.16,
          55.15,
          50.57,
          48.8,
          51.77,
          49.99,
          46.24,
          48.71,
          49.73,
          50.43,
          52.88,
          49.14,
          54.39,
          52.15,
          47.43,
          49.69
         ],
         "y0": " ",
         "yaxis": "y"
        },
        {
         "alignmentgroup": "True",
         "boxpoints": "all",
         "customdata": [
          [
           "Anti-Mage"
          ],
          [
           "Arc Warden"
          ],
          [
           "Bloodseeker"
          ],
          [
           "Bounty Hunter"
          ],
          [
           "Clinkz"
          ],
          [
           "Drow Ranger"
          ],
          [
           "Ember Spirit"
          ],
          [
           "Faceless Void"
          ],
          [
           "Gyrocopter"
          ],
          [
           "Hoodwink"
          ],
          [
           "Juggernaut"
          ],
          [
           "Luna"
          ],
          [
           "Medusa"
          ],
          [
           "Meepo"
          ],
          [
           "Monkey King"
          ],
          [
           "Morphling"
          ],
          [
           "Naga Siren"
          ],
          [
           "Phantom Assassin"
          ],
          [
           "Phantom Lancer"
          ],
          [
           "Razor"
          ],
          [
           "Riki"
          ],
          [
           "Shadow Fiend"
          ],
          [
           "Slark"
          ],
          [
           "Sniper"
          ],
          [
           "Spectre"
          ],
          [
           "Templar Assassin"
          ],
          [
           "Terrorblade"
          ],
          [
           "Troll Warlord"
          ],
          [
           "Ursa"
          ],
          [
           "Viper"
          ],
          [
           "Weaver"
          ]
         ],
         "hovertemplate": "Name: %{customdata[0]} <br>Divine Win Rate: %{y}",
         "legendgroup": "agi",
         "marker": {
          "color": "green"
         },
         "name": "agi",
         "notched": false,
         "offsetgroup": "agi",
         "orientation": "v",
         "showlegend": true,
         "type": "box",
         "x0": " ",
         "xaxis": "x",
         "y": [
          48.01,
          52.18,
          50.44,
          50.87,
          52.71,
          50.7,
          50.23,
          50.31,
          49.22,
          46.3,
          49.35,
          48.3,
          54.1,
          56.55,
          47.4,
          45.74,
          54.83,
          46.49,
          50.84,
          49.22,
          54.66,
          47.51,
          51.25,
          49.23,
          52.25,
          49.15,
          48.45,
          47.2,
          47.93,
          48.49,
          53.47
         ],
         "y0": " ",
         "yaxis": "y"
        }
       ],
       "layout": {
        "boxmode": "group",
        "legend": {
         "title": {
          "text": "Primary Attribute"
         },
         "tracegroupgap": 0
        },
        "template": {
         "data": {
          "bar": [
           {
            "error_x": {
             "color": "#f2f5fa"
            },
            "error_y": {
             "color": "#f2f5fa"
            },
            "marker": {
             "line": {
              "color": "rgb(17,17,17)",
              "width": 0.5
             },
             "pattern": {
              "fillmode": "overlay",
              "size": 10,
              "solidity": 0.2
             }
            },
            "type": "bar"
           }
          ],
          "barpolar": [
           {
            "marker": {
             "line": {
              "color": "rgb(17,17,17)",
              "width": 0.5
             },
             "pattern": {
              "fillmode": "overlay",
              "size": 10,
              "solidity": 0.2
             }
            },
            "type": "barpolar"
           }
          ],
          "carpet": [
           {
            "aaxis": {
             "endlinecolor": "#A2B1C6",
             "gridcolor": "#506784",
             "linecolor": "#506784",
             "minorgridcolor": "#506784",
             "startlinecolor": "#A2B1C6"
            },
            "baxis": {
             "endlinecolor": "#A2B1C6",
             "gridcolor": "#506784",
             "linecolor": "#506784",
             "minorgridcolor": "#506784",
             "startlinecolor": "#A2B1C6"
            },
            "type": "carpet"
           }
          ],
          "choropleth": [
           {
            "colorbar": {
             "outlinewidth": 0,
             "ticks": ""
            },
            "type": "choropleth"
           }
          ],
          "contour": [
           {
            "colorbar": {
             "outlinewidth": 0,
             "ticks": ""
            },
            "colorscale": [
             [
              0,
              "#0d0887"
             ],
             [
              0.1111111111111111,
              "#46039f"
             ],
             [
              0.2222222222222222,
              "#7201a8"
             ],
             [
              0.3333333333333333,
              "#9c179e"
             ],
             [
              0.4444444444444444,
              "#bd3786"
             ],
             [
              0.5555555555555556,
              "#d8576b"
             ],
             [
              0.6666666666666666,
              "#ed7953"
             ],
             [
              0.7777777777777778,
              "#fb9f3a"
             ],
             [
              0.8888888888888888,
              "#fdca26"
             ],
             [
              1,
              "#f0f921"
             ]
            ],
            "type": "contour"
           }
          ],
          "contourcarpet": [
           {
            "colorbar": {
             "outlinewidth": 0,
             "ticks": ""
            },
            "type": "contourcarpet"
           }
          ],
          "heatmap": [
           {
            "colorbar": {
             "outlinewidth": 0,
             "ticks": ""
            },
            "colorscale": [
             [
              0,
              "#0d0887"
             ],
             [
              0.1111111111111111,
              "#46039f"
             ],
             [
              0.2222222222222222,
              "#7201a8"
             ],
             [
              0.3333333333333333,
              "#9c179e"
             ],
             [
              0.4444444444444444,
              "#bd3786"
             ],
             [
              0.5555555555555556,
              "#d8576b"
             ],
             [
              0.6666666666666666,
              "#ed7953"
             ],
             [
              0.7777777777777778,
              "#fb9f3a"
             ],
             [
              0.8888888888888888,
              "#fdca26"
             ],
             [
              1,
              "#f0f921"
             ]
            ],
            "type": "heatmap"
           }
          ],
          "heatmapgl": [
           {
            "colorbar": {
             "outlinewidth": 0,
             "ticks": ""
            },
            "colorscale": [
             [
              0,
              "#0d0887"
             ],
             [
              0.1111111111111111,
              "#46039f"
             ],
             [
              0.2222222222222222,
              "#7201a8"
             ],
             [
              0.3333333333333333,
              "#9c179e"
             ],
             [
              0.4444444444444444,
              "#bd3786"
             ],
             [
              0.5555555555555556,
              "#d8576b"
             ],
             [
              0.6666666666666666,
              "#ed7953"
             ],
             [
              0.7777777777777778,
              "#fb9f3a"
             ],
             [
              0.8888888888888888,
              "#fdca26"
             ],
             [
              1,
              "#f0f921"
             ]
            ],
            "type": "heatmapgl"
           }
          ],
          "histogram": [
           {
            "marker": {
             "pattern": {
              "fillmode": "overlay",
              "size": 10,
              "solidity": 0.2
             }
            },
            "type": "histogram"
           }
          ],
          "histogram2d": [
           {
            "colorbar": {
             "outlinewidth": 0,
             "ticks": ""
            },
            "colorscale": [
             [
              0,
              "#0d0887"
             ],
             [
              0.1111111111111111,
              "#46039f"
             ],
             [
              0.2222222222222222,
              "#7201a8"
             ],
             [
              0.3333333333333333,
              "#9c179e"
             ],
             [
              0.4444444444444444,
              "#bd3786"
             ],
             [
              0.5555555555555556,
              "#d8576b"
             ],
             [
              0.6666666666666666,
              "#ed7953"
             ],
             [
              0.7777777777777778,
              "#fb9f3a"
             ],
             [
              0.8888888888888888,
              "#fdca26"
             ],
             [
              1,
              "#f0f921"
             ]
            ],
            "type": "histogram2d"
           }
          ],
          "histogram2dcontour": [
           {
            "colorbar": {
             "outlinewidth": 0,
             "ticks": ""
            },
            "colorscale": [
             [
              0,
              "#0d0887"
             ],
             [
              0.1111111111111111,
              "#46039f"
             ],
             [
              0.2222222222222222,
              "#7201a8"
             ],
             [
              0.3333333333333333,
              "#9c179e"
             ],
             [
              0.4444444444444444,
              "#bd3786"
             ],
             [
              0.5555555555555556,
              "#d8576b"
             ],
             [
              0.6666666666666666,
              "#ed7953"
             ],
             [
              0.7777777777777778,
              "#fb9f3a"
             ],
             [
              0.8888888888888888,
              "#fdca26"
             ],
             [
              1,
              "#f0f921"
             ]
            ],
            "type": "histogram2dcontour"
           }
          ],
          "mesh3d": [
           {
            "colorbar": {
             "outlinewidth": 0,
             "ticks": ""
            },
            "type": "mesh3d"
           }
          ],
          "parcoords": [
           {
            "line": {
             "colorbar": {
              "outlinewidth": 0,
              "ticks": ""
             }
            },
            "type": "parcoords"
           }
          ],
          "pie": [
           {
            "automargin": true,
            "type": "pie"
           }
          ],
          "scatter": [
           {
            "marker": {
             "line": {
              "color": "#283442"
             }
            },
            "type": "scatter"
           }
          ],
          "scatter3d": [
           {
            "line": {
             "colorbar": {
              "outlinewidth": 0,
              "ticks": ""
             }
            },
            "marker": {
             "colorbar": {
              "outlinewidth": 0,
              "ticks": ""
             }
            },
            "type": "scatter3d"
           }
          ],
          "scattercarpet": [
           {
            "marker": {
             "colorbar": {
              "outlinewidth": 0,
              "ticks": ""
             }
            },
            "type": "scattercarpet"
           }
          ],
          "scattergeo": [
           {
            "marker": {
             "colorbar": {
              "outlinewidth": 0,
              "ticks": ""
             }
            },
            "type": "scattergeo"
           }
          ],
          "scattergl": [
           {
            "marker": {
             "line": {
              "color": "#283442"
             }
            },
            "type": "scattergl"
           }
          ],
          "scattermapbox": [
           {
            "marker": {
             "colorbar": {
              "outlinewidth": 0,
              "ticks": ""
             }
            },
            "type": "scattermapbox"
           }
          ],
          "scatterpolar": [
           {
            "marker": {
             "colorbar": {
              "outlinewidth": 0,
              "ticks": ""
             }
            },
            "type": "scatterpolar"
           }
          ],
          "scatterpolargl": [
           {
            "marker": {
             "colorbar": {
              "outlinewidth": 0,
              "ticks": ""
             }
            },
            "type": "scatterpolargl"
           }
          ],
          "scatterternary": [
           {
            "marker": {
             "colorbar": {
              "outlinewidth": 0,
              "ticks": ""
             }
            },
            "type": "scatterternary"
           }
          ],
          "surface": [
           {
            "colorbar": {
             "outlinewidth": 0,
             "ticks": ""
            },
            "colorscale": [
             [
              0,
              "#0d0887"
             ],
             [
              0.1111111111111111,
              "#46039f"
             ],
             [
              0.2222222222222222,
              "#7201a8"
             ],
             [
              0.3333333333333333,
              "#9c179e"
             ],
             [
              0.4444444444444444,
              "#bd3786"
             ],
             [
              0.5555555555555556,
              "#d8576b"
             ],
             [
              0.6666666666666666,
              "#ed7953"
             ],
             [
              0.7777777777777778,
              "#fb9f3a"
             ],
             [
              0.8888888888888888,
              "#fdca26"
             ],
             [
              1,
              "#f0f921"
             ]
            ],
            "type": "surface"
           }
          ],
          "table": [
           {
            "cells": {
             "fill": {
              "color": "#506784"
             },
             "line": {
              "color": "rgb(17,17,17)"
             }
            },
            "header": {
             "fill": {
              "color": "#2a3f5f"
             },
             "line": {
              "color": "rgb(17,17,17)"
             }
            },
            "type": "table"
           }
          ]
         },
         "layout": {
          "annotationdefaults": {
           "arrowcolor": "#f2f5fa",
           "arrowhead": 0,
           "arrowwidth": 1
          },
          "autotypenumbers": "strict",
          "coloraxis": {
           "colorbar": {
            "outlinewidth": 0,
            "ticks": ""
           }
          },
          "colorscale": {
           "diverging": [
            [
             0,
             "#8e0152"
            ],
            [
             0.1,
             "#c51b7d"
            ],
            [
             0.2,
             "#de77ae"
            ],
            [
             0.3,
             "#f1b6da"
            ],
            [
             0.4,
             "#fde0ef"
            ],
            [
             0.5,
             "#f7f7f7"
            ],
            [
             0.6,
             "#e6f5d0"
            ],
            [
             0.7,
             "#b8e186"
            ],
            [
             0.8,
             "#7fbc41"
            ],
            [
             0.9,
             "#4d9221"
            ],
            [
             1,
             "#276419"
            ]
           ],
           "sequential": [
            [
             0,
             "#0d0887"
            ],
            [
             0.1111111111111111,
             "#46039f"
            ],
            [
             0.2222222222222222,
             "#7201a8"
            ],
            [
             0.3333333333333333,
             "#9c179e"
            ],
            [
             0.4444444444444444,
             "#bd3786"
            ],
            [
             0.5555555555555556,
             "#d8576b"
            ],
            [
             0.6666666666666666,
             "#ed7953"
            ],
            [
             0.7777777777777778,
             "#fb9f3a"
            ],
            [
             0.8888888888888888,
             "#fdca26"
            ],
            [
             1,
             "#f0f921"
            ]
           ],
           "sequentialminus": [
            [
             0,
             "#0d0887"
            ],
            [
             0.1111111111111111,
             "#46039f"
            ],
            [
             0.2222222222222222,
             "#7201a8"
            ],
            [
             0.3333333333333333,
             "#9c179e"
            ],
            [
             0.4444444444444444,
             "#bd3786"
            ],
            [
             0.5555555555555556,
             "#d8576b"
            ],
            [
             0.6666666666666666,
             "#ed7953"
            ],
            [
             0.7777777777777778,
             "#fb9f3a"
            ],
            [
             0.8888888888888888,
             "#fdca26"
            ],
            [
             1,
             "#f0f921"
            ]
           ]
          },
          "colorway": [
           "#636efa",
           "#EF553B",
           "#00cc96",
           "#ab63fa",
           "#FFA15A",
           "#19d3f3",
           "#FF6692",
           "#B6E880",
           "#FF97FF",
           "#FECB52"
          ],
          "font": {
           "color": "#f2f5fa"
          },
          "geo": {
           "bgcolor": "rgb(17,17,17)",
           "lakecolor": "rgb(17,17,17)",
           "landcolor": "rgb(17,17,17)",
           "showlakes": true,
           "showland": true,
           "subunitcolor": "#506784"
          },
          "hoverlabel": {
           "align": "left"
          },
          "hovermode": "closest",
          "mapbox": {
           "style": "dark"
          },
          "paper_bgcolor": "rgb(17,17,17)",
          "plot_bgcolor": "rgb(17,17,17)",
          "polar": {
           "angularaxis": {
            "gridcolor": "#506784",
            "linecolor": "#506784",
            "ticks": ""
           },
           "bgcolor": "rgb(17,17,17)",
           "radialaxis": {
            "gridcolor": "#506784",
            "linecolor": "#506784",
            "ticks": ""
           }
          },
          "scene": {
           "xaxis": {
            "backgroundcolor": "rgb(17,17,17)",
            "gridcolor": "#506784",
            "gridwidth": 2,
            "linecolor": "#506784",
            "showbackground": true,
            "ticks": "",
            "zerolinecolor": "#C8D4E3"
           },
           "yaxis": {
            "backgroundcolor": "rgb(17,17,17)",
            "gridcolor": "#506784",
            "gridwidth": 2,
            "linecolor": "#506784",
            "showbackground": true,
            "ticks": "",
            "zerolinecolor": "#C8D4E3"
           },
           "zaxis": {
            "backgroundcolor": "rgb(17,17,17)",
            "gridcolor": "#506784",
            "gridwidth": 2,
            "linecolor": "#506784",
            "showbackground": true,
            "ticks": "",
            "zerolinecolor": "#C8D4E3"
           }
          },
          "shapedefaults": {
           "line": {
            "color": "#f2f5fa"
           }
          },
          "sliderdefaults": {
           "bgcolor": "#C8D4E3",
           "bordercolor": "rgb(17,17,17)",
           "borderwidth": 1,
           "tickwidth": 0
          },
          "ternary": {
           "aaxis": {
            "gridcolor": "#506784",
            "linecolor": "#506784",
            "ticks": ""
           },
           "baxis": {
            "gridcolor": "#506784",
            "linecolor": "#506784",
            "ticks": ""
           },
           "bgcolor": "rgb(17,17,17)",
           "caxis": {
            "gridcolor": "#506784",
            "linecolor": "#506784",
            "ticks": ""
           }
          },
          "title": {
           "x": 0.05
          },
          "updatemenudefaults": {
           "bgcolor": "#506784",
           "borderwidth": 0
          },
          "xaxis": {
           "automargin": true,
           "gridcolor": "#283442",
           "linecolor": "#506784",
           "ticks": "",
           "title": {
            "standoff": 15
           },
           "zerolinecolor": "#283442",
           "zerolinewidth": 2
          },
          "yaxis": {
           "automargin": true,
           "gridcolor": "#283442",
           "linecolor": "#506784",
           "ticks": "",
           "title": {
            "standoff": 15
           },
           "zerolinecolor": "#283442",
           "zerolinewidth": 2
          }
         }
        },
        "title": {
         "text": "Heroes by Primary Attribute vs Divine Win Rate."
        },
        "xaxis": {
         "anchor": "y",
         "domain": [
          0,
          1
         ]
        },
        "yaxis": {
         "anchor": "x",
         "domain": [
          0,
          1
         ],
         "title": {
          "text": "Divine Win Rate"
         }
        }
       }
      }
     },
     "metadata": {},
     "output_type": "display_data"
    }
   ],
   "source": [
    "def att_vs_winrate(df, target_col, target_col2):\n",
    "\n",
    "    color_map = {'str': 'red', 'int': 'blue', 'agi': 'green', 'all': 'purple'}\n",
    "    df['Color'] = df[target_col2].map(color_map)\n",
    "\n",
    "    fig = px.box(df, y=target_col, points='all', title=f'Heroes by {target_col2} vs {target_col}.',\n",
    "                 hover_data=['Name', target_col],\n",
    "                 color='Primary Attribute', color_discrete_map=color_map)\n",
    "    \n",
    "    fig.update_layout(template='plotly_dark', yaxis_title=target_col)\n",
    "\n",
    "    fig.update_traces(hovertemplate='Name: %{customdata[0]} <br>Divine Win Rate: %{y}')\n",
    "\n",
    "    fig.show()\n",
    "\n",
    "att_vs_winrate (df, 'Divine Win Rate', 'Primary Attribute')"
   ]
  },
  {
   "cell_type": "code",
   "execution_count": 5,
   "metadata": {},
   "outputs": [
    {
     "data": {
      "application/vnd.plotly.v1+json": {
       "config": {
        "plotlyServerURL": "https://plot.ly"
       },
       "data": [
        {
         "customdata": [
          [
           "Abaddon"
          ],
          [
           "Bane"
          ],
          [
           "Batrider"
          ],
          [
           "Beastmaster"
          ],
          [
           "Brewmaster"
          ],
          [
           "Broodmother"
          ],
          [
           "Chen"
          ],
          [
           "Clockwerk"
          ],
          [
           "Dark Seer"
          ],
          [
           "Dark Willow"
          ],
          [
           "Dazzle"
          ],
          [
           "Enigma"
          ],
          [
           "Io"
          ],
          [
           "Lone Druid"
          ],
          [
           "Lycan"
          ],
          [
           "Magnus"
          ],
          [
           "Marci"
          ],
          [
           "Mirana"
          ],
          [
           "Nyx Assassin"
          ],
          [
           "Pangolier"
          ],
          [
           "Phoenix"
          ],
          [
           "Sand King"
          ],
          [
           "Snapfire"
          ],
          [
           "Techies"
          ],
          [
           "Timbersaw"
          ],
          [
           "Vengeful Spirit"
          ],
          [
           "Venomancer"
          ],
          [
           "Visage"
          ],
          [
           "Void Spirit"
          ],
          [
           "Windranger"
          ],
          [
           "Winter Wyvern"
          ]
         ],
         "hovertemplate": "Name: %{customdata[0]} <br>Divine Picks: %{x} <br>Divine Win Rate: %{y}",
         "legendgroup": "all",
         "marker": {
          "color": "purple",
          "size": [
           1294,
           906,
           1034,
           820,
           621,
           1756,
           496,
           1828,
           2282,
           1901,
           1116,
           1055,
           1229,
           527,
           979,
           2604,
           1181,
           3272,
           3744,
           2514,
           1126,
           1330,
           4462,
           5384,
           3572,
           1408,
           4262,
           1020,
           2586,
           6733,
           1386
          ],
          "sizemode": "area",
          "sizeref": 8.925555555555556,
          "symbol": "circle"
         },
         "mode": "markers",
         "name": "all",
         "orientation": "v",
         "showlegend": true,
         "type": "scatter",
         "x": [
          2589,
          1756,
          2384,
          1810,
          1162,
          3643,
          911,
          3761,
          4263,
          3739,
          2418,
          2058,
          2305,
          1051,
          2022,
          5653,
          2498,
          6624,
          7322,
          5260,
          2377,
          2554,
          9328,
          10677,
          7533,
          3025,
          8093,
          1829,
          5546,
          13184,
          2922
         ],
         "xaxis": "x",
         "y": [
          49.98,
          51.59,
          43.37,
          45.3,
          53.44,
          48.2,
          54.45,
          48.6,
          53.53,
          50.84,
          46.15,
          51.26,
          53.32,
          50.14,
          48.42,
          46.06,
          47.28,
          49.4,
          51.13,
          47.79,
          47.37,
          52.08,
          47.83,
          50.43,
          47.42,
          46.55,
          52.66,
          55.77,
          46.63,
          51.07,
          47.43
         ],
         "yaxis": "y"
        },
        {
         "customdata": [
          [
           "Alchemist"
          ],
          [
           "Axe"
          ],
          [
           "Bristleback"
          ],
          [
           "Centaur Warrunner"
          ],
          [
           "Chaos Knight"
          ],
          [
           "Dawnbreaker"
          ],
          [
           "Doom"
          ],
          [
           "Dragon Knight"
          ],
          [
           "Earth Spirit"
          ],
          [
           "Earthshaker"
          ],
          [
           "Elder Titan"
          ],
          [
           "Huskar"
          ],
          [
           "Kunkka"
          ],
          [
           "Legion Commander"
          ],
          [
           "Lifestealer"
          ],
          [
           "Mars"
          ],
          [
           "Night Stalker"
          ],
          [
           "Ogre Magi"
          ],
          [
           "Omniknight"
          ],
          [
           "Primal Beast"
          ],
          [
           "Pudge"
          ],
          [
           "Slardar"
          ],
          [
           "Spirit Breaker"
          ],
          [
           "Sven"
          ],
          [
           "Tidehunter"
          ],
          [
           "Tiny"
          ],
          [
           "Treant Protector"
          ],
          [
           "Tusk"
          ],
          [
           "Underlord"
          ],
          [
           "Undying"
          ],
          [
           "Wraith King"
          ]
         ],
         "hovertemplate": "Name: %{customdata[0]} <br>Divine Picks: %{x} <br>Divine Win Rate: %{y}",
         "legendgroup": "str",
         "marker": {
          "color": "red",
          "size": [
           1005,
           4498,
           703,
           701,
           992,
           1529,
           1230,
           708,
           1049,
           4007,
           676,
           1953,
           1029,
           7345,
           1052,
           2218,
           909,
           2175,
           1879,
           2679,
           8033,
           831,
           6992,
           1335,
           1874,
           1095,
           848,
           1423,
           1211,
           4658,
           1020
          ],
          "sizemode": "area",
          "sizeref": 8.925555555555556,
          "symbol": "circle"
         },
         "mode": "markers",
         "name": "str",
         "orientation": "v",
         "showlegend": true,
         "type": "scatter",
         "x": [
          2106,
          8743,
          1546,
          1446,
          1939,
          3016,
          3007,
          1567,
          2128,
          7504,
          1246,
          3713,
          2019,
          13354,
          2135,
          4710,
          1742,
          4360,
          3556,
          5330,
          16311,
          1645,
          13866,
          2595,
          3896,
          2353,
          1650,
          3065,
          2419,
          8677,
          2103
         ],
         "xaxis": "x",
         "y": [
          47.72,
          51.45,
          45.47,
          48.48,
          51.16,
          50.7,
          40.9,
          45.18,
          49.3,
          53.4,
          54.25,
          52.6,
          50.97,
          55,
          49.27,
          47.09,
          52.18,
          49.89,
          52.84,
          50.26,
          49.25,
          50.52,
          50.43,
          51.45,
          48.1,
          46.54,
          51.39,
          46.43,
          50.06,
          53.68,
          48.5
         ],
         "yaxis": "y"
        },
        {
         "customdata": [
          [
           "Ancient Apparition"
          ],
          [
           "Crystal Maiden"
          ],
          [
           "Death Prophet"
          ],
          [
           "Disruptor"
          ],
          [
           "Enchantress"
          ],
          [
           "Grimstroke"
          ],
          [
           "Invoker"
          ],
          [
           "Jakiro"
          ],
          [
           "Keeper of the Light"
          ],
          [
           "Leshrac"
          ],
          [
           "Lich"
          ],
          [
           "Lina"
          ],
          [
           "Lion"
          ],
          [
           "Muerta"
          ],
          [
           "Nature's Prophet"
          ],
          [
           "Necrophos"
          ],
          [
           "Oracle"
          ],
          [
           "Outworld Destroyer"
          ],
          [
           "Puck"
          ],
          [
           "Pugna"
          ],
          [
           "Queen of Pain"
          ],
          [
           "Rubick"
          ],
          [
           "Shadow Demon"
          ],
          [
           "Shadow Shaman"
          ],
          [
           "Silencer"
          ],
          [
           "Skywrath Mage"
          ],
          [
           "Storm Spirit"
          ],
          [
           "Tinker"
          ],
          [
           "Warlock"
          ],
          [
           "Witch Doctor"
          ],
          [
           "Zeus"
          ]
         ],
         "hovertemplate": "Name: %{customdata[0]} <br>Divine Picks: %{x} <br>Divine Win Rate: %{y}",
         "legendgroup": "int",
         "marker": {
          "color": "blue",
          "size": [
           2377,
           3350,
           634,
           3026,
           1472,
           1299,
           3206,
           3125,
           826,
           959,
           4464,
           1973,
           3592,
           1574,
           430,
           2862,
           2861,
           2005,
           1936,
           4181,
           3673,
           5862,
           1190,
           1547,
           3253,
           4496,
           3208,
           3129,
           1465,
           2725,
           2300
          ],
          "sizemode": "area",
          "sizeref": 8.925555555555556,
          "symbol": "circle"
         },
         "mode": "markers",
         "name": "int",
         "orientation": "v",
         "showlegend": true,
         "type": "scatter",
         "x": [
          4591,
          6846,
          1257,
          6221,
          3218,
          2630,
          6229,
          6094,
          1735,
          1954,
          8763,
          4238,
          7466,
          3149,
          1056,
          5594,
          5188,
          3965,
          3967,
          8076,
          7348,
          12677,
          2443,
          3111,
          6451,
          8503,
          6528,
          5753,
          2809,
          5745,
          4629
         ],
         "xaxis": "x",
         "y": [
          51.78,
          48.93,
          50.44,
          48.64,
          45.74,
          49.39,
          51.47,
          51.28,
          47.61,
          49.08,
          50.94,
          46.55,
          48.11,
          49.98,
          40.72,
          51.16,
          55.15,
          50.57,
          48.8,
          51.77,
          49.99,
          46.24,
          48.71,
          49.73,
          50.43,
          52.88,
          49.14,
          54.39,
          52.15,
          47.43,
          49.69
         ],
         "yaxis": "y"
        },
        {
         "customdata": [
          [
           "Anti-Mage"
          ],
          [
           "Arc Warden"
          ],
          [
           "Bloodseeker"
          ],
          [
           "Bounty Hunter"
          ],
          [
           "Clinkz"
          ],
          [
           "Drow Ranger"
          ],
          [
           "Ember Spirit"
          ],
          [
           "Faceless Void"
          ],
          [
           "Gyrocopter"
          ],
          [
           "Hoodwink"
          ],
          [
           "Juggernaut"
          ],
          [
           "Luna"
          ],
          [
           "Medusa"
          ],
          [
           "Meepo"
          ],
          [
           "Monkey King"
          ],
          [
           "Morphling"
          ],
          [
           "Naga Siren"
          ],
          [
           "Phantom Assassin"
          ],
          [
           "Phantom Lancer"
          ],
          [
           "Razor"
          ],
          [
           "Riki"
          ],
          [
           "Shadow Fiend"
          ],
          [
           "Slark"
          ],
          [
           "Sniper"
          ],
          [
           "Spectre"
          ],
          [
           "Templar Assassin"
          ],
          [
           "Terrorblade"
          ],
          [
           "Troll Warlord"
          ],
          [
           "Ursa"
          ],
          [
           "Viper"
          ],
          [
           "Weaver"
          ]
         ],
         "hovertemplate": "Name: %{customdata[0]} <br>Divine Picks: %{x} <br>Divine Win Rate: %{y}",
         "legendgroup": "agi",
         "marker": {
          "color": "green",
          "size": [
           3107,
           838,
           3468,
           2531,
           4082,
           2807,
           3873,
           3328,
           916,
           1219,
           5572,
           669,
           4345,
           1661,
           3087,
           4112,
           1849,
           2114,
           3214,
           977,
           1635,
           3276,
           5383,
           2209,
           1268,
           2138,
           935,
           608,
           1912,
           897,
           1225
          ],
          "sizemode": "area",
          "sizeref": 8.925555555555556,
          "symbol": "circle"
         },
         "mode": "markers",
         "name": "agi",
         "orientation": "v",
         "showlegend": true,
         "type": "scatter",
         "x": [
          6472,
          1606,
          6876,
          4975,
          7744,
          5537,
          7711,
          6615,
          1861,
          2633,
          11291,
          1385,
          8031,
          2937,
          6512,
          8990,
          3372,
          4547,
          6322,
          1985,
          2991,
          6895,
          10503,
          4487,
          2427,
          4350,
          1930,
          1288,
          3989,
          1850,
          2291
         ],
         "xaxis": "x",
         "y": [
          48.01,
          52.18,
          50.44,
          50.87,
          52.71,
          50.7,
          50.23,
          50.31,
          49.22,
          46.3,
          49.35,
          48.3,
          54.1,
          56.55,
          47.4,
          45.74,
          54.83,
          46.49,
          50.84,
          49.22,
          54.66,
          47.51,
          51.25,
          49.23,
          52.25,
          49.15,
          48.45,
          47.2,
          47.93,
          48.49,
          53.47
         ],
         "yaxis": "y"
        }
       ],
       "layout": {
        "legend": {
         "itemsizing": "constant",
         "title": {
          "text": "Primary Attribute"
         },
         "tracegroupgap": 0
        },
        "template": {
         "data": {
          "bar": [
           {
            "error_x": {
             "color": "#f2f5fa"
            },
            "error_y": {
             "color": "#f2f5fa"
            },
            "marker": {
             "line": {
              "color": "rgb(17,17,17)",
              "width": 0.5
             },
             "pattern": {
              "fillmode": "overlay",
              "size": 10,
              "solidity": 0.2
             }
            },
            "type": "bar"
           }
          ],
          "barpolar": [
           {
            "marker": {
             "line": {
              "color": "rgb(17,17,17)",
              "width": 0.5
             },
             "pattern": {
              "fillmode": "overlay",
              "size": 10,
              "solidity": 0.2
             }
            },
            "type": "barpolar"
           }
          ],
          "carpet": [
           {
            "aaxis": {
             "endlinecolor": "#A2B1C6",
             "gridcolor": "#506784",
             "linecolor": "#506784",
             "minorgridcolor": "#506784",
             "startlinecolor": "#A2B1C6"
            },
            "baxis": {
             "endlinecolor": "#A2B1C6",
             "gridcolor": "#506784",
             "linecolor": "#506784",
             "minorgridcolor": "#506784",
             "startlinecolor": "#A2B1C6"
            },
            "type": "carpet"
           }
          ],
          "choropleth": [
           {
            "colorbar": {
             "outlinewidth": 0,
             "ticks": ""
            },
            "type": "choropleth"
           }
          ],
          "contour": [
           {
            "colorbar": {
             "outlinewidth": 0,
             "ticks": ""
            },
            "colorscale": [
             [
              0,
              "#0d0887"
             ],
             [
              0.1111111111111111,
              "#46039f"
             ],
             [
              0.2222222222222222,
              "#7201a8"
             ],
             [
              0.3333333333333333,
              "#9c179e"
             ],
             [
              0.4444444444444444,
              "#bd3786"
             ],
             [
              0.5555555555555556,
              "#d8576b"
             ],
             [
              0.6666666666666666,
              "#ed7953"
             ],
             [
              0.7777777777777778,
              "#fb9f3a"
             ],
             [
              0.8888888888888888,
              "#fdca26"
             ],
             [
              1,
              "#f0f921"
             ]
            ],
            "type": "contour"
           }
          ],
          "contourcarpet": [
           {
            "colorbar": {
             "outlinewidth": 0,
             "ticks": ""
            },
            "type": "contourcarpet"
           }
          ],
          "heatmap": [
           {
            "colorbar": {
             "outlinewidth": 0,
             "ticks": ""
            },
            "colorscale": [
             [
              0,
              "#0d0887"
             ],
             [
              0.1111111111111111,
              "#46039f"
             ],
             [
              0.2222222222222222,
              "#7201a8"
             ],
             [
              0.3333333333333333,
              "#9c179e"
             ],
             [
              0.4444444444444444,
              "#bd3786"
             ],
             [
              0.5555555555555556,
              "#d8576b"
             ],
             [
              0.6666666666666666,
              "#ed7953"
             ],
             [
              0.7777777777777778,
              "#fb9f3a"
             ],
             [
              0.8888888888888888,
              "#fdca26"
             ],
             [
              1,
              "#f0f921"
             ]
            ],
            "type": "heatmap"
           }
          ],
          "heatmapgl": [
           {
            "colorbar": {
             "outlinewidth": 0,
             "ticks": ""
            },
            "colorscale": [
             [
              0,
              "#0d0887"
             ],
             [
              0.1111111111111111,
              "#46039f"
             ],
             [
              0.2222222222222222,
              "#7201a8"
             ],
             [
              0.3333333333333333,
              "#9c179e"
             ],
             [
              0.4444444444444444,
              "#bd3786"
             ],
             [
              0.5555555555555556,
              "#d8576b"
             ],
             [
              0.6666666666666666,
              "#ed7953"
             ],
             [
              0.7777777777777778,
              "#fb9f3a"
             ],
             [
              0.8888888888888888,
              "#fdca26"
             ],
             [
              1,
              "#f0f921"
             ]
            ],
            "type": "heatmapgl"
           }
          ],
          "histogram": [
           {
            "marker": {
             "pattern": {
              "fillmode": "overlay",
              "size": 10,
              "solidity": 0.2
             }
            },
            "type": "histogram"
           }
          ],
          "histogram2d": [
           {
            "colorbar": {
             "outlinewidth": 0,
             "ticks": ""
            },
            "colorscale": [
             [
              0,
              "#0d0887"
             ],
             [
              0.1111111111111111,
              "#46039f"
             ],
             [
              0.2222222222222222,
              "#7201a8"
             ],
             [
              0.3333333333333333,
              "#9c179e"
             ],
             [
              0.4444444444444444,
              "#bd3786"
             ],
             [
              0.5555555555555556,
              "#d8576b"
             ],
             [
              0.6666666666666666,
              "#ed7953"
             ],
             [
              0.7777777777777778,
              "#fb9f3a"
             ],
             [
              0.8888888888888888,
              "#fdca26"
             ],
             [
              1,
              "#f0f921"
             ]
            ],
            "type": "histogram2d"
           }
          ],
          "histogram2dcontour": [
           {
            "colorbar": {
             "outlinewidth": 0,
             "ticks": ""
            },
            "colorscale": [
             [
              0,
              "#0d0887"
             ],
             [
              0.1111111111111111,
              "#46039f"
             ],
             [
              0.2222222222222222,
              "#7201a8"
             ],
             [
              0.3333333333333333,
              "#9c179e"
             ],
             [
              0.4444444444444444,
              "#bd3786"
             ],
             [
              0.5555555555555556,
              "#d8576b"
             ],
             [
              0.6666666666666666,
              "#ed7953"
             ],
             [
              0.7777777777777778,
              "#fb9f3a"
             ],
             [
              0.8888888888888888,
              "#fdca26"
             ],
             [
              1,
              "#f0f921"
             ]
            ],
            "type": "histogram2dcontour"
           }
          ],
          "mesh3d": [
           {
            "colorbar": {
             "outlinewidth": 0,
             "ticks": ""
            },
            "type": "mesh3d"
           }
          ],
          "parcoords": [
           {
            "line": {
             "colorbar": {
              "outlinewidth": 0,
              "ticks": ""
             }
            },
            "type": "parcoords"
           }
          ],
          "pie": [
           {
            "automargin": true,
            "type": "pie"
           }
          ],
          "scatter": [
           {
            "marker": {
             "line": {
              "color": "#283442"
             }
            },
            "type": "scatter"
           }
          ],
          "scatter3d": [
           {
            "line": {
             "colorbar": {
              "outlinewidth": 0,
              "ticks": ""
             }
            },
            "marker": {
             "colorbar": {
              "outlinewidth": 0,
              "ticks": ""
             }
            },
            "type": "scatter3d"
           }
          ],
          "scattercarpet": [
           {
            "marker": {
             "colorbar": {
              "outlinewidth": 0,
              "ticks": ""
             }
            },
            "type": "scattercarpet"
           }
          ],
          "scattergeo": [
           {
            "marker": {
             "colorbar": {
              "outlinewidth": 0,
              "ticks": ""
             }
            },
            "type": "scattergeo"
           }
          ],
          "scattergl": [
           {
            "marker": {
             "line": {
              "color": "#283442"
             }
            },
            "type": "scattergl"
           }
          ],
          "scattermapbox": [
           {
            "marker": {
             "colorbar": {
              "outlinewidth": 0,
              "ticks": ""
             }
            },
            "type": "scattermapbox"
           }
          ],
          "scatterpolar": [
           {
            "marker": {
             "colorbar": {
              "outlinewidth": 0,
              "ticks": ""
             }
            },
            "type": "scatterpolar"
           }
          ],
          "scatterpolargl": [
           {
            "marker": {
             "colorbar": {
              "outlinewidth": 0,
              "ticks": ""
             }
            },
            "type": "scatterpolargl"
           }
          ],
          "scatterternary": [
           {
            "marker": {
             "colorbar": {
              "outlinewidth": 0,
              "ticks": ""
             }
            },
            "type": "scatterternary"
           }
          ],
          "surface": [
           {
            "colorbar": {
             "outlinewidth": 0,
             "ticks": ""
            },
            "colorscale": [
             [
              0,
              "#0d0887"
             ],
             [
              0.1111111111111111,
              "#46039f"
             ],
             [
              0.2222222222222222,
              "#7201a8"
             ],
             [
              0.3333333333333333,
              "#9c179e"
             ],
             [
              0.4444444444444444,
              "#bd3786"
             ],
             [
              0.5555555555555556,
              "#d8576b"
             ],
             [
              0.6666666666666666,
              "#ed7953"
             ],
             [
              0.7777777777777778,
              "#fb9f3a"
             ],
             [
              0.8888888888888888,
              "#fdca26"
             ],
             [
              1,
              "#f0f921"
             ]
            ],
            "type": "surface"
           }
          ],
          "table": [
           {
            "cells": {
             "fill": {
              "color": "#506784"
             },
             "line": {
              "color": "rgb(17,17,17)"
             }
            },
            "header": {
             "fill": {
              "color": "#2a3f5f"
             },
             "line": {
              "color": "rgb(17,17,17)"
             }
            },
            "type": "table"
           }
          ]
         },
         "layout": {
          "annotationdefaults": {
           "arrowcolor": "#f2f5fa",
           "arrowhead": 0,
           "arrowwidth": 1
          },
          "autotypenumbers": "strict",
          "coloraxis": {
           "colorbar": {
            "outlinewidth": 0,
            "ticks": ""
           }
          },
          "colorscale": {
           "diverging": [
            [
             0,
             "#8e0152"
            ],
            [
             0.1,
             "#c51b7d"
            ],
            [
             0.2,
             "#de77ae"
            ],
            [
             0.3,
             "#f1b6da"
            ],
            [
             0.4,
             "#fde0ef"
            ],
            [
             0.5,
             "#f7f7f7"
            ],
            [
             0.6,
             "#e6f5d0"
            ],
            [
             0.7,
             "#b8e186"
            ],
            [
             0.8,
             "#7fbc41"
            ],
            [
             0.9,
             "#4d9221"
            ],
            [
             1,
             "#276419"
            ]
           ],
           "sequential": [
            [
             0,
             "#0d0887"
            ],
            [
             0.1111111111111111,
             "#46039f"
            ],
            [
             0.2222222222222222,
             "#7201a8"
            ],
            [
             0.3333333333333333,
             "#9c179e"
            ],
            [
             0.4444444444444444,
             "#bd3786"
            ],
            [
             0.5555555555555556,
             "#d8576b"
            ],
            [
             0.6666666666666666,
             "#ed7953"
            ],
            [
             0.7777777777777778,
             "#fb9f3a"
            ],
            [
             0.8888888888888888,
             "#fdca26"
            ],
            [
             1,
             "#f0f921"
            ]
           ],
           "sequentialminus": [
            [
             0,
             "#0d0887"
            ],
            [
             0.1111111111111111,
             "#46039f"
            ],
            [
             0.2222222222222222,
             "#7201a8"
            ],
            [
             0.3333333333333333,
             "#9c179e"
            ],
            [
             0.4444444444444444,
             "#bd3786"
            ],
            [
             0.5555555555555556,
             "#d8576b"
            ],
            [
             0.6666666666666666,
             "#ed7953"
            ],
            [
             0.7777777777777778,
             "#fb9f3a"
            ],
            [
             0.8888888888888888,
             "#fdca26"
            ],
            [
             1,
             "#f0f921"
            ]
           ]
          },
          "colorway": [
           "#636efa",
           "#EF553B",
           "#00cc96",
           "#ab63fa",
           "#FFA15A",
           "#19d3f3",
           "#FF6692",
           "#B6E880",
           "#FF97FF",
           "#FECB52"
          ],
          "font": {
           "color": "#f2f5fa"
          },
          "geo": {
           "bgcolor": "rgb(17,17,17)",
           "lakecolor": "rgb(17,17,17)",
           "landcolor": "rgb(17,17,17)",
           "showlakes": true,
           "showland": true,
           "subunitcolor": "#506784"
          },
          "hoverlabel": {
           "align": "left"
          },
          "hovermode": "closest",
          "mapbox": {
           "style": "dark"
          },
          "paper_bgcolor": "rgb(17,17,17)",
          "plot_bgcolor": "rgb(17,17,17)",
          "polar": {
           "angularaxis": {
            "gridcolor": "#506784",
            "linecolor": "#506784",
            "ticks": ""
           },
           "bgcolor": "rgb(17,17,17)",
           "radialaxis": {
            "gridcolor": "#506784",
            "linecolor": "#506784",
            "ticks": ""
           }
          },
          "scene": {
           "xaxis": {
            "backgroundcolor": "rgb(17,17,17)",
            "gridcolor": "#506784",
            "gridwidth": 2,
            "linecolor": "#506784",
            "showbackground": true,
            "ticks": "",
            "zerolinecolor": "#C8D4E3"
           },
           "yaxis": {
            "backgroundcolor": "rgb(17,17,17)",
            "gridcolor": "#506784",
            "gridwidth": 2,
            "linecolor": "#506784",
            "showbackground": true,
            "ticks": "",
            "zerolinecolor": "#C8D4E3"
           },
           "zaxis": {
            "backgroundcolor": "rgb(17,17,17)",
            "gridcolor": "#506784",
            "gridwidth": 2,
            "linecolor": "#506784",
            "showbackground": true,
            "ticks": "",
            "zerolinecolor": "#C8D4E3"
           }
          },
          "shapedefaults": {
           "line": {
            "color": "#f2f5fa"
           }
          },
          "sliderdefaults": {
           "bgcolor": "#C8D4E3",
           "bordercolor": "rgb(17,17,17)",
           "borderwidth": 1,
           "tickwidth": 0
          },
          "ternary": {
           "aaxis": {
            "gridcolor": "#506784",
            "linecolor": "#506784",
            "ticks": ""
           },
           "baxis": {
            "gridcolor": "#506784",
            "linecolor": "#506784",
            "ticks": ""
           },
           "bgcolor": "rgb(17,17,17)",
           "caxis": {
            "gridcolor": "#506784",
            "linecolor": "#506784",
            "ticks": ""
           }
          },
          "title": {
           "x": 0.05
          },
          "updatemenudefaults": {
           "bgcolor": "#506784",
           "borderwidth": 0
          },
          "xaxis": {
           "automargin": true,
           "gridcolor": "#283442",
           "linecolor": "#506784",
           "ticks": "",
           "title": {
            "standoff": 15
           },
           "zerolinecolor": "#283442",
           "zerolinewidth": 2
          },
          "yaxis": {
           "automargin": true,
           "gridcolor": "#283442",
           "linecolor": "#506784",
           "ticks": "",
           "title": {
            "standoff": 15
           },
           "zerolinecolor": "#283442",
           "zerolinewidth": 2
          }
         }
        },
        "title": {
         "text": "Win Rate vs. Pick Rate (Divine Picks) - Correlation: 0.12"
        },
        "xaxis": {
         "anchor": "y",
         "domain": [
          0,
          1
         ],
         "title": {
          "text": "Divine Picks"
         }
        },
        "yaxis": {
         "anchor": "x",
         "domain": [
          0,
          1
         ],
         "title": {
          "text": "Divine Win Rate"
         }
        }
       }
      }
     },
     "metadata": {},
     "output_type": "display_data"
    }
   ],
   "source": [
    "def win_rate_picks_correlation(df, target_col, target_col2):\n",
    "    correlation = df[target_col].corr(df[target_col2])\n",
    "\n",
    "    fig = px.scatter(df, x=target_col, y=target_col2,\n",
    "                     labels = {target_col: target_col, target_col2: target_col2},\n",
    "                     title=f'Win Rate vs. Pick Rate ({target_col}) - Correlation: {correlation:.2f}',\n",
    "                     template='plotly_dark',\n",
    "                     color='Primary Attribute',\n",
    "                     color_discrete_map={'str': 'red', 'int': 'blue', 'agi': 'green', 'all': 'purple'},\n",
    "                     hover_data=['Name'],\n",
    "                     size='Divine Wins', size_max=30)\n",
    "\n",
    "    fig.update_layout(xaxis_title='Divine Picks', yaxis_title='Divine Win Rate')\n",
    "    \n",
    "    fig.update_traces(hovertemplate='Name: %{customdata[0]} <br>Divine Picks: %{x} <br>Divine Win Rate: %{y}')\n",
    "    \n",
    "    fig.show()\n",
    "\n",
    "win_rate_picks_correlation(df, 'Divine Picks', 'Divine Win Rate')"
   ]
  },
  {
   "cell_type": "code",
   "execution_count": 6,
   "metadata": {},
   "outputs": [
    {
     "data": {
      "text/html": [
       "\n",
       "<style>\n",
       "  #altair-viz-b851c75ad38e4bcfacad3f40e068aa5d.vega-embed {\n",
       "    width: 100%;\n",
       "    display: flex;\n",
       "  }\n",
       "\n",
       "  #altair-viz-b851c75ad38e4bcfacad3f40e068aa5d.vega-embed details,\n",
       "  #altair-viz-b851c75ad38e4bcfacad3f40e068aa5d.vega-embed details summary {\n",
       "    position: relative;\n",
       "  }\n",
       "</style>\n",
       "<div id=\"altair-viz-b851c75ad38e4bcfacad3f40e068aa5d\"></div>\n",
       "<script type=\"text/javascript\">\n",
       "  var VEGA_DEBUG = (typeof VEGA_DEBUG == \"undefined\") ? {} : VEGA_DEBUG;\n",
       "  (function(spec, embedOpt){\n",
       "    let outputDiv = document.currentScript.previousElementSibling;\n",
       "    if (outputDiv.id !== \"altair-viz-b851c75ad38e4bcfacad3f40e068aa5d\") {\n",
       "      outputDiv = document.getElementById(\"altair-viz-b851c75ad38e4bcfacad3f40e068aa5d\");\n",
       "    }\n",
       "    const paths = {\n",
       "      \"vega\": \"https://cdn.jsdelivr.net/npm/vega@5?noext\",\n",
       "      \"vega-lib\": \"https://cdn.jsdelivr.net/npm/vega-lib?noext\",\n",
       "      \"vega-lite\": \"https://cdn.jsdelivr.net/npm/vega-lite@5.15.1?noext\",\n",
       "      \"vega-embed\": \"https://cdn.jsdelivr.net/npm/vega-embed@6?noext\",\n",
       "    };\n",
       "\n",
       "    function maybeLoadScript(lib, version) {\n",
       "      var key = `${lib.replace(\"-\", \"\")}_version`;\n",
       "      return (VEGA_DEBUG[key] == version) ?\n",
       "        Promise.resolve(paths[lib]) :\n",
       "        new Promise(function(resolve, reject) {\n",
       "          var s = document.createElement('script');\n",
       "          document.getElementsByTagName(\"head\")[0].appendChild(s);\n",
       "          s.async = true;\n",
       "          s.onload = () => {\n",
       "            VEGA_DEBUG[key] = version;\n",
       "            return resolve(paths[lib]);\n",
       "          };\n",
       "          s.onerror = () => reject(`Error loading script: ${paths[lib]}`);\n",
       "          s.src = paths[lib];\n",
       "        });\n",
       "    }\n",
       "\n",
       "    function showError(err) {\n",
       "      outputDiv.innerHTML = `<div class=\"error\" style=\"color:red;\">${err}</div>`;\n",
       "      throw err;\n",
       "    }\n",
       "\n",
       "    function displayChart(vegaEmbed) {\n",
       "      vegaEmbed(outputDiv, spec, embedOpt)\n",
       "        .catch(err => showError(`Javascript Error: ${err.message}<br>This usually means there's a typo in your chart specification. See the javascript console for the full traceback.`));\n",
       "    }\n",
       "\n",
       "    if(typeof define === \"function\" && define.amd) {\n",
       "      requirejs.config({paths});\n",
       "      require([\"vega-embed\"], displayChart, err => showError(`Error loading script: ${err.message}`));\n",
       "    } else {\n",
       "      maybeLoadScript(\"vega\", \"5\")\n",
       "        .then(() => maybeLoadScript(\"vega-lite\", \"5.15.1\"))\n",
       "        .then(() => maybeLoadScript(\"vega-embed\", \"6\"))\n",
       "        .catch(showError)\n",
       "        .then(() => displayChart(vegaEmbed));\n",
       "    }\n",
       "  })({\"config\": {\"view\": {\"fill\": \"black\"}, \"background\": \"black\", \"axis\": {\"labelColor\": \"white\", \"titleColor\": \"white\", \"labelFontSize\": 12, \"titleFontSize\": 14}, \"text\": {\"color\": \"white\"}, \"title\": {\"fontSize\": 16}}, \"data\": {\"name\": \"data-157ea1f0de86ae392cad651624153c50\"}, \"mark\": {\"type\": \"bar\"}, \"encoding\": {\"color\": {\"field\": \"Primary Attribute\", \"legend\": null, \"scale\": {\"domain\": [\"str\", \"int\", \"agi\", \"all\"], \"range\": [\"red\", \"blue\", \"green\", \"purple\"]}, \"type\": \"nominal\"}, \"x\": {\"field\": \"Divine Win Rate\", \"title\": \"Divine Win Rate\", \"type\": \"quantitative\"}, \"y\": {\"field\": \"Name\", \"sort\": {\"field\": \"Primary Attribute\"}, \"title\": \"Hero\", \"type\": \"nominal\"}}, \"height\": 400, \"title\": \"Top 10 Heroes Win Rate in Each Primary Attribute (Grouped Bar Chart)\", \"width\": 600, \"$schema\": \"https://vega.github.io/schema/vega-lite/v5.15.1.json\", \"datasets\": {\"data-157ea1f0de86ae392cad651624153c50\": [{\"Name\": \"Meepo\", \"Primary Attribute\": \"agi\", \"attack_type\": \"Melee\", \"roles\": \"['Carry', 'Escape', 'Nuker', 'Disabler', 'Initiator', 'Pusher']\", \"Divine Picks\": 2937, \"Divine Wins\": 1661, \"Divine Win Rate\": 56.55, \"Immortal Picks\": 2014, \"Immortal Wins\": 1145, \"Immortal Win Rate\": 56.85, \"pro_pick\": 79, \"pro_ban\": 150, \"pro_win\": 37, \"pro_win_rate\": 46.84, \"Color\": \"green\"}, {\"Name\": \"Naga Siren\", \"Primary Attribute\": \"agi\", \"attack_type\": \"Melee\", \"roles\": \"['Carry', 'Support', 'Pusher', 'Disabler', 'Initiator', 'Escape']\", \"Divine Picks\": 3372, \"Divine Wins\": 1849, \"Divine Win Rate\": 54.83, \"Immortal Picks\": 2882, \"Immortal Wins\": 1601, \"Immortal Win Rate\": 55.55, \"pro_pick\": 220, \"pro_ban\": 736, \"pro_win\": 112, \"pro_win_rate\": 50.91, \"Color\": \"green\"}, {\"Name\": \"Riki\", \"Primary Attribute\": \"agi\", \"attack_type\": \"Melee\", \"roles\": \"['Carry', 'Escape', 'Disabler']\", \"Divine Picks\": 2991, \"Divine Wins\": 1635, \"Divine Win Rate\": 54.66, \"Immortal Picks\": 1190, \"Immortal Wins\": 639, \"Immortal Win Rate\": 53.7, \"pro_pick\": 48, \"pro_ban\": 112, \"pro_win\": 20, \"pro_win_rate\": 41.67, \"Color\": \"green\"}, {\"Name\": \"Medusa\", \"Primary Attribute\": \"agi\", \"attack_type\": \"Ranged\", \"roles\": \"['Carry', 'Disabler', 'Durable']\", \"Divine Picks\": 8031, \"Divine Wins\": 4345, \"Divine Win Rate\": 54.1, \"Immortal Picks\": 4082, \"Immortal Wins\": 2094, \"Immortal Win Rate\": 51.3, \"pro_pick\": 469, \"pro_ban\": 1112, \"pro_win\": 254, \"pro_win_rate\": 54.16, \"Color\": \"green\"}, {\"Name\": \"Weaver\", \"Primary Attribute\": \"agi\", \"attack_type\": \"Ranged\", \"roles\": \"['Carry', 'Escape']\", \"Divine Picks\": 2291, \"Divine Wins\": 1225, \"Divine Win Rate\": 53.47, \"Immortal Picks\": 1056, \"Immortal Wins\": 521, \"Immortal Win Rate\": 49.34, \"pro_pick\": 73, \"pro_ban\": 212, \"pro_win\": 34, \"pro_win_rate\": 46.58, \"Color\": \"green\"}, {\"Name\": \"Clinkz\", \"Primary Attribute\": \"agi\", \"attack_type\": \"Ranged\", \"roles\": \"['Carry', 'Escape', 'Pusher']\", \"Divine Picks\": 7744, \"Divine Wins\": 4082, \"Divine Win Rate\": 52.71, \"Immortal Picks\": 4176, \"Immortal Wins\": 2163, \"Immortal Win Rate\": 51.8, \"pro_pick\": 130, \"pro_ban\": 108, \"pro_win\": 56, \"pro_win_rate\": 43.08, \"Color\": \"green\"}, {\"Name\": \"Spectre\", \"Primary Attribute\": \"agi\", \"attack_type\": \"Melee\", \"roles\": \"['Carry', 'Durable', 'Escape']\", \"Divine Picks\": 2427, \"Divine Wins\": 1268, \"Divine Win Rate\": 52.25, \"Immortal Picks\": 635, \"Immortal Wins\": 316, \"Immortal Win Rate\": 49.76, \"pro_pick\": 28, \"pro_ban\": 45, \"pro_win\": 13, \"pro_win_rate\": 46.43, \"Color\": \"green\"}, {\"Name\": \"Arc Warden\", \"Primary Attribute\": \"agi\", \"attack_type\": \"Ranged\", \"roles\": \"['Carry', 'Escape', 'Nuker']\", \"Divine Picks\": 1606, \"Divine Wins\": 838, \"Divine Win Rate\": 52.18, \"Immortal Picks\": 627, \"Immortal Wins\": 308, \"Immortal Win Rate\": 49.12, \"pro_pick\": 16, \"pro_ban\": 71, \"pro_win\": 7, \"pro_win_rate\": 43.75, \"Color\": \"green\"}, {\"Name\": \"Slark\", \"Primary Attribute\": \"agi\", \"attack_type\": \"Melee\", \"roles\": \"['Carry', 'Escape', 'Disabler', 'Nuker']\", \"Divine Picks\": 10503, \"Divine Wins\": 5383, \"Divine Win Rate\": 51.25, \"Immortal Picks\": 4809, \"Immortal Wins\": 2529, \"Immortal Win Rate\": 52.59, \"pro_pick\": 278, \"pro_ban\": 903, \"pro_win\": 156, \"pro_win_rate\": 56.12, \"Color\": \"green\"}, {\"Name\": \"Bounty Hunter\", \"Primary Attribute\": \"agi\", \"attack_type\": \"Melee\", \"roles\": \"['Escape', 'Nuker']\", \"Divine Picks\": 4975, \"Divine Wins\": 2531, \"Divine Win Rate\": 50.87, \"Immortal Picks\": 3000, \"Immortal Wins\": 1535, \"Immortal Win Rate\": 51.17, \"pro_pick\": 147, \"pro_ban\": 125, \"pro_win\": 104, \"pro_win_rate\": 70.75, \"Color\": \"green\"}, {\"Name\": \"Visage\", \"Primary Attribute\": \"all\", \"attack_type\": \"Ranged\", \"roles\": \"['Support', 'Nuker', 'Durable', 'Disabler', 'Pusher']\", \"Divine Picks\": 1829, \"Divine Wins\": 1020, \"Divine Win Rate\": 55.77, \"Immortal Picks\": 1437, \"Immortal Wins\": 759, \"Immortal Win Rate\": 52.82, \"pro_pick\": 165, \"pro_ban\": 405, \"pro_win\": 88, \"pro_win_rate\": 53.33, \"Color\": \"purple\"}, {\"Name\": \"Chen\", \"Primary Attribute\": \"all\", \"attack_type\": \"Ranged\", \"roles\": \"['Support', 'Pusher']\", \"Divine Picks\": 911, \"Divine Wins\": 496, \"Divine Win Rate\": 54.45, \"Immortal Picks\": 856, \"Immortal Wins\": 452, \"Immortal Win Rate\": 52.8, \"pro_pick\": 75, \"pro_ban\": 185, \"pro_win\": 30, \"pro_win_rate\": 40.0, \"Color\": \"purple\"}, {\"Name\": \"Dark Seer\", \"Primary Attribute\": \"all\", \"attack_type\": \"Melee\", \"roles\": \"['Initiator', 'Escape', 'Disabler']\", \"Divine Picks\": 4263, \"Divine Wins\": 2282, \"Divine Win Rate\": 53.53, \"Immortal Picks\": 2619, \"Immortal Wins\": 1402, \"Immortal Win Rate\": 53.53, \"pro_pick\": 259, \"pro_ban\": 559, \"pro_win\": 133, \"pro_win_rate\": 51.35, \"Color\": \"purple\"}, {\"Name\": \"Brewmaster\", \"Primary Attribute\": \"all\", \"attack_type\": \"Melee\", \"roles\": \"['Carry', 'Initiator', 'Durable', 'Disabler', 'Nuker']\", \"Divine Picks\": 1162, \"Divine Wins\": 621, \"Divine Win Rate\": 53.44, \"Immortal Picks\": 734, \"Immortal Wins\": 400, \"Immortal Win Rate\": 54.5, \"pro_pick\": 47, \"pro_ban\": 152, \"pro_win\": 23, \"pro_win_rate\": 48.94, \"Color\": \"purple\"}, {\"Name\": \"Io\", \"Primary Attribute\": \"all\", \"attack_type\": \"Ranged\", \"roles\": \"['Support', 'Escape', 'Nuker']\", \"Divine Picks\": 2305, \"Divine Wins\": 1229, \"Divine Win Rate\": 53.32, \"Immortal Picks\": 1231, \"Immortal Wins\": 617, \"Immortal Win Rate\": 50.12, \"pro_pick\": 171, \"pro_ban\": 290, \"pro_win\": 96, \"pro_win_rate\": 56.14, \"Color\": \"purple\"}, {\"Name\": \"Venomancer\", \"Primary Attribute\": \"all\", \"attack_type\": \"Ranged\", \"roles\": \"['Support', 'Nuker', 'Initiator', 'Pusher', 'Disabler']\", \"Divine Picks\": 8093, \"Divine Wins\": 4262, \"Divine Win Rate\": 52.66, \"Immortal Picks\": 3894, \"Immortal Wins\": 2008, \"Immortal Win Rate\": 51.57, \"pro_pick\": 255, \"pro_ban\": 447, \"pro_win\": 140, \"pro_win_rate\": 54.9, \"Color\": \"purple\"}, {\"Name\": \"Sand King\", \"Primary Attribute\": \"all\", \"attack_type\": \"Melee\", \"roles\": \"['Initiator', 'Disabler', 'Support', 'Nuker', 'Escape']\", \"Divine Picks\": 2554, \"Divine Wins\": 1330, \"Divine Win Rate\": 52.08, \"Immortal Picks\": 838, \"Immortal Wins\": 407, \"Immortal Win Rate\": 48.57, \"pro_pick\": 26, \"pro_ban\": 128, \"pro_win\": 14, \"pro_win_rate\": 53.85, \"Color\": \"purple\"}, {\"Name\": \"Bane\", \"Primary Attribute\": \"all\", \"attack_type\": \"Ranged\", \"roles\": \"['Support', 'Disabler', 'Nuker', 'Durable']\", \"Divine Picks\": 1756, \"Divine Wins\": 906, \"Divine Win Rate\": 51.59, \"Immortal Picks\": 885, \"Immortal Wins\": 458, \"Immortal Win Rate\": 51.75, \"pro_pick\": 25, \"pro_ban\": 81, \"pro_win\": 15, \"pro_win_rate\": 60.0, \"Color\": \"purple\"}, {\"Name\": \"Enigma\", \"Primary Attribute\": \"all\", \"attack_type\": \"Ranged\", \"roles\": \"['Disabler', 'Initiator', 'Pusher']\", \"Divine Picks\": 2058, \"Divine Wins\": 1055, \"Divine Win Rate\": 51.26, \"Immortal Picks\": 1688, \"Immortal Wins\": 860, \"Immortal Win Rate\": 50.95, \"pro_pick\": 262, \"pro_ban\": 407, \"pro_win\": 146, \"pro_win_rate\": 55.73, \"Color\": \"purple\"}, {\"Name\": \"Nyx Assassin\", \"Primary Attribute\": \"all\", \"attack_type\": \"Melee\", \"roles\": \"['Disabler', 'Nuker', 'Initiator', 'Escape']\", \"Divine Picks\": 7322, \"Divine Wins\": 3744, \"Divine Win Rate\": 51.13, \"Immortal Picks\": 2944, \"Immortal Wins\": 1521, \"Immortal Win Rate\": 51.66, \"pro_pick\": 113, \"pro_ban\": 264, \"pro_win\": 56, \"pro_win_rate\": 49.56, \"Color\": \"purple\"}, {\"Name\": \"Oracle\", \"Primary Attribute\": \"int\", \"attack_type\": \"Ranged\", \"roles\": \"['Support', 'Nuker', 'Disabler', 'Escape']\", \"Divine Picks\": 5188, \"Divine Wins\": 2861, \"Divine Win Rate\": 55.15, \"Immortal Picks\": 2673, \"Immortal Wins\": 1460, \"Immortal Win Rate\": 54.62, \"pro_pick\": 230, \"pro_ban\": 193, \"pro_win\": 128, \"pro_win_rate\": 55.65, \"Color\": \"blue\"}, {\"Name\": \"Tinker\", \"Primary Attribute\": \"int\", \"attack_type\": \"Ranged\", \"roles\": \"['Carry', 'Nuker', 'Pusher']\", \"Divine Picks\": 5753, \"Divine Wins\": 3129, \"Divine Win Rate\": 54.39, \"Immortal Picks\": 2577, \"Immortal Wins\": 1426, \"Immortal Win Rate\": 55.34, \"pro_pick\": 72, \"pro_ban\": 188, \"pro_win\": 32, \"pro_win_rate\": 44.44, \"Color\": \"blue\"}, {\"Name\": \"Skywrath Mage\", \"Primary Attribute\": \"int\", \"attack_type\": \"Ranged\", \"roles\": \"['Support', 'Nuker', 'Disabler']\", \"Divine Picks\": 8503, \"Divine Wins\": 4496, \"Divine Win Rate\": 52.88, \"Immortal Picks\": 4658, \"Immortal Wins\": 2412, \"Immortal Win Rate\": 51.78, \"pro_pick\": 663, \"pro_ban\": 367, \"pro_win\": 321, \"pro_win_rate\": 48.42, \"Color\": \"blue\"}, {\"Name\": \"Warlock\", \"Primary Attribute\": \"int\", \"attack_type\": \"Ranged\", \"roles\": \"['Support', 'Initiator', 'Disabler']\", \"Divine Picks\": 2809, \"Divine Wins\": 1465, \"Divine Win Rate\": 52.15, \"Immortal Picks\": 958, \"Immortal Wins\": 478, \"Immortal Win Rate\": 49.9, \"pro_pick\": 19, \"pro_ban\": 21, \"pro_win\": 9, \"pro_win_rate\": 47.37, \"Color\": \"blue\"}, {\"Name\": \"Ancient Apparition\", \"Primary Attribute\": \"int\", \"attack_type\": \"Ranged\", \"roles\": \"['Support', 'Disabler', 'Nuker']\", \"Divine Picks\": 4591, \"Divine Wins\": 2377, \"Divine Win Rate\": 51.78, \"Immortal Picks\": 1861, \"Immortal Wins\": 997, \"Immortal Win Rate\": 53.57, \"pro_pick\": 50, \"pro_ban\": 80, \"pro_win\": 24, \"pro_win_rate\": 48.0, \"Color\": \"blue\"}, {\"Name\": \"Pugna\", \"Primary Attribute\": \"int\", \"attack_type\": \"Ranged\", \"roles\": \"['Nuker', 'Pusher']\", \"Divine Picks\": 8076, \"Divine Wins\": 4181, \"Divine Win Rate\": 51.77, \"Immortal Picks\": 4827, \"Immortal Wins\": 2568, \"Immortal Win Rate\": 53.2, \"pro_pick\": 620, \"pro_ban\": 801, \"pro_win\": 329, \"pro_win_rate\": 53.06, \"Color\": \"blue\"}, {\"Name\": \"Invoker\", \"Primary Attribute\": \"int\", \"attack_type\": \"Ranged\", \"roles\": \"['Carry', 'Nuker', 'Disabler', 'Escape', 'Pusher']\", \"Divine Picks\": 6229, \"Divine Wins\": 3206, \"Divine Win Rate\": 51.47, \"Immortal Picks\": 2177, \"Immortal Wins\": 1099, \"Immortal Win Rate\": 50.48, \"pro_pick\": 93, \"pro_ban\": 67, \"pro_win\": 41, \"pro_win_rate\": 44.09, \"Color\": \"blue\"}, {\"Name\": \"Jakiro\", \"Primary Attribute\": \"int\", \"attack_type\": \"Ranged\", \"roles\": \"['Support', 'Nuker', 'Pusher', 'Disabler']\", \"Divine Picks\": 6094, \"Divine Wins\": 3125, \"Divine Win Rate\": 51.28, \"Immortal Picks\": 2114, \"Immortal Wins\": 1106, \"Immortal Win Rate\": 52.32, \"pro_pick\": 184, \"pro_ban\": 50, \"pro_win\": 85, \"pro_win_rate\": 46.2, \"Color\": \"blue\"}, {\"Name\": \"Necrophos\", \"Primary Attribute\": \"int\", \"attack_type\": \"Ranged\", \"roles\": \"['Carry', 'Nuker', 'Durable', 'Disabler']\", \"Divine Picks\": 5594, \"Divine Wins\": 2862, \"Divine Win Rate\": 51.16, \"Immortal Picks\": 1866, \"Immortal Wins\": 942, \"Immortal Win Rate\": 50.48, \"pro_pick\": 64, \"pro_ban\": 116, \"pro_win\": 24, \"pro_win_rate\": 37.5, \"Color\": \"blue\"}, {\"Name\": \"Lich\", \"Primary Attribute\": \"int\", \"attack_type\": \"Ranged\", \"roles\": \"['Support', 'Nuker']\", \"Divine Picks\": 8763, \"Divine Wins\": 4464, \"Divine Win Rate\": 50.94, \"Immortal Picks\": 3922, \"Immortal Wins\": 1961, \"Immortal Win Rate\": 50.0, \"pro_pick\": 382, \"pro_ban\": 94, \"pro_win\": 166, \"pro_win_rate\": 43.46, \"Color\": \"blue\"}, {\"Name\": \"Legion Commander\", \"Primary Attribute\": \"str\", \"attack_type\": \"Melee\", \"roles\": \"['Carry', 'Disabler', 'Initiator', 'Durable', 'Nuker']\", \"Divine Picks\": 13354, \"Divine Wins\": 7345, \"Divine Win Rate\": 55.0, \"Immortal Picks\": 6467, \"Immortal Wins\": 3628, \"Immortal Win Rate\": 56.1, \"pro_pick\": 599, \"pro_ban\": 791, \"pro_win\": 322, \"pro_win_rate\": 53.76, \"Color\": \"red\"}, {\"Name\": \"Elder Titan\", \"Primary Attribute\": \"str\", \"attack_type\": \"Melee\", \"roles\": \"['Initiator', 'Disabler', 'Nuker', 'Durable']\", \"Divine Picks\": 1246, \"Divine Wins\": 676, \"Divine Win Rate\": 54.25, \"Immortal Picks\": 915, \"Immortal Wins\": 487, \"Immortal Win Rate\": 53.22, \"pro_pick\": 140, \"pro_ban\": 63, \"pro_win\": 70, \"pro_win_rate\": 50.0, \"Color\": \"red\"}, {\"Name\": \"Undying\", \"Primary Attribute\": \"str\", \"attack_type\": \"Melee\", \"roles\": \"['Support', 'Durable', 'Disabler', 'Nuker']\", \"Divine Picks\": 8677, \"Divine Wins\": 4658, \"Divine Win Rate\": 53.68, \"Immortal Picks\": 5787, \"Immortal Wins\": 3057, \"Immortal Win Rate\": 52.83, \"pro_pick\": 770, \"pro_ban\": 931, \"pro_win\": 402, \"pro_win_rate\": 52.21, \"Color\": \"red\"}, {\"Name\": \"Earthshaker\", \"Primary Attribute\": \"str\", \"attack_type\": \"Melee\", \"roles\": \"['Support', 'Initiator', 'Disabler', 'Nuker']\", \"Divine Picks\": 7504, \"Divine Wins\": 4007, \"Divine Win Rate\": 53.4, \"Immortal Picks\": 3040, \"Immortal Wins\": 1624, \"Immortal Win Rate\": 53.42, \"pro_pick\": 113, \"pro_ban\": 51, \"pro_win\": 62, \"pro_win_rate\": 54.87, \"Color\": \"red\"}, {\"Name\": \"Omniknight\", \"Primary Attribute\": \"str\", \"attack_type\": \"Melee\", \"roles\": \"['Support', 'Durable', 'Nuker']\", \"Divine Picks\": 3556, \"Divine Wins\": 1879, \"Divine Win Rate\": 52.84, \"Immortal Picks\": 1244, \"Immortal Wins\": 619, \"Immortal Win Rate\": 49.76, \"pro_pick\": 41, \"pro_ban\": 41, \"pro_win\": 21, \"pro_win_rate\": 51.22, \"Color\": \"red\"}, {\"Name\": \"Huskar\", \"Primary Attribute\": \"str\", \"attack_type\": \"Ranged\", \"roles\": \"['Carry', 'Durable', 'Initiator']\", \"Divine Picks\": 3713, \"Divine Wins\": 1953, \"Divine Win Rate\": 52.6, \"Immortal Picks\": 2381, \"Immortal Wins\": 1232, \"Immortal Win Rate\": 51.74, \"pro_pick\": 105, \"pro_ban\": 222, \"pro_win\": 52, \"pro_win_rate\": 49.52, \"Color\": \"red\"}, {\"Name\": \"Night Stalker\", \"Primary Attribute\": \"str\", \"attack_type\": \"Melee\", \"roles\": \"['Carry', 'Initiator', 'Durable', 'Disabler', 'Nuker']\", \"Divine Picks\": 1742, \"Divine Wins\": 909, \"Divine Win Rate\": 52.18, \"Immortal Picks\": 523, \"Immortal Wins\": 261, \"Immortal Win Rate\": 49.9, \"pro_pick\": 30, \"pro_ban\": 30, \"pro_win\": 16, \"pro_win_rate\": 53.33, \"Color\": \"red\"}, {\"Name\": \"Axe\", \"Primary Attribute\": \"str\", \"attack_type\": \"Melee\", \"roles\": \"['Initiator', 'Durable', 'Disabler', 'Carry']\", \"Divine Picks\": 8743, \"Divine Wins\": 4498, \"Divine Win Rate\": 51.45, \"Immortal Picks\": 3337, \"Immortal Wins\": 1659, \"Immortal Win Rate\": 49.72, \"pro_pick\": 258, \"pro_ban\": 271, \"pro_win\": 111, \"pro_win_rate\": 43.02, \"Color\": \"red\"}, {\"Name\": \"Sven\", \"Primary Attribute\": \"str\", \"attack_type\": \"Melee\", \"roles\": \"['Carry', 'Disabler', 'Initiator', 'Durable', 'Nuker']\", \"Divine Picks\": 2595, \"Divine Wins\": 1335, \"Divine Win Rate\": 51.45, \"Immortal Picks\": 1252, \"Immortal Wins\": 622, \"Immortal Win Rate\": 49.68, \"pro_pick\": 139, \"pro_ban\": 60, \"pro_win\": 57, \"pro_win_rate\": 41.01, \"Color\": \"red\"}, {\"Name\": \"Treant Protector\", \"Primary Attribute\": \"str\", \"attack_type\": \"Melee\", \"roles\": \"['Support', 'Initiator', 'Durable', 'Disabler', 'Escape']\", \"Divine Picks\": 1650, \"Divine Wins\": 848, \"Divine Win Rate\": 51.39, \"Immortal Picks\": 721, \"Immortal Wins\": 343, \"Immortal Win Rate\": 47.57, \"pro_pick\": 18, \"pro_ban\": 11, \"pro_win\": 7, \"pro_win_rate\": 38.89, \"Color\": \"red\"}]}}, {\"mode\": \"vega-lite\"});\n",
       "</script>"
      ],
      "text/plain": [
       "alt.Chart(...)"
      ]
     },
     "execution_count": 6,
     "metadata": {},
     "output_type": "execute_result"
    }
   ],
   "source": [
    "top_10_df = df.groupby(['Primary Attribute']).apply(lambda x: x.nlargest(10, 'Divine Win Rate')).reset_index(drop=True)\n",
    "top_10_df = top_10_df.sort_values(by=['Primary Attribute', 'Divine Win Rate'], ascending=[True, False])\n",
    "\n",
    "chart = alt.Chart(top_10_df).mark_bar().encode(\n",
    "\n",
    "    alt.X('Divine Win Rate:Q', title='Divine Win Rate'),\n",
    "    alt.Y('Name:N', title='Hero', sort=alt.EncodingSortField(field='Primary Attribute')),\n",
    "    \n",
    "    color=alt.Color('Primary Attribute:N',\n",
    "                    scale=alt.Scale(domain=['str', 'int', 'agi', 'all'], range=['red', 'blue', 'green', 'purple']),\n",
    "                    legend=None),\n",
    "\n",
    ").properties(\n",
    "    width=600,\n",
    "    height=400,\n",
    "    title='Top 10 Heroes Win Rate in Each Primary Attribute (Grouped Bar Chart)'\n",
    ").configure_axis(\n",
    "    labelFontSize=12,\n",
    "    titleFontSize=14\n",
    ").configure_title(\n",
    "    fontSize=16\n",
    ")\n",
    "\n",
    "chart"
   ]
  },
  {
   "cell_type": "code",
   "execution_count": 7,
   "metadata": {},
   "outputs": [
    {
     "data": {
      "application/vnd.plotly.v1+json": {
       "config": {
        "plotlyServerURL": "https://plot.ly"
       },
       "data": [
        {
         "alignmentgroup": "True",
         "boxpoints": "all",
         "customdata": [
          [
           "Abaddon"
          ],
          [
           "Bane"
          ],
          [
           "Batrider"
          ],
          [
           "Beastmaster"
          ],
          [
           "Brewmaster"
          ],
          [
           "Broodmother"
          ],
          [
           "Chen"
          ],
          [
           "Clockwerk"
          ],
          [
           "Dark Seer"
          ],
          [
           "Dark Willow"
          ],
          [
           "Dazzle"
          ],
          [
           "Enigma"
          ],
          [
           "Io"
          ],
          [
           "Lone Druid"
          ],
          [
           "Lycan"
          ],
          [
           "Magnus"
          ],
          [
           "Marci"
          ],
          [
           "Mirana"
          ],
          [
           "Nyx Assassin"
          ],
          [
           "Pangolier"
          ],
          [
           "Phoenix"
          ],
          [
           "Sand King"
          ],
          [
           "Snapfire"
          ],
          [
           "Techies"
          ],
          [
           "Timbersaw"
          ],
          [
           "Vengeful Spirit"
          ],
          [
           "Venomancer"
          ],
          [
           "Visage"
          ],
          [
           "Void Spirit"
          ],
          [
           "Windranger"
          ],
          [
           "Winter Wyvern"
          ]
         ],
         "hovertemplate": "Name: %{customdata[0]} <br>Divine Win Rate: %{y}",
         "legendgroup": "all",
         "marker": {
          "color": "purple"
         },
         "name": "all",
         "notched": false,
         "offsetgroup": "all",
         "orientation": "v",
         "showlegend": true,
         "type": "box",
         "x": [
          "Melee",
          "Ranged",
          "Ranged",
          "Melee",
          "Melee",
          "Melee",
          "Ranged",
          "Melee",
          "Melee",
          "Ranged",
          "Ranged",
          "Ranged",
          "Ranged",
          "Ranged",
          "Melee",
          "Melee",
          "Melee",
          "Ranged",
          "Melee",
          "Melee",
          "Ranged",
          "Melee",
          "Ranged",
          "Ranged",
          "Melee",
          "Ranged",
          "Ranged",
          "Ranged",
          "Melee",
          "Ranged",
          "Ranged"
         ],
         "x0": " ",
         "xaxis": "x",
         "y": [
          49.98,
          51.59,
          43.37,
          45.3,
          53.44,
          48.2,
          54.45,
          48.6,
          53.53,
          50.84,
          46.15,
          51.26,
          53.32,
          50.14,
          48.42,
          46.06,
          47.28,
          49.4,
          51.13,
          47.79,
          47.37,
          52.08,
          47.83,
          50.43,
          47.42,
          46.55,
          52.66,
          55.77,
          46.63,
          51.07,
          47.43
         ],
         "y0": " ",
         "yaxis": "y"
        },
        {
         "alignmentgroup": "True",
         "boxpoints": "all",
         "customdata": [
          [
           "Alchemist"
          ],
          [
           "Axe"
          ],
          [
           "Bristleback"
          ],
          [
           "Centaur Warrunner"
          ],
          [
           "Chaos Knight"
          ],
          [
           "Dawnbreaker"
          ],
          [
           "Doom"
          ],
          [
           "Dragon Knight"
          ],
          [
           "Earth Spirit"
          ],
          [
           "Earthshaker"
          ],
          [
           "Elder Titan"
          ],
          [
           "Huskar"
          ],
          [
           "Kunkka"
          ],
          [
           "Legion Commander"
          ],
          [
           "Lifestealer"
          ],
          [
           "Mars"
          ],
          [
           "Night Stalker"
          ],
          [
           "Ogre Magi"
          ],
          [
           "Omniknight"
          ],
          [
           "Primal Beast"
          ],
          [
           "Pudge"
          ],
          [
           "Slardar"
          ],
          [
           "Spirit Breaker"
          ],
          [
           "Sven"
          ],
          [
           "Tidehunter"
          ],
          [
           "Tiny"
          ],
          [
           "Treant Protector"
          ],
          [
           "Tusk"
          ],
          [
           "Underlord"
          ],
          [
           "Undying"
          ],
          [
           "Wraith King"
          ]
         ],
         "hovertemplate": "Name: %{customdata[0]} <br>Divine Win Rate: %{y}",
         "legendgroup": "str",
         "marker": {
          "color": "red"
         },
         "name": "str",
         "notched": false,
         "offsetgroup": "str",
         "orientation": "v",
         "showlegend": true,
         "type": "box",
         "x": [
          "Melee",
          "Melee",
          "Melee",
          "Melee",
          "Melee",
          "Melee",
          "Melee",
          "Melee",
          "Melee",
          "Melee",
          "Melee",
          "Ranged",
          "Melee",
          "Melee",
          "Melee",
          "Melee",
          "Melee",
          "Melee",
          "Melee",
          "Melee",
          "Melee",
          "Melee",
          "Melee",
          "Melee",
          "Melee",
          "Melee",
          "Melee",
          "Melee",
          "Melee",
          "Melee",
          "Melee"
         ],
         "x0": " ",
         "xaxis": "x",
         "y": [
          47.72,
          51.45,
          45.47,
          48.48,
          51.16,
          50.7,
          40.9,
          45.18,
          49.3,
          53.4,
          54.25,
          52.6,
          50.97,
          55,
          49.27,
          47.09,
          52.18,
          49.89,
          52.84,
          50.26,
          49.25,
          50.52,
          50.43,
          51.45,
          48.1,
          46.54,
          51.39,
          46.43,
          50.06,
          53.68,
          48.5
         ],
         "y0": " ",
         "yaxis": "y"
        },
        {
         "alignmentgroup": "True",
         "boxpoints": "all",
         "customdata": [
          [
           "Ancient Apparition"
          ],
          [
           "Crystal Maiden"
          ],
          [
           "Death Prophet"
          ],
          [
           "Disruptor"
          ],
          [
           "Enchantress"
          ],
          [
           "Grimstroke"
          ],
          [
           "Invoker"
          ],
          [
           "Jakiro"
          ],
          [
           "Keeper of the Light"
          ],
          [
           "Leshrac"
          ],
          [
           "Lich"
          ],
          [
           "Lina"
          ],
          [
           "Lion"
          ],
          [
           "Muerta"
          ],
          [
           "Nature's Prophet"
          ],
          [
           "Necrophos"
          ],
          [
           "Oracle"
          ],
          [
           "Outworld Destroyer"
          ],
          [
           "Puck"
          ],
          [
           "Pugna"
          ],
          [
           "Queen of Pain"
          ],
          [
           "Rubick"
          ],
          [
           "Shadow Demon"
          ],
          [
           "Shadow Shaman"
          ],
          [
           "Silencer"
          ],
          [
           "Skywrath Mage"
          ],
          [
           "Storm Spirit"
          ],
          [
           "Tinker"
          ],
          [
           "Warlock"
          ],
          [
           "Witch Doctor"
          ],
          [
           "Zeus"
          ]
         ],
         "hovertemplate": "Name: %{customdata[0]} <br>Divine Win Rate: %{y}",
         "legendgroup": "int",
         "marker": {
          "color": "blue"
         },
         "name": "int",
         "notched": false,
         "offsetgroup": "int",
         "orientation": "v",
         "showlegend": true,
         "type": "box",
         "x": [
          "Ranged",
          "Ranged",
          "Ranged",
          "Ranged",
          "Ranged",
          "Ranged",
          "Ranged",
          "Ranged",
          "Ranged",
          "Ranged",
          "Ranged",
          "Ranged",
          "Ranged",
          "Ranged",
          "Ranged",
          "Ranged",
          "Ranged",
          "Ranged",
          "Ranged",
          "Ranged",
          "Ranged",
          "Ranged",
          "Ranged",
          "Ranged",
          "Ranged",
          "Ranged",
          "Ranged",
          "Ranged",
          "Ranged",
          "Ranged",
          "Ranged"
         ],
         "x0": " ",
         "xaxis": "x",
         "y": [
          51.78,
          48.93,
          50.44,
          48.64,
          45.74,
          49.39,
          51.47,
          51.28,
          47.61,
          49.08,
          50.94,
          46.55,
          48.11,
          49.98,
          40.72,
          51.16,
          55.15,
          50.57,
          48.8,
          51.77,
          49.99,
          46.24,
          48.71,
          49.73,
          50.43,
          52.88,
          49.14,
          54.39,
          52.15,
          47.43,
          49.69
         ],
         "y0": " ",
         "yaxis": "y"
        },
        {
         "alignmentgroup": "True",
         "boxpoints": "all",
         "customdata": [
          [
           "Anti-Mage"
          ],
          [
           "Arc Warden"
          ],
          [
           "Bloodseeker"
          ],
          [
           "Bounty Hunter"
          ],
          [
           "Clinkz"
          ],
          [
           "Drow Ranger"
          ],
          [
           "Ember Spirit"
          ],
          [
           "Faceless Void"
          ],
          [
           "Gyrocopter"
          ],
          [
           "Hoodwink"
          ],
          [
           "Juggernaut"
          ],
          [
           "Luna"
          ],
          [
           "Medusa"
          ],
          [
           "Meepo"
          ],
          [
           "Monkey King"
          ],
          [
           "Morphling"
          ],
          [
           "Naga Siren"
          ],
          [
           "Phantom Assassin"
          ],
          [
           "Phantom Lancer"
          ],
          [
           "Razor"
          ],
          [
           "Riki"
          ],
          [
           "Shadow Fiend"
          ],
          [
           "Slark"
          ],
          [
           "Sniper"
          ],
          [
           "Spectre"
          ],
          [
           "Templar Assassin"
          ],
          [
           "Terrorblade"
          ],
          [
           "Troll Warlord"
          ],
          [
           "Ursa"
          ],
          [
           "Viper"
          ],
          [
           "Weaver"
          ]
         ],
         "hovertemplate": "Name: %{customdata[0]} <br>Divine Win Rate: %{y}",
         "legendgroup": "agi",
         "marker": {
          "color": "green"
         },
         "name": "agi",
         "notched": false,
         "offsetgroup": "agi",
         "orientation": "v",
         "showlegend": true,
         "type": "box",
         "x": [
          "Melee",
          "Ranged",
          "Melee",
          "Melee",
          "Ranged",
          "Ranged",
          "Melee",
          "Melee",
          "Ranged",
          "Ranged",
          "Melee",
          "Ranged",
          "Ranged",
          "Melee",
          "Melee",
          "Ranged",
          "Melee",
          "Melee",
          "Melee",
          "Ranged",
          "Melee",
          "Ranged",
          "Melee",
          "Ranged",
          "Melee",
          "Ranged",
          "Melee",
          "Ranged",
          "Melee",
          "Ranged",
          "Ranged"
         ],
         "x0": " ",
         "xaxis": "x",
         "y": [
          48.01,
          52.18,
          50.44,
          50.87,
          52.71,
          50.7,
          50.23,
          50.31,
          49.22,
          46.3,
          49.35,
          48.3,
          54.1,
          56.55,
          47.4,
          45.74,
          54.83,
          46.49,
          50.84,
          49.22,
          54.66,
          47.51,
          51.25,
          49.23,
          52.25,
          49.15,
          48.45,
          47.2,
          47.93,
          48.49,
          53.47
         ],
         "y0": " ",
         "yaxis": "y"
        }
       ],
       "layout": {
        "boxmode": "group",
        "legend": {
         "title": {
          "text": "Primary Attribute"
         },
         "tracegroupgap": 0
        },
        "template": {
         "data": {
          "bar": [
           {
            "error_x": {
             "color": "#f2f5fa"
            },
            "error_y": {
             "color": "#f2f5fa"
            },
            "marker": {
             "line": {
              "color": "rgb(17,17,17)",
              "width": 0.5
             },
             "pattern": {
              "fillmode": "overlay",
              "size": 10,
              "solidity": 0.2
             }
            },
            "type": "bar"
           }
          ],
          "barpolar": [
           {
            "marker": {
             "line": {
              "color": "rgb(17,17,17)",
              "width": 0.5
             },
             "pattern": {
              "fillmode": "overlay",
              "size": 10,
              "solidity": 0.2
             }
            },
            "type": "barpolar"
           }
          ],
          "carpet": [
           {
            "aaxis": {
             "endlinecolor": "#A2B1C6",
             "gridcolor": "#506784",
             "linecolor": "#506784",
             "minorgridcolor": "#506784",
             "startlinecolor": "#A2B1C6"
            },
            "baxis": {
             "endlinecolor": "#A2B1C6",
             "gridcolor": "#506784",
             "linecolor": "#506784",
             "minorgridcolor": "#506784",
             "startlinecolor": "#A2B1C6"
            },
            "type": "carpet"
           }
          ],
          "choropleth": [
           {
            "colorbar": {
             "outlinewidth": 0,
             "ticks": ""
            },
            "type": "choropleth"
           }
          ],
          "contour": [
           {
            "colorbar": {
             "outlinewidth": 0,
             "ticks": ""
            },
            "colorscale": [
             [
              0,
              "#0d0887"
             ],
             [
              0.1111111111111111,
              "#46039f"
             ],
             [
              0.2222222222222222,
              "#7201a8"
             ],
             [
              0.3333333333333333,
              "#9c179e"
             ],
             [
              0.4444444444444444,
              "#bd3786"
             ],
             [
              0.5555555555555556,
              "#d8576b"
             ],
             [
              0.6666666666666666,
              "#ed7953"
             ],
             [
              0.7777777777777778,
              "#fb9f3a"
             ],
             [
              0.8888888888888888,
              "#fdca26"
             ],
             [
              1,
              "#f0f921"
             ]
            ],
            "type": "contour"
           }
          ],
          "contourcarpet": [
           {
            "colorbar": {
             "outlinewidth": 0,
             "ticks": ""
            },
            "type": "contourcarpet"
           }
          ],
          "heatmap": [
           {
            "colorbar": {
             "outlinewidth": 0,
             "ticks": ""
            },
            "colorscale": [
             [
              0,
              "#0d0887"
             ],
             [
              0.1111111111111111,
              "#46039f"
             ],
             [
              0.2222222222222222,
              "#7201a8"
             ],
             [
              0.3333333333333333,
              "#9c179e"
             ],
             [
              0.4444444444444444,
              "#bd3786"
             ],
             [
              0.5555555555555556,
              "#d8576b"
             ],
             [
              0.6666666666666666,
              "#ed7953"
             ],
             [
              0.7777777777777778,
              "#fb9f3a"
             ],
             [
              0.8888888888888888,
              "#fdca26"
             ],
             [
              1,
              "#f0f921"
             ]
            ],
            "type": "heatmap"
           }
          ],
          "heatmapgl": [
           {
            "colorbar": {
             "outlinewidth": 0,
             "ticks": ""
            },
            "colorscale": [
             [
              0,
              "#0d0887"
             ],
             [
              0.1111111111111111,
              "#46039f"
             ],
             [
              0.2222222222222222,
              "#7201a8"
             ],
             [
              0.3333333333333333,
              "#9c179e"
             ],
             [
              0.4444444444444444,
              "#bd3786"
             ],
             [
              0.5555555555555556,
              "#d8576b"
             ],
             [
              0.6666666666666666,
              "#ed7953"
             ],
             [
              0.7777777777777778,
              "#fb9f3a"
             ],
             [
              0.8888888888888888,
              "#fdca26"
             ],
             [
              1,
              "#f0f921"
             ]
            ],
            "type": "heatmapgl"
           }
          ],
          "histogram": [
           {
            "marker": {
             "pattern": {
              "fillmode": "overlay",
              "size": 10,
              "solidity": 0.2
             }
            },
            "type": "histogram"
           }
          ],
          "histogram2d": [
           {
            "colorbar": {
             "outlinewidth": 0,
             "ticks": ""
            },
            "colorscale": [
             [
              0,
              "#0d0887"
             ],
             [
              0.1111111111111111,
              "#46039f"
             ],
             [
              0.2222222222222222,
              "#7201a8"
             ],
             [
              0.3333333333333333,
              "#9c179e"
             ],
             [
              0.4444444444444444,
              "#bd3786"
             ],
             [
              0.5555555555555556,
              "#d8576b"
             ],
             [
              0.6666666666666666,
              "#ed7953"
             ],
             [
              0.7777777777777778,
              "#fb9f3a"
             ],
             [
              0.8888888888888888,
              "#fdca26"
             ],
             [
              1,
              "#f0f921"
             ]
            ],
            "type": "histogram2d"
           }
          ],
          "histogram2dcontour": [
           {
            "colorbar": {
             "outlinewidth": 0,
             "ticks": ""
            },
            "colorscale": [
             [
              0,
              "#0d0887"
             ],
             [
              0.1111111111111111,
              "#46039f"
             ],
             [
              0.2222222222222222,
              "#7201a8"
             ],
             [
              0.3333333333333333,
              "#9c179e"
             ],
             [
              0.4444444444444444,
              "#bd3786"
             ],
             [
              0.5555555555555556,
              "#d8576b"
             ],
             [
              0.6666666666666666,
              "#ed7953"
             ],
             [
              0.7777777777777778,
              "#fb9f3a"
             ],
             [
              0.8888888888888888,
              "#fdca26"
             ],
             [
              1,
              "#f0f921"
             ]
            ],
            "type": "histogram2dcontour"
           }
          ],
          "mesh3d": [
           {
            "colorbar": {
             "outlinewidth": 0,
             "ticks": ""
            },
            "type": "mesh3d"
           }
          ],
          "parcoords": [
           {
            "line": {
             "colorbar": {
              "outlinewidth": 0,
              "ticks": ""
             }
            },
            "type": "parcoords"
           }
          ],
          "pie": [
           {
            "automargin": true,
            "type": "pie"
           }
          ],
          "scatter": [
           {
            "marker": {
             "line": {
              "color": "#283442"
             }
            },
            "type": "scatter"
           }
          ],
          "scatter3d": [
           {
            "line": {
             "colorbar": {
              "outlinewidth": 0,
              "ticks": ""
             }
            },
            "marker": {
             "colorbar": {
              "outlinewidth": 0,
              "ticks": ""
             }
            },
            "type": "scatter3d"
           }
          ],
          "scattercarpet": [
           {
            "marker": {
             "colorbar": {
              "outlinewidth": 0,
              "ticks": ""
             }
            },
            "type": "scattercarpet"
           }
          ],
          "scattergeo": [
           {
            "marker": {
             "colorbar": {
              "outlinewidth": 0,
              "ticks": ""
             }
            },
            "type": "scattergeo"
           }
          ],
          "scattergl": [
           {
            "marker": {
             "line": {
              "color": "#283442"
             }
            },
            "type": "scattergl"
           }
          ],
          "scattermapbox": [
           {
            "marker": {
             "colorbar": {
              "outlinewidth": 0,
              "ticks": ""
             }
            },
            "type": "scattermapbox"
           }
          ],
          "scatterpolar": [
           {
            "marker": {
             "colorbar": {
              "outlinewidth": 0,
              "ticks": ""
             }
            },
            "type": "scatterpolar"
           }
          ],
          "scatterpolargl": [
           {
            "marker": {
             "colorbar": {
              "outlinewidth": 0,
              "ticks": ""
             }
            },
            "type": "scatterpolargl"
           }
          ],
          "scatterternary": [
           {
            "marker": {
             "colorbar": {
              "outlinewidth": 0,
              "ticks": ""
             }
            },
            "type": "scatterternary"
           }
          ],
          "surface": [
           {
            "colorbar": {
             "outlinewidth": 0,
             "ticks": ""
            },
            "colorscale": [
             [
              0,
              "#0d0887"
             ],
             [
              0.1111111111111111,
              "#46039f"
             ],
             [
              0.2222222222222222,
              "#7201a8"
             ],
             [
              0.3333333333333333,
              "#9c179e"
             ],
             [
              0.4444444444444444,
              "#bd3786"
             ],
             [
              0.5555555555555556,
              "#d8576b"
             ],
             [
              0.6666666666666666,
              "#ed7953"
             ],
             [
              0.7777777777777778,
              "#fb9f3a"
             ],
             [
              0.8888888888888888,
              "#fdca26"
             ],
             [
              1,
              "#f0f921"
             ]
            ],
            "type": "surface"
           }
          ],
          "table": [
           {
            "cells": {
             "fill": {
              "color": "#506784"
             },
             "line": {
              "color": "rgb(17,17,17)"
             }
            },
            "header": {
             "fill": {
              "color": "#2a3f5f"
             },
             "line": {
              "color": "rgb(17,17,17)"
             }
            },
            "type": "table"
           }
          ]
         },
         "layout": {
          "annotationdefaults": {
           "arrowcolor": "#f2f5fa",
           "arrowhead": 0,
           "arrowwidth": 1
          },
          "autotypenumbers": "strict",
          "coloraxis": {
           "colorbar": {
            "outlinewidth": 0,
            "ticks": ""
           }
          },
          "colorscale": {
           "diverging": [
            [
             0,
             "#8e0152"
            ],
            [
             0.1,
             "#c51b7d"
            ],
            [
             0.2,
             "#de77ae"
            ],
            [
             0.3,
             "#f1b6da"
            ],
            [
             0.4,
             "#fde0ef"
            ],
            [
             0.5,
             "#f7f7f7"
            ],
            [
             0.6,
             "#e6f5d0"
            ],
            [
             0.7,
             "#b8e186"
            ],
            [
             0.8,
             "#7fbc41"
            ],
            [
             0.9,
             "#4d9221"
            ],
            [
             1,
             "#276419"
            ]
           ],
           "sequential": [
            [
             0,
             "#0d0887"
            ],
            [
             0.1111111111111111,
             "#46039f"
            ],
            [
             0.2222222222222222,
             "#7201a8"
            ],
            [
             0.3333333333333333,
             "#9c179e"
            ],
            [
             0.4444444444444444,
             "#bd3786"
            ],
            [
             0.5555555555555556,
             "#d8576b"
            ],
            [
             0.6666666666666666,
             "#ed7953"
            ],
            [
             0.7777777777777778,
             "#fb9f3a"
            ],
            [
             0.8888888888888888,
             "#fdca26"
            ],
            [
             1,
             "#f0f921"
            ]
           ],
           "sequentialminus": [
            [
             0,
             "#0d0887"
            ],
            [
             0.1111111111111111,
             "#46039f"
            ],
            [
             0.2222222222222222,
             "#7201a8"
            ],
            [
             0.3333333333333333,
             "#9c179e"
            ],
            [
             0.4444444444444444,
             "#bd3786"
            ],
            [
             0.5555555555555556,
             "#d8576b"
            ],
            [
             0.6666666666666666,
             "#ed7953"
            ],
            [
             0.7777777777777778,
             "#fb9f3a"
            ],
            [
             0.8888888888888888,
             "#fdca26"
            ],
            [
             1,
             "#f0f921"
            ]
           ]
          },
          "colorway": [
           "#636efa",
           "#EF553B",
           "#00cc96",
           "#ab63fa",
           "#FFA15A",
           "#19d3f3",
           "#FF6692",
           "#B6E880",
           "#FF97FF",
           "#FECB52"
          ],
          "font": {
           "color": "#f2f5fa"
          },
          "geo": {
           "bgcolor": "rgb(17,17,17)",
           "lakecolor": "rgb(17,17,17)",
           "landcolor": "rgb(17,17,17)",
           "showlakes": true,
           "showland": true,
           "subunitcolor": "#506784"
          },
          "hoverlabel": {
           "align": "left"
          },
          "hovermode": "closest",
          "mapbox": {
           "style": "dark"
          },
          "paper_bgcolor": "rgb(17,17,17)",
          "plot_bgcolor": "rgb(17,17,17)",
          "polar": {
           "angularaxis": {
            "gridcolor": "#506784",
            "linecolor": "#506784",
            "ticks": ""
           },
           "bgcolor": "rgb(17,17,17)",
           "radialaxis": {
            "gridcolor": "#506784",
            "linecolor": "#506784",
            "ticks": ""
           }
          },
          "scene": {
           "xaxis": {
            "backgroundcolor": "rgb(17,17,17)",
            "gridcolor": "#506784",
            "gridwidth": 2,
            "linecolor": "#506784",
            "showbackground": true,
            "ticks": "",
            "zerolinecolor": "#C8D4E3"
           },
           "yaxis": {
            "backgroundcolor": "rgb(17,17,17)",
            "gridcolor": "#506784",
            "gridwidth": 2,
            "linecolor": "#506784",
            "showbackground": true,
            "ticks": "",
            "zerolinecolor": "#C8D4E3"
           },
           "zaxis": {
            "backgroundcolor": "rgb(17,17,17)",
            "gridcolor": "#506784",
            "gridwidth": 2,
            "linecolor": "#506784",
            "showbackground": true,
            "ticks": "",
            "zerolinecolor": "#C8D4E3"
           }
          },
          "shapedefaults": {
           "line": {
            "color": "#f2f5fa"
           }
          },
          "sliderdefaults": {
           "bgcolor": "#C8D4E3",
           "bordercolor": "rgb(17,17,17)",
           "borderwidth": 1,
           "tickwidth": 0
          },
          "ternary": {
           "aaxis": {
            "gridcolor": "#506784",
            "linecolor": "#506784",
            "ticks": ""
           },
           "baxis": {
            "gridcolor": "#506784",
            "linecolor": "#506784",
            "ticks": ""
           },
           "bgcolor": "rgb(17,17,17)",
           "caxis": {
            "gridcolor": "#506784",
            "linecolor": "#506784",
            "ticks": ""
           }
          },
          "title": {
           "x": 0.05
          },
          "updatemenudefaults": {
           "bgcolor": "#506784",
           "borderwidth": 0
          },
          "xaxis": {
           "automargin": true,
           "gridcolor": "#283442",
           "linecolor": "#506784",
           "ticks": "",
           "title": {
            "standoff": 15
           },
           "zerolinecolor": "#283442",
           "zerolinewidth": 2
          },
          "yaxis": {
           "automargin": true,
           "gridcolor": "#283442",
           "linecolor": "#506784",
           "ticks": "",
           "title": {
            "standoff": 15
           },
           "zerolinecolor": "#283442",
           "zerolinewidth": 2
          }
         }
        },
        "title": {
         "text": "attack_type, Divine Win Rate Correlation."
        },
        "xaxis": {
         "anchor": "y",
         "domain": [
          0,
          1
         ],
         "title": {
          "text": "attack_type"
         }
        },
        "yaxis": {
         "anchor": "x",
         "domain": [
          0,
          1
         ],
         "title": {
          "text": "Divine Win Rate"
         }
        }
       }
      }
     },
     "metadata": {},
     "output_type": "display_data"
    }
   ],
   "source": [
    "def type_corr_winrate(df, target_col, feature_col1, feature_col2):\n",
    "    \n",
    "    color_map = {'str': 'red', 'int': 'blue', 'agi': 'green', 'all': 'purple'}\n",
    "    df['Color'] = df[feature_col1].map(color_map)\n",
    "    fig = px.box(df, x=feature_col2, y=target_col, points='all', title=f'{feature_col2}, {target_col} Correlation.',\n",
    "                 hover_data=['Name', target_col],\n",
    "                 color=feature_col1, color_discrete_map=color_map)\n",
    "    \n",
    "    fig.update_layout(template='plotly_dark', yaxis_title=target_col)\n",
    "\n",
    "    fig.update_traces(hovertemplate='Name: %{customdata[0]} <br>Divine Win Rate: %{y}')\n",
    "    \n",
    "    fig.show()\n",
    "\n",
    "type_corr_winrate (df, 'Divine Win Rate', 'Primary Attribute','attack_type')"
   ]
  },
  {
   "cell_type": "code",
   "execution_count": 8,
   "metadata": {},
   "outputs": [
    {
     "name": "stdout",
     "output_type": "stream",
     "text": [
      "Attack Type, Divine Win Rate Correlation: -0.005849717459672492\n"
     ]
    }
   ],
   "source": [
    "filtered_df = df[df['attack_type'] != 'int']\n",
    "\n",
    "label_encoder = LabelEncoder()\n",
    "\n",
    "df['attack_type_encoded'] = label_encoder.fit_transform(df['attack_type'])\n",
    "\n",
    "correlation = df['attack_type_encoded'].corr(df['Divine Win Rate'])\n",
    "\n",
    "print(f\"Attack Type, Divine Win Rate Correlation: {correlation}\")\n",
    "\n"
   ]
  },
  {
   "cell_type": "code",
   "execution_count": 9,
   "metadata": {},
   "outputs": [
    {
     "name": "stdout",
     "output_type": "stream",
     "text": [
      "Melee data length: 30\n",
      "Ranged data length: 32\n",
      "Mann-Whitney U Statistic: 478.5\n",
      "P-value: 0.9887611631235608\n",
      "Fail to reject the null hypothesis: There is no significant difference between Melee and Ranged heroes.\n"
     ]
    }
   ],
   "source": [
    "filtered_df = df[(df['Primary Attribute'] != 'int') & (df['Primary Attribute'] != 'str')]\n",
    "\n",
    "filtered_df.loc[:, 'attribute_attack_type'] = filtered_df['Primary Attribute'] + '_' + filtered_df['attack_type']\n",
    "\n",
    "melee_data = filtered_df[filtered_df['attack_type'] == 'Melee'] ['Divine Win Rate']\n",
    "ranged_data = filtered_df[filtered_df['attack_type'] == 'Ranged'] ['Divine Win Rate']\n",
    "\n",
    "print(f\"Melee data length: {len(melee_data)}\")\n",
    "print(f\"Ranged data length: {len(ranged_data)}\")\n",
    "\n",
    "statistic, p_value = mannwhitneyu(melee_data, ranged_data)\n",
    "\n",
    "alpha = 0.01\n",
    "\n",
    "print(f\"Mann-Whitney U Statistic: {statistic}\")\n",
    "print(f\"P-value: {p_value}\")\n",
    "\n",
    "if p_value < alpha:\n",
    "    print(\"Reject the null hypothesis: There is a significant difference between Melee and Ranged heroes.\")\n",
    "else:\n",
    "    print(\"Fail to reject the null hypothesis: There is no significant difference between Melee and Ranged heroes.\")\n"
   ]
  },
  {
   "cell_type": "code",
   "execution_count": 10,
   "metadata": {},
   "outputs": [
    {
     "data": {
      "image/png": "[encoded data removed]",
      "text/plain": [
       "<Figure size 640x480 with 1 Axes>"
      ]
     },
     "metadata": {},
     "output_type": "display_data"
    }
   ],
   "source": [
    "role_win_rates = {}\n",
    "\n",
    "for _, row in df.iterrows():\n",
    "    roles = row['roles'].split(', ')\n",
    "    win_rate = row['Divine Win Rate']\n",
    "\n",
    "    for role in roles:\n",
    "        role = role.strip()\n",
    "        if role not in role_win_rates:\n",
    "            role_win_rates[role] = {'win_rates': [], 'count': 0}\n",
    "        role_win_rates[role]['win_rates'].append(win_rate)\n",
    "        role_win_rates[role]['count'] += 1\n",
    "\n",
    "unique_roles = list(set(role for role in role_win_rates.keys()))\n",
    "\n",
    "mean_win_rates = [sum(role_win_rates[role]['win_rates']) / role_win_rates[role]['count']\n",
    "                  for role in unique_roles]\n",
    "\n",
    "num_unique_roles = len(unique_roles)\n",
    "\n",
    "theta = np.linspace(0, 2*np.pi, num_unique_roles, endpoint=False)\n",
    "\n",
    "fig, ax = plt.subplots(subplot_kw={'projection': 'polar'})\n",
    "\n",
    "ax.set_rgrids([0.2, 0.4, 0.6, 0.8])\n",
    "\n",
    "ax.set_xticks(theta)\n",
    "ax.set_xticklabels(unique_roles)\n",
    "\n",
    "ax.plot(theta, mean_win_rates, color='DarkBlue', marker='o', label='Mean Divine Win Rate')\n",
    "ax.fill(theta, mean_win_rates, facecolor='DarkBlue', alpha=0.25)\n",
    "\n",
    "ax.set_title('Mean Correlation between Roles and Immortal Win Rate', weight='bold', size='small', position=(0.5, 1.1),\n",
    "             horizontalalignment='right', verticalalignment='bottom')\n",
    "ax.legend(loc='upper left')\n",
    "\n",
    "plt.show()\n"
   ]
  },
  {
   "cell_type": "code",
   "execution_count": null,
   "metadata": {},
   "outputs": [],
   "source": [
    "# # No Correlation whatsoever between heroes stats and Win Rate in Divine bracket, it's all about player skill level."
   ]
  }
 ],
 "metadata": {
  "kernelspec": {
   "display_name": "Python 3",
   "language": "python",
   "name": "python3"
  },
  "language_info": {
   "codemirror_mode": {
    "name": "ipython",
    "version": 3
   },
   "file_extension": ".py",
   "mimetype": "text/x-python",
   "name": "python",
   "nbconvert_exporter": "python",
   "pygments_lexer": "ipython3",
   "version": "3.12.0"
  },
  "orig_nbformat": 4
 },
 "nbformat": 4,
 "nbformat_minor": 2
}
